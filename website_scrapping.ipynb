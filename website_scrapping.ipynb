{
 "cells": [
  {
   "cell_type": "code",
   "execution_count": 28,
   "metadata": {},
   "outputs": [
    {
     "name": "stdout",
     "output_type": "stream",
     "text": [
      "Requirement already satisfied: beautifulsoup4 in /Users/rhessa/miniconda3/envs/astrobio/lib/python3.7/site-packages (4.11.1)\n",
      "Requirement already satisfied: soupsieve>1.2 in /Users/rhessa/miniconda3/envs/astrobio/lib/python3.7/site-packages (from beautifulsoup4) (2.3.1)\n",
      "Note: you may need to restart the kernel to use updated packages.\n"
     ]
    }
   ],
   "source": [
    "pip install beautifulsoup4"
   ]
  },
  {
   "cell_type": "code",
   "execution_count": 29,
   "metadata": {},
   "outputs": [
    {
     "name": "stdout",
     "output_type": "stream",
     "text": [
      "link1 https://www.sciencenews.org/subscription\n",
      "link1 https://www.sciencenews.org/topic/animals\n",
      "link1 https://www.sciencenews.org/topic/animals\n",
      "link1 https://www.sciencenews.org/topic/paleontology\n",
      "link1 https://www.sciencenews.org/topic/humans\n",
      "link1 https://www.sciencenews.org/topic/animals\n",
      "link1 https://www.sciencenews.org/topic/health-medicine\n",
      "link1 https://www.sciencenews.org/topic/climate\n",
      "link1 https://www.sciencenews.org/topic/earth\n",
      "link1 https://www.sciencenews.org/topic/climate\n",
      "link1 https://www.sciencenews.org/topic/planetary-science\n",
      "link1 https://www.sciencenews.org/topic/astronomy\n",
      "link1 https://www.sciencenews.org/topic/science-society\n",
      "link1 https://www.sciencenews.org/topic/physics\n",
      "link1 https://www.sciencenews.org/topic/physics\n",
      "link1 https://www.sciencenews.org/topic/chemistry\n",
      "link1 https://www.sciencenews.org/topic/planetary-science\n",
      "link1 https://www.sciencenews.org/topic/astronomy\n",
      "link1 https://www.sciencenews.org/topic/science-society\n",
      "link1 https://www.sciencenews.org/topic/astronomy\n",
      "link1 https://www.sciencenews.org/topic/astronomy\n",
      "link1 https://www.sciencenews.org/topic/astronomy\n",
      "link1 https://www.sciencenews.org/topic/astronomy\n",
      "link1 https://www.sciencenews.org/topic/astronomy\n",
      "link1 https://www.sciencenews.org/topic/astronomy\n",
      "link1 https://www.sciencenews.org/topic/cosmology\n",
      "link1 https://www.sciencenews.org/topic/astronomy\n",
      "link1 https://www.sciencenews.org/topic/astronomy\n",
      "link1 https://www.sciencenews.org/article/genetics-chernobyl-dogs-revealed\n",
      "link1 https://www.sciencenews.org/topic/animals\n",
      "link1 https://www.sciencenews.org/topic/climate\n",
      "link1 https://www.sciencenews.org/topic/animals\n",
      "link1 /subscription?utm_source=sciencenews&utm_medium=footer&utm_campaign=sn-footer&tfa_3134=sn-footer\n",
      "link1 /subscription?utm_source=sciencenews&utm_medium=footer&utm_campaign=sn-footer&tfa_3134=sn-footer\n",
      "link1 /subscription?utm_source=sciencenews&utm_medium=footer&utm_campaign=sn-footer&tfa_3134=sn-footer\n"
     ]
    }
   ],
   "source": [
    "# Cell scrapes website for space.com headlines and outputs to the headlines.txt file \n",
    "import requests\n",
    "from bs4 import BeautifulSoup\n",
    "import re\n",
    "\n",
    "\n",
    "with open('sources.txt') as s:\n",
    "    for line in s:\n",
    "        urls_h3 = [elt.strip() for elt in line.split(',')]\n",
    "        # in alternative, if you need to use the file content as numbers\n",
    "        # inner_list = [int(elt.strip()) for elt in line.split(',')]\n",
    "links = []\n",
    "#values = []\n",
    "f = open('headlines.txt', 'w')\n",
    "l = open('links.txt', 'w')\n",
    "if urls_h3[0]:\n",
    "    url = urls_h3[0]\n",
    "    response = requests.get(url)\n",
    "\n",
    "    soup = BeautifulSoup(response.text, 'html.parser')\n",
    "    #print(soup)\n",
    "    headlines = soup.find('body').find_all('h3')\n",
    "    #links = soup.find_all('a', attrs={'href': re.compile(\"^https://\")})\n",
    "    #for link in soup.find_all('a', \n",
    "                          #attrs={'href': re.compile(\"^https://\")}):\n",
    "        #links.append(link.get('href'))  \n",
    "\n",
    "    for x in headlines:\n",
    "        current_headline = x.text.strip()\n",
    "        containers = x.find_parents('div')\n",
    "        for container in containers:\n",
    "            for child in container.find_all('a'):\n",
    "                if 'href' in child.attrs:\n",
    "                    value = str(child['href'])\n",
    "                    break\n",
    "            else:\n",
    "                continue\n",
    "            break\n",
    "        if value:\n",
    "            l.write(str(value))\n",
    "            l.write('\\n')\n",
    "        f.write(current_headline)\n",
    "        f.write('\\t')\n",
    "        f.write('\\n')\n",
    "# Gonna edit this to align with each website, can't generalize\n",
    "if urls_h3[1]:\n",
    "    url = urls_h3[1]\n",
    "    response = requests.get(url)\n",
    "\n",
    "    soup = BeautifulSoup(response.text, 'html.parser')\n",
    "    #print(soup)\n",
    "    headlines = soup.find('body').find_all('h3')\n",
    "\n",
    "    for x in headlines:\n",
    "        current_headline = x.text.strip()\n",
    "        containers = x.find_parents('div')\n",
    "        for container in containers:\n",
    "            for child in container.find_all('a'):\n",
    "                if 'href' in child.attrs:\n",
    "                    value = str(child['href'])\n",
    "                    print('link1', value)\n",
    "                    break\n",
    "            else:\n",
    "                continue\n",
    "            break\n",
    "        if value:\n",
    "            l.write(str(value))\n",
    "            l.write('\\n')\n",
    "        f.write(current_headline)\n",
    "        f.write('\\t')\n",
    "        f.write('\\n')\n",
    "    "
   ]
  },
  {
   "cell_type": "code",
   "execution_count": null,
   "metadata": {},
   "outputs": [],
   "source": []
  }
 ],
 "metadata": {
  "kernelspec": {
   "display_name": "Python 3",
   "language": "python",
   "name": "python3"
  },
  "language_info": {
   "codemirror_mode": {
    "name": "ipython",
    "version": 3
   },
   "file_extension": ".py",
   "mimetype": "text/x-python",
   "name": "python",
   "nbconvert_exporter": "python",
   "pygments_lexer": "ipython3",
   "version": "3.7.13"
  },
  "orig_nbformat": 4
 },
 "nbformat": 4,
 "nbformat_minor": 2
}
