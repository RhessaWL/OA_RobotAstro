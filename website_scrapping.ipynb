{
 "cells": [
  {
   "cell_type": "code",
   "execution_count": null,
   "metadata": {},
   "outputs": [],
   "source": [
    "pip install beautifulsoup4"
   ]
  },
  {
   "cell_type": "code",
   "execution_count": null,
   "metadata": {},
   "outputs": [],
   "source": [
    "# Cell scrapes website for headlines and outputs to the headlines.txt file \n",
    "import requests\n",
    "from bs4 import BeautifulSoup\n",
    "\n",
    "urls_h3 = ['https://www.space.com/science-astronomy', \n",
    "        'https://www.sciencenews.org/topic/astronomy', \n",
    "        'https://www.nature.com/natastron/news-and-comment', \n",
    "        'https://phys.org/space-news/']\n",
    "f = open('headlines.txt', 'w')\n",
    "for url in urls_h3:\n",
    "    response = requests.get(url)\n",
    "\n",
    "    soup = BeautifulSoup(response.text, 'html.parser')\n",
    "    headlines = soup.find('body').find_all('h3')\n",
    "\n",
    "    for x in headlines:\n",
    "        current_headline = x.text.strip()\n",
    "        f.write(current_headline)\n",
    "        f.write('\\n')"
   ]
  }
 ],
 "metadata": {
  "language_info": {
   "name": "python"
  },
  "orig_nbformat": 4
 },
 "nbformat": 4,
 "nbformat_minor": 2
}
