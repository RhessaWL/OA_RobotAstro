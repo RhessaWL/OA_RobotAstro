{
 "cells": [
  {
   "cell_type": "code",
   "execution_count": 1,
   "metadata": {},
   "outputs": [
    {
     "name": "stdout",
     "output_type": "stream",
     "text": [
      "Requirement already satisfied: beautifulsoup4 in /Users/rhessa/miniconda3/envs/astrobio/lib/python3.7/site-packages (4.11.1)\n",
      "Requirement already satisfied: soupsieve>1.2 in /Users/rhessa/miniconda3/envs/astrobio/lib/python3.7/site-packages (from beautifulsoup4) (2.3.1)\n",
      "Note: you may need to restart the kernel to use updated packages.\n"
     ]
    }
   ],
   "source": [
    "pip install beautifulsoup4"
   ]
  },
  {
   "cell_type": "code",
   "execution_count": 3,
   "metadata": {},
   "outputs": [],
   "source": [
    "# Cell scrapes website for headlines and outputs to the headlines.txt file \n",
    "import requests\n",
    "from bs4 import BeautifulSoup\n",
    "\n",
    "urls_h3 = ['https://www.space.com/science-astronomy', \n",
    "        'https://www.sciencenews.org/topic/astronomy', \n",
    "        'https://www.nature.com/natastron/news-and-comment', \n",
    "        'https://phys.org/space-news/']\n",
    "f = open('headlines.txt', 'w')\n",
    "for url in urls_h3:\n",
    "    response = requests.get(url)\n",
    "\n",
    "    soup = BeautifulSoup(response.text, 'html.parser')\n",
    "    headlines = soup.find('body').find_all('h3')\n",
    "\n",
    "    for x in headlines:\n",
    "        current_headline = x.text.strip()\n",
    "        f.write(current_headline)\n",
    "        f.write('\\n')"
   ]
  }
 ],
 "metadata": {
  "kernelspec": {
   "display_name": "Python 3",
   "language": "python",
   "name": "python3"
  },
  "language_info": {
   "codemirror_mode": {
    "name": "ipython",
    "version": 3
   },
   "file_extension": ".py",
   "mimetype": "text/x-python",
   "name": "python",
   "nbconvert_exporter": "python",
   "pygments_lexer": "ipython3",
   "version": "3.7.13"
  },
  "orig_nbformat": 4
 },
 "nbformat": 4,
 "nbformat_minor": 2
}
