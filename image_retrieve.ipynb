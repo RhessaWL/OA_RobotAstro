{
 "cells": [
  {
   "cell_type": "code",
   "execution_count": null,
   "metadata": {},
   "outputs": [],
   "source": [
    "%pip install selenium # Install Selenium for feeding the web browser\n",
    "%pip install webdriver-manager # Install webdriver-manager for managing the web driver"
   ]
  },
  {
   "cell_type": "code",
   "execution_count": null,
   "metadata": {},
   "outputs": [],
   "source": [
    "from selenium import webdriver\n",
    "from selenium.webdriver.chrome.service import Service\n",
    "from selenium.webdriver.common.by import By\n",
    "from webdriver_manager.chrome import ChromeDriverManager\n",
    "browser = webdriver.Chrome(service=Service(ChromeDriverManager().install()))"
   ]
  },
  {
   "cell_type": "code",
   "execution_count": null,
   "metadata": {},
   "outputs": [],
   "source": [
    "# Automating locate elements for data retrieving\n",
    "browser.get(data_source)\n",
    "ra = browser.find_element(By.NAME, 'r')\n",
    "de = browser.find_element(By.NAME, 'd')\n",
    "file = browser.find_element(By.XPATH, value=\"//select[@name='f']\")\n",
    "terms = browser.find_element(By.XPATH, value=\"//input[@value='      RETRIEVE IMAGE      ']\")"
   ]
  },
  {
   "cell_type": "code",
   "execution_count": null,
   "metadata": {},
   "outputs": [],
   "source": [
    "# Feed RA-DE to the website\n",
    "ra.send_keys(RA)\n",
    "de.send_keys(DE)\n",
    "file.send_keys(download_type) \n",
    "terms.click()"
   ]
  },
  {
   "cell_type": "code",
   "execution_count": null,
   "metadata": {},
   "outputs": [],
   "source": [
    "#closing the browser\n",
    "#browser.quit()"
   ]
  }
 ],
 "metadata": {
  "language_info": {
   "name": "python"
  },
  "orig_nbformat": 4
 },
 "nbformat": 4,
 "nbformat_minor": 2
}
