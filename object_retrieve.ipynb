{
 "cells": [
  {
   "cell_type": "code",
   "execution_count": 7,
   "metadata": {},
   "outputs": [],
   "source": [
    "import os\n",
    "import operator\n",
    "import numpy as np\n",
    "import astropy\n",
    "from astropy.time import Time\n",
    "from astropy.coordinates import solar_system_ephemeris, EarthLocation\n",
    "from astropy.coordinates import get_body"
   ]
  },
  {
   "cell_type": "code",
   "execution_count": 8,
   "metadata": {},
   "outputs": [],
   "source": [
    "def get_nouns(filename):\n",
    "    nouns = []\n",
    "    with open(filename, 'r') as f:\n",
    "        for line in f:\n",
    "            nouns.append(line.strip())\n",
    "    return nouns"
   ]
  },
  {
   "cell_type": "code",
   "execution_count": 9,
   "metadata": {},
   "outputs": [],
   "source": [
    "t = Time(\"2014-09-22 23:22\") # Observation time\n",
    "loc = EarthLocation.of_site('greenwich') # Observation location\n",
    "\n",
    "SolarSystemBodies = ['sun', 'mercury', 'venus', 'earth', 'moon', 'mars', 'jupiter', 'saturn', 'uranus', 'neptune', 'pluto']"
   ]
  },
  {
   "cell_type": "code",
   "execution_count": 10,
   "metadata": {},
   "outputs": [],
   "source": [
    "def search_object(object):\n",
    "    # Convert to lower case\n",
    "    object = object.lower()\n",
    "    if object in SolarSystemBodies:\n",
    "        # Get the RA and Dec of the object if in solar system\n",
    "        with solar_system_ephemeris.set('builtin'): # Use for solar system bodies\n",
    "            RADe_object = get_body(object, t, loc) \n",
    "            # Get ICRS coordinates\n",
    "            RADe_object = RADe_object.icrs\n",
    "    else:\n",
    "        # A celestial object in ICRS outside the solar system\n",
    "        RADe_object = astropy.coordinates.get_icrs_coordinates(object)\n",
    "    \n",
    "    return RADe_object"
   ]
  },
  {
   "cell_type": "code",
   "execution_count": 13,
   "metadata": {},
   "outputs": [
    {
     "name": "stdout",
     "output_type": "stream",
     "text": [
      "RA =  333.7965585063333\n",
      "DE =  -13.653453396868821\n"
     ]
    }
   ],
   "source": [
    "RADe_object = search_object('sun')\n",
    "RA = RADe_object.ra.deg\n",
    "DE = RADe_object.dec.deg\n",
    "print('RA = ', RA)\n",
    "print('DE = ', DE)"
   ]
  },
  {
   "cell_type": "code",
   "execution_count": 14,
   "metadata": {},
   "outputs": [
    {
     "name": "stdout",
     "output_type": "stream",
     "text": [
      "RA =  204.25383\n",
      "DE =  -29.865761111\n"
     ]
    }
   ],
   "source": [
    "RADe_object = search_object('M83')\n",
    "RA = RADe_object.ra.deg\n",
    "DE = RADe_object.dec.deg\n",
    "print('RA = ', RA)\n",
    "print('DE = ', DE)"
   ]
  },
  {
   "cell_type": "code",
   "execution_count": 15,
   "metadata": {},
   "outputs": [],
   "source": [
    "# %pip install selenium # Install Selenium for feeding the web browser\n",
    "# %pip install webdriver-manager # Install webdriver-manager for managing the web driver"
   ]
  },
  {
   "cell_type": "code",
   "execution_count": 16,
   "metadata": {},
   "outputs": [
    {
     "ename": "ModuleNotFoundError",
     "evalue": "No module named 'selenium'",
     "output_type": "error",
     "traceback": [
      "\u001b[1;31m---------------------------------------------------------------------------\u001b[0m",
      "\u001b[1;31mModuleNotFoundError\u001b[0m                       Traceback (most recent call last)",
      "\u001b[1;32mc:\\Users\\ginny\\projects\\OA_RobotAstro\\object_retrieve.ipynb Cell 8\u001b[0m in \u001b[0;36m<cell line: 1>\u001b[1;34m()\u001b[0m\n\u001b[1;32m----> <a href='vscode-notebook-cell:/c%3A/Users/ginny/projects/OA_RobotAstro/object_retrieve.ipynb#X10sZmlsZQ%3D%3D?line=0'>1</a>\u001b[0m \u001b[39mfrom\u001b[39;00m \u001b[39mselenium\u001b[39;00m \u001b[39mimport\u001b[39;00m webdriver\n\u001b[0;32m      <a href='vscode-notebook-cell:/c%3A/Users/ginny/projects/OA_RobotAstro/object_retrieve.ipynb#X10sZmlsZQ%3D%3D?line=1'>2</a>\u001b[0m \u001b[39mfrom\u001b[39;00m \u001b[39mselenium\u001b[39;00m\u001b[39m.\u001b[39;00m\u001b[39mwebdriver\u001b[39;00m\u001b[39m.\u001b[39;00m\u001b[39mchrome\u001b[39;00m\u001b[39m.\u001b[39;00m\u001b[39mservice\u001b[39;00m \u001b[39mimport\u001b[39;00m Service\n\u001b[0;32m      <a href='vscode-notebook-cell:/c%3A/Users/ginny/projects/OA_RobotAstro/object_retrieve.ipynb#X10sZmlsZQ%3D%3D?line=2'>3</a>\u001b[0m \u001b[39mfrom\u001b[39;00m \u001b[39mwebdriver_manager\u001b[39;00m\u001b[39m.\u001b[39;00m\u001b[39mchrome\u001b[39;00m \u001b[39mimport\u001b[39;00m ChromeDriverManager\n",
      "\u001b[1;31mModuleNotFoundError\u001b[0m: No module named 'selenium'"
     ]
    }
   ],
   "source": [
    "from selenium import webdriver\n",
    "from selenium.webdriver.chrome.service import Service\n",
    "from webdriver_manager.chrome import ChromeDriverManager\n",
    "browser = webdriver.Chrome(service=Service(ChromeDriverManager().install()))"
   ]
  },
  {
   "cell_type": "code",
   "execution_count": null,
   "metadata": {},
   "outputs": [],
   "source": [
    "browser.get(\"https://archive.stsci.edu/cgi-bin/dss_form?target=mars&resolver=SIMBAD\")"
   ]
  }
 ],
 "metadata": {
  "kernelspec": {
   "display_name": "Python 3",
   "language": "python",
   "name": "python3"
  },
  "language_info": {
   "codemirror_mode": {
    "name": "ipython",
    "version": 3
   },
   "file_extension": ".py",
   "mimetype": "text/x-python",
   "name": "python",
   "nbconvert_exporter": "python",
   "pygments_lexer": "ipython3",
   "version": "3.10.4"
  },
  "orig_nbformat": 4
 },
 "nbformat": 4,
 "nbformat_minor": 2
}
