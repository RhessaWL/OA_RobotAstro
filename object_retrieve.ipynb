{
 "cells": [
  {
   "cell_type": "code",
   "execution_count": 1,
   "metadata": {},
   "outputs": [
    {
     "name": "stdout",
     "output_type": "stream",
     "text": [
      "Collecting timezonefinder\n",
      "  Downloading timezonefinder-6.2.0.tar.gz (46.9 MB)\n",
      "     --------------------------------------- 46.9/46.9 MB 11.7 MB/s eta 0:00:00\n",
      "  Installing build dependencies: started\n",
      "  Installing build dependencies: finished with status 'done'\n",
      "  Getting requirements to build wheel: started\n",
      "  Getting requirements to build wheel: finished with status 'done'\n",
      "  Preparing metadata (pyproject.toml): started\n",
      "  Preparing metadata (pyproject.toml): finished with status 'done'\n",
      "Collecting cffi<2,>=1.15.1\n",
      "  Using cached cffi-1.15.1-cp310-cp310-win_amd64.whl (179 kB)\n",
      "Collecting h3<4,>=3.7.6\n",
      "  Downloading h3-3.7.6-cp310-cp310-win_amd64.whl (848 kB)\n",
      "     ------------------------------------- 848.6/848.6 kB 13.5 MB/s eta 0:00:00\n",
      "Requirement already satisfied: numpy<2,>=1.18 in c:\\users\\ginny\\appdata\\local\\programs\\python\\python310\\lib\\site-packages (from timezonefinder) (1.23.4)\n",
      "Collecting setuptools>=65.5\n",
      "  Using cached setuptools-67.7.2-py3-none-any.whl (1.1 MB)\n",
      "Requirement already satisfied: pycparser in c:\\users\\ginny\\appdata\\local\\programs\\python\\python310\\lib\\site-packages (from cffi<2,>=1.15.1->timezonefinder) (2.21)\n",
      "Building wheels for collected packages: timezonefinder\n",
      "  Building wheel for timezonefinder (pyproject.toml): started\n",
      "  Building wheel for timezonefinder (pyproject.toml): finished with status 'done'\n",
      "  Created wheel for timezonefinder: filename=timezonefinder-6.2.0-cp310-cp310-win_amd64.whl size=46890912 sha256=2cc25aea34d667768d17e1eec7bd9fe0f1b1d31ce82faca5eb21548f16e7e0be\n",
      "  Stored in directory: c:\\users\\ginny\\appdata\\local\\pip\\cache\\wheels\\17\\19\\d4\\ae94459b7f74f7e8f171862d1c08adedf9b7c76ddfc514a620\n",
      "Successfully built timezonefinder\n",
      "Installing collected packages: h3, setuptools, cffi, timezonefinder\n",
      "  Attempting uninstall: setuptools\n",
      "    Found existing installation: setuptools 58.1.0\n",
      "    Uninstalling setuptools-58.1.0:\n",
      "      Successfully uninstalled setuptools-58.1.0\n",
      "  Attempting uninstall: cffi\n",
      "    Found existing installation: cffi 1.15.0\n",
      "    Uninstalling cffi-1.15.0:\n",
      "      Successfully uninstalled cffi-1.15.0\n",
      "Successfully installed cffi-1.15.1 h3-3.7.6 setuptools-67.7.2 timezonefinder-6.2.0\n",
      "Note: you may need to restart the kernel to use updated packages.\n"
     ]
    },
    {
     "name": "stderr",
     "output_type": "stream",
     "text": [
      "WARNING: Ignoring invalid distribution -illow (c:\\users\\ginny\\appdata\\local\\programs\\python\\python310\\lib\\site-packages)\n",
      "WARNING: Ignoring invalid distribution -illow (c:\\users\\ginny\\appdata\\local\\programs\\python\\python310\\lib\\site-packages)\n",
      "WARNING: Ignoring invalid distribution -illow (c:\\users\\ginny\\appdata\\local\\programs\\python\\python310\\lib\\site-packages)\n",
      "    WARNING: Ignoring invalid distribution -illow (c:\\users\\ginny\\appdata\\local\\programs\\python\\python310\\lib\\site-packages)\n",
      "    WARNING: Ignoring invalid distribution -illow (c:\\users\\ginny\\appdata\\local\\programs\\python\\python310\\lib\\site-packages)\n",
      "WARNING: Ignoring invalid distribution -illow (c:\\users\\ginny\\appdata\\local\\programs\\python\\python310\\lib\\site-packages)\n",
      "WARNING: Ignoring invalid distribution -illow (c:\\users\\ginny\\appdata\\local\\programs\\python\\python310\\lib\\site-packages)\n",
      "WARNING: Ignoring invalid distribution -illow (c:\\users\\ginny\\appdata\\local\\programs\\python\\python310\\lib\\site-packages)\n",
      "WARNING: Ignoring invalid distribution -illow (c:\\users\\ginny\\appdata\\local\\programs\\python\\python310\\lib\\site-packages)\n",
      "WARNING: Ignoring invalid distribution -illow (c:\\users\\ginny\\appdata\\local\\programs\\python\\python310\\lib\\site-packages)\n",
      "WARNING: Ignoring invalid distribution -illow (c:\\users\\ginny\\appdata\\local\\programs\\python\\python310\\lib\\site-packages)\n",
      "WARNING: Ignoring invalid distribution -illow (c:\\users\\ginny\\appdata\\local\\programs\\python\\python310\\lib\\site-packages)\n",
      "\n",
      "[notice] A new release of pip is available: 23.0.1 -> 23.1.2\n",
      "[notice] To update, run: python.exe -m pip install --upgrade pip\n"
     ]
    }
   ],
   "source": [
    "%pip install timezonefinder"
   ]
  },
  {
   "cell_type": "code",
   "execution_count": 2,
   "metadata": {},
   "outputs": [],
   "source": [
    "import ssl\n",
    "ssl._create_default_https_context = ssl._create_unverified_context"
   ]
  },
  {
   "cell_type": "code",
   "execution_count": 4,
   "metadata": {},
   "outputs": [
    {
     "ename": "ModuleNotFoundError",
     "evalue": "No module named 'astropy'",
     "output_type": "error",
     "traceback": [
      "\u001b[1;31m---------------------------------------------------------------------------\u001b[0m",
      "\u001b[1;31mModuleNotFoundError\u001b[0m                       Traceback (most recent call last)",
      "\u001b[1;32mc:\\Users\\ginny\\Desktop\\Ngan_Razer\\OA_RobotAstro\\object_retrieve.ipynb Cell 3\u001b[0m in \u001b[0;36m<cell line: 4>\u001b[1;34m()\u001b[0m\n\u001b[0;32m      <a href='vscode-notebook-cell:/c%3A/Users/ginny/Desktop/Ngan_Razer/OA_RobotAstro/object_retrieve.ipynb#W2sZmlsZQ%3D%3D?line=1'>2</a>\u001b[0m \u001b[39mimport\u001b[39;00m \u001b[39moperator\u001b[39;00m\n\u001b[0;32m      <a href='vscode-notebook-cell:/c%3A/Users/ginny/Desktop/Ngan_Razer/OA_RobotAstro/object_retrieve.ipynb#W2sZmlsZQ%3D%3D?line=2'>3</a>\u001b[0m \u001b[39mimport\u001b[39;00m \u001b[39mnumpy\u001b[39;00m \u001b[39mas\u001b[39;00m \u001b[39mnp\u001b[39;00m\n\u001b[1;32m----> <a href='vscode-notebook-cell:/c%3A/Users/ginny/Desktop/Ngan_Razer/OA_RobotAstro/object_retrieve.ipynb#W2sZmlsZQ%3D%3D?line=3'>4</a>\u001b[0m \u001b[39mimport\u001b[39;00m \u001b[39mastropy\u001b[39;00m\n\u001b[0;32m      <a href='vscode-notebook-cell:/c%3A/Users/ginny/Desktop/Ngan_Razer/OA_RobotAstro/object_retrieve.ipynb#W2sZmlsZQ%3D%3D?line=4'>5</a>\u001b[0m \u001b[39mfrom\u001b[39;00m \u001b[39mastropy\u001b[39;00m\u001b[39m.\u001b[39;00m\u001b[39mtime\u001b[39;00m \u001b[39mimport\u001b[39;00m Time\n\u001b[0;32m      <a href='vscode-notebook-cell:/c%3A/Users/ginny/Desktop/Ngan_Razer/OA_RobotAstro/object_retrieve.ipynb#W2sZmlsZQ%3D%3D?line=5'>6</a>\u001b[0m \u001b[39mfrom\u001b[39;00m \u001b[39mastropy\u001b[39;00m \u001b[39mimport\u001b[39;00m units \u001b[39mas\u001b[39;00m u\n",
      "\u001b[1;31mModuleNotFoundError\u001b[0m: No module named 'astropy'"
     ]
    }
   ],
   "source": [
    "import os\n",
    "import operator\n",
    "import numpy as np\n",
    "import astropy\n",
    "from astropy.time import Time\n",
    "from astropy import units as u\n",
    "from astropy.coordinates import solar_system_ephemeris, SkyCoord, EarthLocation, AltAz\n",
    "from astropy.coordinates import get_body\n",
    "from datetime import datetime\n",
    "from timezonefinder import TimezoneFinder\n",
    "import pytz"
   ]
  },
  {
   "cell_type": "code",
   "execution_count": null,
   "metadata": {},
   "outputs": [],
   "source": [
    "def get_nouns(filename):\n",
    "    nouns = []\n",
    "    with open(filename, 'r') as f:\n",
    "        for line in f:\n",
    "            nouns.append(line.strip())\n",
    "    return nouns"
   ]
  },
  {
   "cell_type": "code",
   "execution_count": null,
   "metadata": {},
   "outputs": [],
   "source": [
    "def get_object_icrs(time, location, object):\n",
    "    SolarSystemBodies = ['sun', 'mercury', 'venus', 'earth', 'moon', 'mars', 'jupiter', 'saturn', 'uranus', 'neptune', 'pluto']\n",
    "    # Convert to lower case\n",
    "    object = object.lower()\n",
    "    altaz = AltAz(obstime=time, location=location)\n",
    "    if object in SolarSystemBodies:\n",
    "        # Get the RA and Dec of the object if in solar system\n",
    "        with solar_system_ephemeris.set('builtin'): # Use for solar system bodies\n",
    "            RADe_object = get_body(object, time, location) \n",
    "            # Get ICRS coordinates\n",
    "            RADe_object = RADe_object.icrs\n",
    "    else:\n",
    "        # A celestial object in ICRS outside the solar system\n",
    "        RADe_object = SkyCoord.from_name(object)\n",
    "    no_interp = RADe_object.transform_to(altaz)\n",
    "    az = no_interp.az.deg\n",
    "    alt = no_interp.alt.deg\n",
    "    print('Azimuth: ', az)\n",
    "    print('Altitude: ', alt)\n",
    "    # Check if viewable from location\n",
    "    if alt > 0:\n",
    "        print('Object is viewable from location of viewer')\n",
    "    return RADe_object"
   ]
  },
  {
   "cell_type": "code",
   "execution_count": null,
   "metadata": {},
   "outputs": [],
   "source": [
    "# Get location at specific observation site\n",
    "obs_location = EarthLocation.of_address('New York, NY')  #EarthLocation.of_site('greenwich') #\n",
    "# EarthLocation.get_site_names()  if need to see list of sites\n",
    "tz_name = TimezoneFinder().timezone_at(lng=obs_location.lon.degree,\n",
    "                                       lat=obs_location.lat.degree)\n",
    "tz = pytz.timezone(tz_name)\n",
    "# Get time at observatory\n",
    "now = datetime.now(tz)  #\"2022-12-27 10:09:20.430322\" #\n",
    "time = Time(now) # Observation time. Convert to Astropy format"
   ]
  },
  {
   "cell_type": "code",
   "execution_count": null,
   "metadata": {},
   "outputs": [],
   "source": [
    "object = 'M3' # get_nouns(exact_object.txt) -> This needs work\n",
    "download_type = 'gif' # Or 'fits'\n",
    "data_source = \"https://archive.stsci.edu/cgi-bin/dss_form\""
   ]
  },
  {
   "cell_type": "code",
   "execution_count": null,
   "metadata": {},
   "outputs": [
    {
     "name": "stdout",
     "output_type": "stream",
     "text": [
      "Azimuth:  130.86740301515917\n",
      "Altitude:  72.54461707508963\n",
      "Object is viewable from location of viewer\n",
      "RA =  205.548417\n",
      "DE =  28.377278\n"
     ]
    }
   ],
   "source": [
    "for object in objects_list:\n",
    "    RADe_object = get_object_icrs(time, obs_location, object) # Or 'sun' if looking in solar system but sky survey cant retrieve solar system image\n",
    "    RA = RADe_object.ra.deg\n",
    "    RA_ = RADe_object.ra.hour\n",
    "    DE = RADe_object.dec.deg\n",
    "    print('RA = ', RA)\n",
    "    print('RA_ = ', RA_)\n",
    "    print('DE = ', DE)"
   ]
  }
 ],
 "metadata": {
  "kernelspec": {
   "display_name": "Python 3",
   "language": "python",
   "name": "python3"
  },
  "language_info": {
   "codemirror_mode": {
    "name": "ipython",
    "version": 3
   },
   "file_extension": ".py",
   "mimetype": "text/x-python",
   "name": "python",
   "nbconvert_exporter": "python",
   "pygments_lexer": "ipython3",
   "version": "3.10.4"
  },
  "orig_nbformat": 4
 },
 "nbformat": 4,
 "nbformat_minor": 2
}
