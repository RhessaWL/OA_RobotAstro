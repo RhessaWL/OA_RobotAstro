{
 "cells": [
  {
   "cell_type": "code",
   "execution_count": 211,
   "metadata": {},
   "outputs": [],
   "source": [
    "# % pip install timezonefinder"
   ]
  },
  {
   "cell_type": "code",
   "execution_count": 212,
   "metadata": {},
   "outputs": [],
   "source": [
    "import os\n",
    "import operator\n",
    "import numpy as np\n",
    "import astropy\n",
    "from astropy.time import Time\n",
    "from astropy.coordinates import solar_system_ephemeris, EarthLocation\n",
    "from astropy.coordinates import get_body\n",
    "from datetime import datetime\n",
    "from timezonefinder import TimezoneFinder\n",
    "import pytz"
   ]
  },
  {
   "cell_type": "code",
   "execution_count": 213,
   "metadata": {},
   "outputs": [],
   "source": [
    "def get_nouns(filename):\n",
    "    nouns = []\n",
    "    with open(filename, 'r') as f:\n",
    "        for line in f:\n",
    "            nouns.append(line.strip())\n",
    "    return nouns"
   ]
  },
  {
   "cell_type": "code",
   "execution_count": 214,
   "metadata": {},
   "outputs": [],
   "source": [
    "def get_object_icrs(time, location, object):\n",
    "    SolarSystemBodies = ['sun', 'mercury', 'venus', 'earth', 'moon', 'mars', 'jupiter', 'saturn', 'uranus', 'neptune', 'pluto']\n",
    "    # Convert to lower case\n",
    "    object = object.lower()\n",
    "    if object in SolarSystemBodies:\n",
    "        # Get the RA and Dec of the object if in solar system\n",
    "        with solar_system_ephemeris.set('builtin'): # Use for solar system bodies\n",
    "            RADe_object = get_body(object, time, location) \n",
    "            # Get ICRS coordinates\n",
    "            RADe_object = RADe_object.icrs\n",
    "    else:\n",
    "        # A celestial object in ICRS outside the solar system\n",
    "        RADe_object = astropy.coordinates.get_icrs_coordinates(object)\n",
    "    return RADe_object"
   ]
  },
  {
   "cell_type": "code",
   "execution_count": 215,
   "metadata": {},
   "outputs": [],
   "source": [
    "# Get location at specific observation site\n",
    "observe_location = EarthLocation.of_site('greenwich') \n",
    "# EarthLocation.of_address('New York, NY') if use arbitrary addresses\n",
    "# EarthLocation.get_site_names()  if need to see list of sites\n",
    "tz_name = TimezoneFinder().timezone_at(lng=observe_location.lon.degree,\n",
    "                                       lat=observe_location.lat.degree)\n",
    "tz = pytz.timezone(tz_name)\n",
    "now = datetime.now(tz) # Get time at observatory\n",
    "time = Time(now) # Observation time. Convert to Astropy format"
   ]
  },
  {
   "cell_type": "code",
   "execution_count": 217,
   "metadata": {},
   "outputs": [],
   "source": [
    "object = 'M31' # get_nouns(exact_object.txt) -> This needs work\n",
    "download_type = 'gif' # Or 'fits'\n",
    "data_source = \"https://archive.stsci.edu/cgi-bin/dss_form\""
   ]
  },
  {
   "cell_type": "code",
   "execution_count": 218,
   "metadata": {},
   "outputs": [
    {
     "name": "stdout",
     "output_type": "stream",
     "text": [
      "RA =  10.6847083\n",
      "DE =  41.26875\n"
     ]
    }
   ],
   "source": [
    "RADe_object = get_object_icrs(time, observe_location, object) # Or 'sun' if looking in solar system but sky survey cant retrieve solar system image\n",
    "RA = RADe_object.ra.deg\n",
    "DE = RADe_object.dec.deg\n",
    "print('RA = ', RA)\n",
    "print('DE = ', DE)"
   ]
  },
  {
   "cell_type": "code",
   "execution_count": 219,
   "metadata": {},
   "outputs": [],
   "source": [
    "#%pip install selenium # Install Selenium for feeding the web browser\n",
    "#%pip install webdriver-manager # Install webdriver-manager for managing the web driver"
   ]
  },
  {
   "cell_type": "code",
   "execution_count": 220,
   "metadata": {},
   "outputs": [],
   "source": [
    "from selenium import webdriver\n",
    "from selenium.webdriver.chrome.service import Service\n",
    "from selenium.webdriver.common.by import By\n",
    "from webdriver_manager.chrome import ChromeDriverManager\n",
    "browser = webdriver.Chrome(service=Service(ChromeDriverManager().install()))"
   ]
  },
  {
   "cell_type": "code",
   "execution_count": 221,
   "metadata": {},
   "outputs": [],
   "source": [
    "# Automating locate elements for data retrieving\n",
    "browser.get(data_source)\n",
    "ra = browser.find_element(By.NAME, 'r')\n",
    "de = browser.find_element(By.NAME, 'd')\n",
    "file = browser.find_element(By.XPATH, value=\"//select[@name='f']\")\n",
    "terms = browser.find_element(By.XPATH, value=\"//input[@value='      RETRIEVE IMAGE      ']\")"
   ]
  },
  {
   "cell_type": "code",
   "execution_count": 222,
   "metadata": {},
   "outputs": [],
   "source": [
    "# Feed RA-DE to the website\n",
    "ra.send_keys(RA)\n",
    "de.send_keys(DE)\n",
    "file.send_keys(download_type) \n",
    "terms.click()"
   ]
  },
  {
   "cell_type": "code",
   "execution_count": 223,
   "metadata": {},
   "outputs": [],
   "source": [
    "#closing the browser\n",
    "#browser.quit()"
   ]
  }
 ],
 "metadata": {
  "kernelspec": {
   "display_name": "Python 3",
   "language": "python",
   "name": "python3"
  },
  "language_info": {
   "codemirror_mode": {
    "name": "ipython",
    "version": 3
   },
   "file_extension": ".py",
   "mimetype": "text/x-python",
   "name": "python",
   "nbconvert_exporter": "python",
   "pygments_lexer": "ipython3",
   "version": "3.10.4"
  },
  "orig_nbformat": 4
 },
 "nbformat": 4,
 "nbformat_minor": 2
}
