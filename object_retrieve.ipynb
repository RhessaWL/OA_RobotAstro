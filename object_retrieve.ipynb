{
 "cells": [
  {
   "cell_type": "code",
   "execution_count": 95,
   "metadata": {},
   "outputs": [],
   "source": [
    "import os\n",
    "import operator\n",
    "import numpy as np\n",
    "import astropy\n",
    "from astropy.time import Time\n",
    "from astropy.coordinates import solar_system_ephemeris, EarthLocation\n",
    "from astropy.coordinates import get_body"
   ]
  },
  {
   "cell_type": "code",
   "execution_count": 96,
   "metadata": {},
   "outputs": [],
   "source": [
    "def get_nouns(filename):\n",
    "    nouns = []\n",
    "    with open(filename, 'r') as f:\n",
    "        for line in f:\n",
    "            nouns.append(line.strip())\n",
    "    return nouns"
   ]
  },
  {
   "cell_type": "code",
   "execution_count": 97,
   "metadata": {},
   "outputs": [],
   "source": [
    "t = Time(\"2014-09-22 23:22\") # Observation time\n",
    "loc = EarthLocation.of_site('greenwich') # Observation location\n",
    "\n",
    "SolarSystemBodies = ['sun', 'mercury', 'venus', 'earth', 'moon', 'mars', 'jupiter', 'saturn', 'uranus', 'neptune', 'pluto']"
   ]
  },
  {
   "cell_type": "code",
   "execution_count": 98,
   "metadata": {},
   "outputs": [],
   "source": [
    "def search_object(object):\n",
    "    # Convert to lower case\n",
    "    object = object.lower()\n",
    "    if object in SolarSystemBodies:\n",
    "        # Get the RA and Dec of the object if in solar system\n",
    "        with solar_system_ephemeris.set('builtin'): # Use for solar system bodies\n",
    "            RADe_object = get_body(object, t, loc) \n",
    "            # Get ICRS coordinates\n",
    "            RADe_object = RADe_object.icrs\n",
    "    else:\n",
    "        # A celestial object in ICRS outside the solar system\n",
    "        RADe_object = astropy.coordinates.get_icrs_coordinates(object)\n",
    "    return RADe_object"
   ]
  }
 ],
 "metadata": {
  "kernelspec": {
   "display_name": "Python 3",
   "language": "python",
   "name": "python3"
  },
  "language_info": {
   "codemirror_mode": {
    "name": "ipython",
    "version": 3
   },
   "file_extension": ".py",
   "mimetype": "text/x-python",
   "name": "python",
   "nbconvert_exporter": "python",
   "pygments_lexer": "ipython3",
   "version": "3.10.4"
  },
  "orig_nbformat": 4
 },
 "nbformat": 4,
 "nbformat_minor": 2
}
