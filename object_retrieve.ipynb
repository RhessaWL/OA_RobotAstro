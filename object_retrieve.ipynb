{
 "cells": [
  {
   "cell_type": "code",
   "execution_count": 104,
   "metadata": {},
   "outputs": [],
   "source": [
    "import os\n",
    "import operator\n",
    "import numpy as np\n",
    "import astropy\n",
    "from astropy.time import Time\n",
    "from astropy.coordinates import solar_system_ephemeris, EarthLocation\n",
    "from astropy.coordinates import get_body"
   ]
  },
  {
   "cell_type": "code",
   "execution_count": 105,
   "metadata": {},
   "outputs": [],
   "source": [
    "def get_nouns(filename):\n",
    "    nouns = []\n",
    "    with open(filename, 'r') as f:\n",
    "        for line in f:\n",
    "            nouns.append(line.strip())\n",
    "    return nouns"
   ]
  },
  {
   "cell_type": "code",
   "execution_count": 106,
   "metadata": {},
   "outputs": [],
   "source": [
    "t = Time(\"2014-09-22 23:22\") # Observation time\n",
    "loc = EarthLocation.of_site('greenwich') # Observation location\n",
    "\n",
    "SolarSystemBodies = ['sun', 'mercury', 'venus', 'earth', 'moon', 'mars', 'jupiter', 'saturn', 'uranus', 'neptune', 'pluto']"
   ]
  },
  {
   "cell_type": "code",
   "execution_count": 107,
   "metadata": {},
   "outputs": [],
   "source": [
    "def search_object(object):\n",
    "    # Convert to lower case\n",
    "    object = object.lower()\n",
    "    if object in SolarSystemBodies:\n",
    "        # Get the RA and Dec of the object if in solar system\n",
    "        with solar_system_ephemeris.set('builtin'): # Use for solar system bodies\n",
    "            RADe_object = get_body(object, t, loc) \n",
    "            # Get ICRS coordinates\n",
    "            RADe_object = RADe_object.icrs\n",
    "    else:\n",
    "        # A celestial object in ICRS outside the solar system\n",
    "        RADe_object = astropy.coordinates.get_icrs_coordinates(object)\n",
    "    \n",
    "    return RADe_object"
   ]
  },
  {
   "cell_type": "code",
   "execution_count": 108,
   "metadata": {},
   "outputs": [
    {
     "name": "stdout",
     "output_type": "stream",
     "text": [
      "RA =  333.7965585063333\n",
      "DE =  -13.653453396868821\n"
     ]
    }
   ],
   "source": [
    "RADe_object = search_object('sun')\n",
    "RA = RADe_object.ra.deg\n",
    "DE = RADe_object.dec.deg\n",
    "print('RA = ', RA)\n",
    "print('DE = ', DE)"
   ]
  },
  {
   "cell_type": "code",
   "execution_count": 109,
   "metadata": {},
   "outputs": [
    {
     "name": "stdout",
     "output_type": "stream",
     "text": [
      "RA =  205.548417\n",
      "DE =  28.377278\n"
     ]
    }
   ],
   "source": [
    "RADe_object = search_object('M3')\n",
    "RA = RADe_object.ra.deg\n",
    "DE = RADe_object.dec.deg\n",
    "print('RA = ', RA)\n",
    "print('DE = ', DE)"
   ]
  },
  {
   "cell_type": "code",
   "execution_count": 110,
   "metadata": {},
   "outputs": [],
   "source": [
    "# Check if object is vieweable from Northern Hemisphere"
   ]
  },
  {
   "cell_type": "code",
   "execution_count": 111,
   "metadata": {},
   "outputs": [],
   "source": [
    "#%pip install selenium # Install Selenium for feeding the web browser\n",
    "# %pip install webdriver-manager # Install webdriver-manager for managing the web driver"
   ]
  },
  {
   "cell_type": "code",
   "execution_count": 112,
   "metadata": {},
   "outputs": [],
   "source": [
    "import selenium\n",
    "from selenium import webdriver\n",
    "from selenium.webdriver.chrome.service import Service\n",
    "from selenium.webdriver.common.by import By\n",
    "from webdriver_manager.chrome import ChromeDriverManager\n",
    "browser = webdriver.Chrome(service=Service(ChromeDriverManager().install()))"
   ]
  },
  {
   "cell_type": "code",
   "execution_count": 113,
   "metadata": {},
   "outputs": [],
   "source": [
    "browser.get(\"https://archive.stsci.edu/cgi-bin/dss_form\")"
   ]
  },
  {
   "cell_type": "code",
   "execution_count": 114,
   "metadata": {},
   "outputs": [],
   "source": [
    "ra = browser.find_element(By.NAME, 'r')\n",
    "de = browser.find_element(By.NAME, 'd')"
   ]
  },
  {
   "cell_type": "code",
   "execution_count": 115,
   "metadata": {},
   "outputs": [],
   "source": [
    "ra.send_keys(RA)\n",
    "de.send_keys(DE)\n",
    "\n",
    "gif_file = browser.find_element(By.XPATH, value=\"//select[@name='f']\")\n",
    "gif_file.send_keys(\"gif\")"
   ]
  },
  {
   "cell_type": "code",
   "execution_count": 116,
   "metadata": {},
   "outputs": [],
   "source": [
    "terms = browser.find_element(By.XPATH, value=\"//input[@value='      RETRIEVE IMAGE      ']\")\n",
    "terms.click()"
   ]
  },
  {
   "cell_type": "code",
   "execution_count": null,
   "metadata": {},
   "outputs": [],
   "source": [
    "#closing the browser\n",
    "#browser.quit()"
   ]
  }
 ],
 "metadata": {
  "kernelspec": {
   "display_name": "Python 3",
   "language": "python",
   "name": "python3"
  },
  "language_info": {
   "codemirror_mode": {
    "name": "ipython",
    "version": 3
   },
   "file_extension": ".py",
   "mimetype": "text/x-python",
   "name": "python",
   "nbconvert_exporter": "python",
   "pygments_lexer": "ipython3",
   "version": "3.10.4"
  },
  "orig_nbformat": 4
 },
 "nbformat": 4,
 "nbformat_minor": 2
}
