{
  "cells": [
    {
      "cell_type": "code",
      "execution_count": 1,
      "metadata": {
        "colab": {
          "base_uri": "https://localhost:8080/"
        },
        "id": "9PuY42wmYpSg",
        "outputId": "b967817e-02d3-4531-e9e6-b970dfccf6cd"
      },
      "outputs": [
        {
          "name": "stdout",
          "output_type": "stream",
          "text": [
            "eigenvalues: [-1.          1.         -0.5        -0.33333333  0.33333333  0.5       ]\n",
            "stationary: [0.16666667 0.25       0.08333333 0.16666667 0.25       0.08333333]\n",
            "X1e1 = [0.         0.33333333 0.         0.33333333 0.         0.33333333]\n",
            "X2e1e2 = [0.         0.         0.15384615 0.         0.84615385 0.        ]\n",
            "X1X2e1e2 = [0.15384615 0.15384615 0.23076923 0.46153846]\n",
            "X1e1e2 from f * b = [0.         0.30769231 0.         0.23076923 0.         0.46153846]\n",
            "X1e1e2 from joint = [0.         0.30769231 0.         0.23076923 0.         0.46153846]\n"
          ]
        }
      ],
      "source": [
        "# robot localization\n",
        "import numpy as np\n",
        "\n",
        "T = np.array([[0,1/3,0,1/2,0,0],\n",
        "              [1/2,0,1,0,1/3,0],\n",
        "              [0,1/3,0,0,0,0],\n",
        "              [1/2,0,0,0,1/3,0],\n",
        "              [0,1/3,0,1/2,0,1],\n",
        "              [0,0,0,0,1/3,0]])\n",
        "\n",
        "Owall = np.diag([1/2, 1/4, 1/2, 1/4, 0, 1/4])\n",
        "Ohash = np.diag([0, 0, 1/4, 1/4, 1/4, 1/2])\n",
        "\n",
        "v, w = np.linalg.eig(T)\n",
        "pi = w[:,1] / np.sum(w[:,1])\n",
        "print(\"eigenvalues:\", v)\n",
        "print(\"stationary:\", pi)\n",
        "\n",
        "X0 = np.array([0,0,0,0,1,0])\n",
        "X1e1 = Owall@T@X0\n",
        "X1e1 = X1e1 / np.sum(X1e1)\n",
        "print(\"X1e1 =\", X1e1)\n",
        "\n",
        "X2e1e2 = Ohash@T@X1e1\n",
        "X2e1e2 = X2e1e2 / np.sum(X2e1e2)\n",
        "print(\"X2e1e2 =\", X2e1e2)\n",
        "\n",
        "# (E,X1,X2) sequences with nonzero probability: BC, BE, DE, FE\n",
        "BC = T[2,1]\n",
        "BE = T[4,1]\n",
        "DE = T[4,3]\n",
        "FE = T[4,5]\n",
        "joint = np.array([BC,BE,DE,FE])/(BC+BE+DE+FE)\n",
        "print(\"X1X2e1e2 =\", joint)\n",
        "\n",
        "b = T.T@Ohash@np.ones(6)\n",
        "X1e1e2 = X1e1*b/(np.sum(X1e1*b))\n",
        "print(\"X1e1e2 from f * b =\", X1e1e2)\n",
        "print(\"X1e1e2 from joint =\", np.array([0,joint[0]+joint[1],0,joint[2],0,joint[3]]))"
      ]
    },
    {
      "cell_type": "code",
      "execution_count": 2,
      "metadata": {
        "id": "7I3j-JJv-sp7"
      },
      "outputs": [],
      "source": [
        "import numpy as np\n",
        "\n",
        "def read_sentence(f):\n",
        "  sentence = []\n",
        "  while True:\n",
        "    line = f.readline()\n",
        "    if not line or line == '\\n':\n",
        "      return sentence\n",
        "    line = line.strip()\n",
        "    word, tag = line.split(\"\\t\", 1)\n",
        "    sentence.append((word, tag))\n",
        "\n",
        "def read_corpus(file):\n",
        "  f = open(file, 'r', encoding='utf-8')\n",
        "  sentences = []\n",
        "  while True:\n",
        "    sentence = read_sentence(f)\n",
        "    if sentence == []:\n",
        "      return sentences\n",
        "    sentences.append(sentence)\n",
        "\n",
        "POS = ['ADJ', 'ADP', 'ADV', 'AUX', 'CCONJ', 'DET', 'INTJ', 'NOUN', 'NUM', \n",
        "        'PART', 'PRON', 'PROPN', 'PUNCT', 'SCONJ', 'SYM', 'VERB', 'X']"
      ]
    },
    {
      "cell_type": "code",
      "execution_count": 3,
      "metadata": {
        "id": "L-t9IBTb_fXT"
      },
      "outputs": [],
      "source": [
        "def learn_model(data):\n",
        "  num_pos = len(POS)\n",
        "  pos_counts = np.zeros(num_pos)\n",
        "  X0 = np.zeros(num_pos)\n",
        "  Tprob = np.zeros((num_pos,num_pos))\n",
        "  Oprob = {}\n",
        "\n",
        "  for sent in data:\n",
        "    for i in range(len(sent)):\n",
        "      word = sent[i][0]\n",
        "      pos = POS.index(sent[i][1])\n",
        "      pos_counts[pos] += 1\n",
        "\n",
        "      if i == 0: X0[pos] += 1\n",
        "      if i < len(sent)-1:\n",
        "        Tprob[POS.index(sent[i+1][1]), pos] += 1\n",
        "      if word not in Oprob:\n",
        "        Oprob[word] = np.zeros(num_pos)\n",
        "      (Oprob[word])[pos] += 1\n",
        "\n",
        "  X0 = X0 / np.sum(X0)\n",
        "  Tprob = Tprob / np.sum(Tprob, axis=0)\n",
        "  for word, counts in Oprob.items():\n",
        "    Oprob[word] = counts / pos_counts\n",
        "\n",
        "  return X0, Tprob, Oprob"
      ]
    },
    {
      "cell_type": "code",
      "execution_count": 4,
      "metadata": {
        "id": "ATpdBxpBLl4F"
      },
      "outputs": [],
      "source": [
        "def viterbi_forward(X0, Tprobs, Oprobs, obs):\n",
        "  m = X0\n",
        "  pointers = np.zeros((len(obs), len(X0)), dtype='int')\n",
        "  for i in range(len(obs)):\n",
        "    Tm = Tprobs * np.tile(m,(len(X0),1))\n",
        "    m = (Oprobs[obs[i]] if obs[i] in Oprobs else 1) * np.amax(Tm, axis=1)\n",
        "    pointers[i] = np.argmax(Tm, axis=1)\n",
        "  return m, pointers\n",
        "\n",
        "def viterbi_backward(m, pointers):\n",
        "  p = np.argmax(m)\n",
        "  seq = [POS[p]]\n",
        "  for i in range(pointers.shape[0]-1, 0, -1):\n",
        "    p = pointers[i,p]\n",
        "    seq.append(POS[p])\n",
        "  seq.reverse()\n",
        "  return seq"
      ]
    },
    {
      "cell_type": "code",
      "execution_count": 5,
      "metadata": {
        "colab": {
          "base_uri": "https://localhost:8080/"
        },
        "id": "iVyZ_9UfaoyA",
        "outputId": "124e53dd-84e1-4e7a-cbf1-9b6c54a03110"
      },
      "outputs": [
        {
          "name": "stdout",
          "output_type": "stream",
          "text": [
            "Train accuracy: 0.9527044529268305\n",
            "Test accuracy: 0.8832131330437901\n"
          ]
        }
      ],
      "source": [
        "def evaluate_viterbi(X0, T, O, data):\n",
        "  correct = 0\n",
        "  num_words = 0\n",
        "\n",
        "  for sentence in data:\n",
        "    words = [sent[0] for sent in sentence]\n",
        "    pos = [sent[1] for sent in sentence]\n",
        "    m, p = viterbi_forward(X0, T, O, words)\n",
        "    predict = viterbi_backward(m, p)\n",
        "    correct += sum(1 for i,j in zip(pos, predict) if i==j)\n",
        "    num_words += len(words)\n",
        "  \n",
        "  return correct/num_words\n",
        "\n",
        "train = read_corpus('train.upos.tsv')\n",
        "test = read_corpus('test.upos.tsv')\n",
        "X0, T, O = learn_model(train)\n",
        "print(\"Train accuracy:\", evaluate_viterbi(X0, T, O, train))\n",
        "print(\"Test accuracy:\", evaluate_viterbi(X0, T, O, test))"
      ]
    },
    {
      "cell_type": "code",
      "execution_count": 6,
      "metadata": {
        "id": "tTbgoJ8lIqzV"
      },
      "outputs": [],
      "source": [
        "def forward(X0, Tprobs, Oprobs, obs):\n",
        "  a = X0\n",
        "  for i in range(len(obs)):\n",
        "    a = (Oprobs[obs[i]] if obs[i] in Oprobs else 1) * (Tprobs @ a)\n",
        "  return a\n",
        "\n",
        "def backward(Tprobs, Oprobs, obs, k):\n",
        "  b = np.ones(Tprobs.shape[0])\n",
        "  for i in range(len(obs)-1, k, -1):\n",
        "    b = Tprobs.T @ ((Oprobs[obs[i]] if obs[i] in Oprobs else 1) * b)\n",
        "  return b\n",
        "\n",
        "def forward_backward(X0, Tprobs, Oprobs, obs, k):\n",
        "  f = forward(X0, Tprobs, Oprobs, obs[:k+1])\n",
        "  b = backward(Tprobs, Oprobs, obs, k)\n",
        "  return f*b/(np.sum(f*b))"
      ]
    },
    {
      "cell_type": "code",
      "execution_count": 7,
      "metadata": {
        "colab": {
          "base_uri": "https://localhost:8080/"
        },
        "id": "EJHhVQuZCHYy",
        "outputId": "453b1e32-bb27-40b6-b0b4-ae63466f28af"
      },
      "outputs": [
        {
          "name": "stdout",
          "output_type": "stream",
          "text": [
            "{'What': array([0.        , 0.        , 0.        , 0.        , 0.        ,\n",
            "       0.07883701, 0.        , 0.        , 0.        , 0.        ,\n",
            "       0.93862028, 0.        , 0.        , 0.        , 0.        ,\n",
            "       0.        , 0.        ]), 'if': array([0.        , 0.02132942, 0.        , 0.        , 0.        ,\n",
            "       0.        , 0.        , 0.        , 0.        , 0.        ,\n",
            "       0.        , 0.        , 0.        , 0.99871082, 0.        ,\n",
            "       0.        , 0.        ]), 'Google': array([0.        , 0.        , 0.        , 0.        , 0.        ,\n",
            "       0.        , 0.        , 0.        , 0.        , 0.        ,\n",
            "       0.        , 0.63967522, 0.        , 0.        , 0.        ,\n",
            "       0.        , 0.        ]), 'Morphed': array([0.12187301, 0.02587711, 0.5086282 , 0.99806667, 0.9674151 ,\n",
            "       0.01997999, 0.02880006, 0.37986506, 0.30991731, 0.9714963 ,\n",
            "       0.00515111, 0.1654484 , 0.14666717, 0.00104646, 0.14593278,\n",
            "       0.97421953, 0.03689384]), 'Into': array([0.        , 0.94728804, 0.        , 0.        , 0.        ,\n",
            "       0.        , 0.        , 0.        , 0.        , 0.        ,\n",
            "       0.        , 0.        , 0.        , 0.        , 0.        ,\n",
            "       0.        , 0.        ]), 'GoogleOS': array([8.78126989e-01, 5.50542882e-03, 4.91371799e-01, 1.93333335e-03,\n",
            "       3.25849031e-02, 9.01183001e-01, 9.71199940e-01, 6.20134937e-01,\n",
            "       6.90082686e-01, 2.85036964e-02, 5.62286047e-02, 1.94876379e-01,\n",
            "       1.36442372e-02, 2.42717387e-04, 8.54067225e-01, 2.57804748e-02,\n",
            "       9.63106158e-01]), '?': array([0.       , 0.       , 0.       , 0.       , 0.       , 0.       ,\n",
            "       0.       , 0.       , 0.       , 0.       , 0.       , 0.       ,\n",
            "       0.8396886, 0.       , 0.       , 0.       , 0.       ])}\n"
          ]
        }
      ],
      "source": [
        "def expected_emissions(X0, Tprobs, Oprobs, data):\n",
        "  expO = {}\n",
        "  total = np.zeros(len(X0))\n",
        "\n",
        "  for obs in data:\n",
        "    for k in range(len(obs)):\n",
        "      if obs[k] not in expO:\n",
        "        expO[obs[k]] = np.zeros(len(X0))\n",
        "      gamma = forward_backward(X0, Tprobs, Oprobs, obs, k)\n",
        "      expO[obs[k]] += gamma\n",
        "      total += gamma\n",
        "\n",
        "  for word, counts in expO.items():\n",
        "    expO[word] = counts/total\n",
        "\n",
        "  return expO\n",
        "\n",
        "obs = [[pair[0] for pair in sentence] for sentence in [test[0]]]\n",
        "Onew = expected_emissions(X0, T, O, obs)\n",
        "print(Onew)"
      ]
    }
  ],
  "metadata": {
    "colab": {
      "name": "hw4sol.ipynb",
      "provenance": []
    },
    "interpreter": {
      "hash": "57e3ffd0aa5f522d043ae6935574d5ca5b6b7a6179bb5e22d076dcaf64259c80"
    },
    "kernelspec": {
      "display_name": "Python 3.10.4 64-bit",
      "language": "python",
      "name": "python3"
    },
    "language_info": {
      "codemirror_mode": {
        "name": "ipython",
        "version": 3
      },
      "file_extension": ".py",
      "mimetype": "text/x-python",
      "name": "python",
      "nbconvert_exporter": "python",
      "pygments_lexer": "ipython3",
      "version": "3.10.4"
    }
  },
  "nbformat": 4,
  "nbformat_minor": 0
}
