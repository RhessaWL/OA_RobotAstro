{
 "cells": [
  {
   "cell_type": "code",
   "execution_count": 7,
   "metadata": {},
   "outputs": [
    {
     "name": "stdout",
     "output_type": "stream",
     "text": [
      "Collecting nltk\n",
      "  Downloading nltk-3.8.1-py3-none-any.whl (1.5 MB)\n",
      "\u001b[2K     \u001b[90m━━━━━━━━━━━━━━━━━━━━━━━━━━━━━━━━━━━━━━━━\u001b[0m \u001b[32m1.5/1.5 MB\u001b[0m \u001b[31m2.8 MB/s\u001b[0m eta \u001b[36m0:00:00\u001b[0ma \u001b[36m0:00:01\u001b[0m\n",
      "\u001b[?25hCollecting regex>=2021.8.3\n",
      "  Downloading regex-2023.3.23-cp310-cp310-macosx_10_9_x86_64.whl (294 kB)\n",
      "\u001b[2K     \u001b[90m━━━━━━━━━━━━━━━━━━━━━━━━━━━━━━━━━━━━━━━\u001b[0m \u001b[32m294.4/294.4 kB\u001b[0m \u001b[31m1.4 MB/s\u001b[0m eta \u001b[36m0:00:00\u001b[0ma \u001b[36m0:00:01\u001b[0m\n",
      "\u001b[?25hCollecting joblib\n",
      "  Downloading joblib-1.2.0-py3-none-any.whl (297 kB)\n",
      "\u001b[2K     \u001b[90m━━━━━━━━━━━━━━━━━━━━━━━━━━━━━━━━━━━━━━━\u001b[0m \u001b[32m298.0/298.0 kB\u001b[0m \u001b[31m1.4 MB/s\u001b[0m eta \u001b[36m0:00:00\u001b[0m00:01\u001b[0m00:01\u001b[0m\n",
      "\u001b[?25hCollecting click\n",
      "  Downloading click-8.1.3-py3-none-any.whl (96 kB)\n",
      "\u001b[2K     \u001b[90m━━━━━━━━━━━━━━━━━━━━━━━━━━━━━━━━━━━━━━━━\u001b[0m \u001b[32m96.6/96.6 kB\u001b[0m \u001b[31m1.4 MB/s\u001b[0m eta \u001b[36m0:00:00\u001b[0ma \u001b[36m0:00:01\u001b[0m\n",
      "\u001b[?25hRequirement already satisfied: tqdm in /Library/Frameworks/Python.framework/Versions/3.10/lib/python3.10/site-packages (from nltk) (4.64.1)\n",
      "Installing collected packages: regex, joblib, click, nltk\n",
      "Successfully installed click-8.1.3 joblib-1.2.0 nltk-3.8.1 regex-2023.3.23\n",
      "--- Logging error ---\n",
      "Traceback (most recent call last):\n",
      "  File \"/Library/Frameworks/Python.framework/Versions/3.10/lib/python3.10/site-packages/pip/_internal/utils/logging.py\", line 177, in emit\n",
      "    self.console.print(renderable, overflow=\"ignore\", crop=False, style=style)\n",
      "  File \"/Library/Frameworks/Python.framework/Versions/3.10/lib/python3.10/site-packages/pip/_vendor/rich/console.py\", line 1673, in print\n",
      "    extend(render(renderable, render_options))\n",
      "  File \"/Library/Frameworks/Python.framework/Versions/3.10/lib/python3.10/site-packages/pip/_vendor/rich/console.py\", line 1305, in render\n",
      "    for render_output in iter_render:\n",
      "  File \"/Library/Frameworks/Python.framework/Versions/3.10/lib/python3.10/site-packages/pip/_internal/utils/logging.py\", line 134, in __rich_console__\n",
      "    for line in lines:\n",
      "  File \"/Library/Frameworks/Python.framework/Versions/3.10/lib/python3.10/site-packages/pip/_vendor/rich/segment.py\", line 249, in split_lines\n",
      "    for segment in segments:\n",
      "  File \"/Library/Frameworks/Python.framework/Versions/3.10/lib/python3.10/site-packages/pip/_vendor/rich/console.py\", line 1283, in render\n",
      "    renderable = rich_cast(renderable)\n",
      "  File \"/Library/Frameworks/Python.framework/Versions/3.10/lib/python3.10/site-packages/pip/_vendor/rich/protocol.py\", line 36, in rich_cast\n",
      "    renderable = cast_method()\n",
      "  File \"/Library/Frameworks/Python.framework/Versions/3.10/lib/python3.10/site-packages/pip/_internal/self_outdated_check.py\", line 130, in __rich__\n",
      "    pip_cmd = get_best_invocation_for_this_pip()\n",
      "  File \"/Library/Frameworks/Python.framework/Versions/3.10/lib/python3.10/site-packages/pip/_internal/utils/entrypoints.py\", line 58, in get_best_invocation_for_this_pip\n",
      "    if found_executable and os.path.samefile(\n",
      "  File \"/Library/Frameworks/Python.framework/Versions/3.10/lib/python3.10/genericpath.py\", line 101, in samefile\n",
      "    s2 = os.stat(f2)\n",
      "FileNotFoundError: [Errno 2] No such file or directory: '/Library/Frameworks/Python.framework/Versions/3.10/bin/pip'\n",
      "Call stack:\n",
      "  File \"/Library/Frameworks/Python.framework/Versions/3.10/lib/python3.10/runpy.py\", line 196, in _run_module_as_main\n",
      "    return _run_code(code, main_globals, None,\n",
      "  File \"/Library/Frameworks/Python.framework/Versions/3.10/lib/python3.10/runpy.py\", line 86, in _run_code\n",
      "    exec(code, run_globals)\n",
      "  File \"/Library/Frameworks/Python.framework/Versions/3.10/lib/python3.10/site-packages/pip/__main__.py\", line 31, in <module>\n",
      "    sys.exit(_main())\n",
      "  File \"/Library/Frameworks/Python.framework/Versions/3.10/lib/python3.10/site-packages/pip/_internal/cli/main.py\", line 70, in main\n",
      "    return command.main(cmd_args)\n",
      "  File \"/Library/Frameworks/Python.framework/Versions/3.10/lib/python3.10/site-packages/pip/_internal/cli/base_command.py\", line 101, in main\n",
      "    return self._main(args)\n",
      "  File \"/Library/Frameworks/Python.framework/Versions/3.10/lib/python3.10/site-packages/pip/_internal/cli/base_command.py\", line 223, in _main\n",
      "    self.handle_pip_version_check(options)\n",
      "  File \"/Library/Frameworks/Python.framework/Versions/3.10/lib/python3.10/site-packages/pip/_internal/cli/req_command.py\", line 190, in handle_pip_version_check\n",
      "    pip_self_version_check(session, options)\n",
      "  File \"/Library/Frameworks/Python.framework/Versions/3.10/lib/python3.10/site-packages/pip/_internal/self_outdated_check.py\", line 236, in pip_self_version_check\n",
      "    logger.warning(\"[present-rich] %s\", upgrade_prompt)\n",
      "  File \"/Library/Frameworks/Python.framework/Versions/3.10/lib/python3.10/logging/__init__.py\", line 1489, in warning\n",
      "    self._log(WARNING, msg, args, **kwargs)\n",
      "  File \"/Library/Frameworks/Python.framework/Versions/3.10/lib/python3.10/logging/__init__.py\", line 1624, in _log\n",
      "    self.handle(record)\n",
      "  File \"/Library/Frameworks/Python.framework/Versions/3.10/lib/python3.10/logging/__init__.py\", line 1634, in handle\n",
      "    self.callHandlers(record)\n",
      "  File \"/Library/Frameworks/Python.framework/Versions/3.10/lib/python3.10/logging/__init__.py\", line 1696, in callHandlers\n",
      "    hdlr.handle(record)\n",
      "  File \"/Library/Frameworks/Python.framework/Versions/3.10/lib/python3.10/logging/__init__.py\", line 968, in handle\n",
      "    self.emit(record)\n",
      "  File \"/Library/Frameworks/Python.framework/Versions/3.10/lib/python3.10/site-packages/pip/_internal/utils/logging.py\", line 179, in emit\n",
      "    self.handleError(record)\n",
      "Message: '[present-rich] %s'\n",
      "Arguments: (UpgradePrompt(old='22.2.2', new='23.0.1'),)\n",
      "Note: you may need to restart the kernel to use updated packages.\n"
     ]
    }
   ],
   "source": [
    "pip install nltk"
   ]
  },
  {
   "cell_type": "code",
   "execution_count": 70,
   "metadata": {},
   "outputs": [
    {
     "name": "stderr",
     "output_type": "stream",
     "text": [
      "[nltk_data] Downloading package punkt to /Users/rhessa/nltk_data...\n",
      "[nltk_data]   Package punkt is already up-to-date!\n"
     ]
    },
    {
     "data": {
      "text/plain": [
       "True"
      ]
     },
     "execution_count": 70,
     "metadata": {},
     "output_type": "execute_result"
    }
   ],
   "source": [
    "import os\n",
    "import operator\n",
    "import numpy as np\n",
    "import nltk\n",
    "nltk.download('punkt')"
   ]
  },
  {
   "cell_type": "code",
   "execution_count": 71,
   "metadata": {},
   "outputs": [],
   "source": [
    "# Read string from text file and returns all nouns from file\n",
    "def read_file(filename):\n",
    "    with open(filename, 'r') as f:\n",
    "        each_line = f.read()\n",
    "        if not each_line or each_line == '\\n':\n",
    "            return each_line\n",
    "        each_line = each_line.strip()\n",
    "        return each_line\n",
    "\n",
    "# Returns nouns from string\n",
    "def return_noun(line):\n",
    "    # function to test if something is a noun\n",
    "    is_noun = lambda pos: pos[:2] == 'NN'\n",
    "    # do the nlp stuff\n",
    "    tokenized = nltk.word_tokenize(line)\n",
    "    nouns = [word for (word, pos) in nltk.pos_tag(tokenized) if is_noun(pos)]\n",
    "    return nouns\n"
   ]
  },
  {
   "cell_type": "code",
   "execution_count": 72,
   "metadata": {},
   "outputs": [],
   "source": [
    "# Returns dict of noun, count\n",
    "def popular_topics():\n",
    "    nouns = return_noun(read_file('headlines.txt'))\n",
    "    dict_noun = {}\n",
    "    word_counts = 0\n",
    "\n",
    "    for item in nouns:\n",
    "        if item in dict_noun:\n",
    "            word_counts += 1\n",
    "            dict_noun[item] = word_counts\n",
    "\n",
    "        else:\n",
    "            dict_noun[item] = 1\n",
    "    sorted_d = dict(sorted(dict_noun.items(), key=operator.itemgetter(1),reverse=True))\n",
    "    return sorted_d"
   ]
  },
  {
   "cell_type": "code",
   "execution_count": 83,
   "metadata": {},
   "outputs": [
    {
     "name": "stdout",
     "output_type": "stream",
     "text": [
      "{'bookshelf': 89, 'science': 88, 'A': 86, 'hole': 85, 'Black': 83, 'satellites': 81, 'light': 80, 'sky': 79, 'scientists': 78, 'space': 76, '’': 75, 'nature': 74, 'patterns': 73, 'ideas': 72, 'Turing': 70, 'Alan': 69, 'seedlings': 68, 'Chia': 67, 'stars': 66, 'planets': 65, 'planet': 64, 'telescope': 61, 'Webb': 60, 'James': 59, 'galaxies': 58, 'universe': 53, 'atmosphere': 47, 't': 46, 'doesn': 44, 'TRAPPIST-1': 43, 'radio': 41, 'collision': 40, 'star': 39, 'neutron': 38, 'holes': 36, 'mathematics': 35, 'peek': 34, 'rainbow': 32, 'turn': 31, 'fish': 30, 'health': 22, 'bodies': 20, 'Microplastics': 19, 'DNA': 17, 'today': 16, 'photos': 15, 'Mars': 14, 'Hubble': 11, 'video': 10, 'reveals': 9, 'Red': 8, 'Jupiter': 7, 'NASA': 6, 'moon': 2, 'Brightest': 1, 'gamma-ray': 1, 'burst': 1, 'event': 1, 'Everything': 1, 'Planet': 1, 'Hidden': 1, 'water': 1, 'source': 1, 'glass': 1, 'beads': 1, 'probe': 1, 'JUICE': 1, 'guide': 1, 'icy': 1, 'mission': 1, 'Pictures': 1, 'image': 1, 'day': 1, 'phase': 1, 'Lunar': 1, 'rockets': 1, 'swirls': 1, 'edge': 1, 'Space': 1, 'Telescope': 1, 'exoplanet': 1, 'matter': 1, 'movement': 1, 'Mercury': 1, 'outer': 1, 'Deadly': 1, \"'Freddy\": 1, 'storm': 1, 'doughnut': 1, 'pancake': 1, 'research': 1, 'selects': 1, 'physicist': 1, 'Nicola': 1, 'Fox': 1, 'Artificial': 1, 'intelligence': 1, 'life': 1, 'worlds': 1, 'Adam': 1, 'Driver': 1, 'threat': 1, 'Earth': 1, \"'Ring\": 1, 'fire': 1, 'US': 1, 'parks': 1, 'places': 1, 'solar': 1, 'eclipse': 1, 'Uranus': 1, 'cap': 1, 'Spot': 1, 'shrinking': 1, 'humans': 1, 'rays': 1, 'jellyfish': 1, 'tendrils': 1, 'formation': 1, 'photo': 1, 'Perseverance': 1, 'rover': 1, 'shots': 1, 'predawn': 1, 'clouds': 1, 'Subscribe': 1, 'Volcanic': 1, 'sulfur': 1, 'barn': 1, 'redder': 1, 'feathers': 1, 'How': 1, 'raccoon': 1, 'dog': 1, 'origins': 1, 'Beethoven': 1, 'hints': 1, 'composer': 1, 'risks': 1, 'rivers': 1, 'forecasts': 1, 'soil': 1, 'nutrients': 1, 'rice': 1, 'electricity': 1, 'nematodes': 1, 'victims': 1, 'mystery': 1, 'Christiaan': 1, 'Huygens': 1, 'telescopes': 1, 'galaxy': 1, 'Newborn': 1, 'Astronomers': 1, 'shock': 1, 'waves': 1, 'web': 1, 'time': 1, 'Half': 1, 'SpaceX': 1, 's': 1, 'problem': 1, 'Milky': 1, 'Way': 1, 'astronomers': 1, 'age': 1, 'Kuiper': 1, 'Belt': 1, 'Quaoar': 1, 'Lots': 1, 'Tatooine-like': 1, 'Mathematicians': 1, '‘': 1, 'einstein': 1, 'tile': 1, 'Subscriber': 1, 'Services': 1, 'Information': 1, 'Society': 1, 'Science': 1, 'Stewardship': 1, 'environment': 1, 'heritage': 1, 'call': 1, 'spoiling': 1, 'night': 1, 'wanderer': 1, 'Shine': 1, 'bites': 1, 'cherry': 1, 'Supermassive': 1, 'movies': 1, 'action': 1, 'deeply': 1, 'adolescent': 1, 'system': 1, 'Welcome': 1, 'AI': 1, 'future': 1, 'JWST': 1, 'set': 1, 'targets': 1, 'population': 1, 'III': 1, 'Finding': 1, 'order': 1, 'architectures': 1, 'companion': 1, 'provenance': 1, 'No': 1, 'place': 1, 'Open': 1, 'issues': 1, 'Quick': 1, 'Nature': 1, 'Portfolio': 1, 'Discover': 1, 'content': 1, 'policies': 1, 'Author': 1, 'Researcher': 1, 'services': 1, 'Libraries': 1, 'institutions': 1, 'Advertising': 1, 'partnerships': 1, 'Career': 1, 'development': 1, 'Regional': 1, 'websites': 1}\n"
     ]
    }
   ],
   "source": [
    "top = popular_topics()\n",
    "print(top)\n"
   ]
  },
  {
   "cell_type": "code",
   "execution_count": null,
   "metadata": {},
   "outputs": [],
   "source": []
  }
 ],
 "metadata": {
  "kernelspec": {
   "display_name": "Python 3",
   "language": "python",
   "name": "python3"
  },
  "language_info": {
   "codemirror_mode": {
    "name": "ipython",
    "version": 3
   },
   "file_extension": ".py",
   "mimetype": "text/x-python",
   "name": "python",
   "nbconvert_exporter": "python",
   "pygments_lexer": "ipython3",
   "version": "3.10.7"
  },
  "orig_nbformat": 4
 },
 "nbformat": 4,
 "nbformat_minor": 2
}
