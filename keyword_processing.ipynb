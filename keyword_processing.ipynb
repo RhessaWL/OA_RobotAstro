{
 "cells": [
  {
   "cell_type": "code",
   "execution_count": 84,
   "metadata": {},
   "outputs": [
    {
     "name": "stdout",
     "output_type": "stream",
     "text": [
      "Requirement already satisfied: nltk in /Users/rhessa/miniconda3/lib/python3.9/site-packages (3.7)\n",
      "Requirement already satisfied: regex>=2021.8.3 in /Users/rhessa/miniconda3/lib/python3.9/site-packages (from nltk) (2022.7.9)\n",
      "Requirement already satisfied: joblib in /Users/rhessa/miniconda3/lib/python3.9/site-packages (from nltk) (1.1.0)\n",
      "Requirement already satisfied: tqdm in /Users/rhessa/miniconda3/lib/python3.9/site-packages (from nltk) (4.64.0)\n",
      "Requirement already satisfied: click in /Users/rhessa/miniconda3/lib/python3.9/site-packages (from nltk) (8.0.4)\n"
     ]
    }
   ],
   "source": [
    "!pip install nltk"
   ]
  },
  {
   "cell_type": "code",
   "execution_count": 85,
   "metadata": {},
   "outputs": [
    {
     "name": "stderr",
     "output_type": "stream",
     "text": [
      "[nltk_data] Downloading package punkt to /Users/rhessa/nltk_data...\n",
      "[nltk_data]   Package punkt is already up-to-date!\n"
     ]
    },
    {
     "data": {
      "text/plain": [
       "True"
      ]
     },
     "execution_count": 85,
     "metadata": {},
     "output_type": "execute_result"
    }
   ],
   "source": [
    "import os\n",
    "import operator\n",
    "import numpy as np\n",
    "import nltk\n",
    "nltk.download('punkt')"
   ]
  },
  {
   "cell_type": "code",
   "execution_count": 129,
   "metadata": {},
   "outputs": [],
   "source": [
    "# Read string from text file and returns all nouns from file\n",
    "def read_file(filename):\n",
    "    with open(filename, 'r') as f:\n",
    "        each_line = f.read()\n",
    "        if not each_line or each_line == '\\n':\n",
    "            return each_line\n",
    "        each_line = each_line.strip()\n",
    "        return each_line\n",
    "\n",
    "# Returns nouns from string\n",
    "def return_noun(line):\n",
    "    # function to test if something is a noun\n",
    "    is_noun = lambda pos: pos[:2] == 'NN'\n",
    "    # do the nlp stuff\n",
    "    tokenized = nltk.word_tokenize(line)\n",
    "    nouns = [word for (word, pos) in nltk.pos_tag(tokenized) if is_noun(pos)]\n",
    "    return nouns\n",
    "\n",
    "# Returns dict of sorted noun, count\n",
    "def popular_topics():\n",
    "    nouns = return_noun(read_file('headlines.txt'))\n",
    "    dict_noun = {}\n",
    "    word_counts = 0\n",
    "    top_list = []\n",
    "\n",
    "    for item in nouns:\n",
    "        if item in dict_noun:\n",
    "            word_counts += 1\n",
    "            dict_noun[item] = word_counts\n",
    "\n",
    "        else:\n",
    "            dict_noun[item] = 1\n",
    "    # Sort dictionary\n",
    "    sorted_d = dict(sorted(dict_noun.items(), key=operator.itemgetter(1),reverse=True))\n",
    "    # Add top ten to list\n",
    "    top_list.append([key for key in sorted_d.items()])\n",
    "    return top_list[0][0:10]\n"
   ]
  },
  {
   "cell_type": "code",
   "execution_count": 130,
   "metadata": {},
   "outputs": [
    {
     "name": "stdout",
     "output_type": "stream",
     "text": [
      "Done\n"
     ]
    }
   ],
   "source": [
    "# Print to new file called 'popular topics'\n",
    "with open('popular_topics.txt', 'w') as f:\n",
    "    t = popular_topics()\n",
    "    for items in t:\n",
    "        f.write(str(items)+ '\\n')\n",
    "f.close\n",
    "print(\"Done\")"
   ]
  },
  {
   "cell_type": "code",
   "execution_count": null,
   "metadata": {},
   "outputs": [],
   "source": []
  }
 ],
 "metadata": {
  "kernelspec": {
   "display_name": "Python 3",
   "language": "python",
   "name": "python3"
  },
  "language_info": {
   "codemirror_mode": {
    "name": "ipython",
    "version": 3
   },
   "file_extension": ".py",
   "mimetype": "text/x-python",
   "name": "python",
   "nbconvert_exporter": "python",
   "pygments_lexer": "ipython3",
   "version": "3.10.7"
  },
  "orig_nbformat": 4
 },
 "nbformat": 4,
 "nbformat_minor": 2
}
