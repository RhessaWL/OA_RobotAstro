{
 "cells": [
  {
   "cell_type": "code",
   "execution_count": 13,
   "metadata": {},
   "outputs": [
    {
     "name": "stderr",
     "output_type": "stream",
     "text": [
      "[nltk_data] Downloading package punkt to /Users/rhessa/nltk_data...\n",
      "[nltk_data]   Package punkt is already up-to-date!\n",
      "[nltk_data] Downloading package averaged_perceptron_tagger to\n",
      "[nltk_data]     /Users/rhessa/nltk_data...\n",
      "[nltk_data]   Package averaged_perceptron_tagger is already up-to-\n",
      "[nltk_data]       date!\n"
     ]
    },
    {
     "data": {
      "text/plain": [
       "True"
      ]
     },
     "execution_count": 13,
     "metadata": {},
     "output_type": "execute_result"
    }
   ],
   "source": [
    "import os\n",
    "import operator\n",
    "import numpy as np\n",
    "import nltk\n",
    "nltk.download('punkt')\n",
    "nltk.download('averaged_perceptron_tagger')"
   ]
  },
  {
   "cell_type": "code",
   "execution_count": 22,
   "metadata": {},
   "outputs": [],
   "source": [
    "# Read string from text file and returns all nouns from file\n",
    "def read_file(filename):\n",
    "    with open(filename, 'r') as f:\n",
    "        each_line = f.read()\n",
    "        if not each_line or each_line == '\\n':\n",
    "            return each_line\n",
    "        each_line = each_line.strip()\n",
    "        for word in each_line:\n",
    "            if word.isalpha():\n",
    "                each_line = each_line.replace(word, word.lower())       \n",
    "        return each_line\n",
    "\n",
    "# Returns nouns from string\n",
    "def return_noun(line):\n",
    "    # function to test if something is a noun\n",
    "    is_noun = lambda pos: pos[:2] == 'NN'\n",
    "    # do the nlp stuff\n",
    "    tokenized = nltk.word_tokenize(line)\n",
    "    nouns = [word for (word, pos) in nltk.pos_tag(tokenized) if is_noun(pos)]\n",
    "    return nouns\n",
    "\n",
    "# Returns dict of sorted noun, count and filters out generic words\n",
    "def popular_topics():\n",
    "    nouns = return_noun(read_file('headlines.txt'))\n",
    "    dict_noun = {}\n",
    "    word_counts = 0\n",
    "    top_list = []\n",
    "\n",
    "    for item in nouns:\n",
    "        if item in dict_noun:\n",
    "            word_counts = dict_noun[item] \n",
    "            dict_noun[item] = word_counts + 1\n",
    "        else:\n",
    "            dict_noun[item] = 1\n",
    "        word_counts = 0\n",
    "    \n",
    "    # Sort dictionary\n",
    "    sorted_d = dict(sorted(dict_noun.items(), key=operator.itemgetter(1),reverse=True))\n",
    "    \n",
    "    # Add top ten to list\n",
    "    top_list.append([key for key in sorted_d.items()])\n",
    "\n",
    "    # Filters out generic keywords \n",
    "    # List of common generic keywords and organization names\n",
    "    generic_keywords = ['A', 'world', 'scientist', 'scientists', 'sky', 'space', 'science', 'bookshelf', 'nature', 'ideas', 'doesn', 't', 'bodies', 'telescope', 'today']\n",
    "    names = ['fish','turing','james', 'webb', 's' ]\n",
    "    org_names = ['NASA', 'nasa']\n",
    "\n",
    "    # Create a new list of words that do not match any generic keywords, website or org names\n",
    "    filtered_list = [(word, num) for word, num in top_list[0] if word not in generic_keywords + names + org_names]\n",
    "    \n",
    "    return filtered_list[:10]\n"
   ]
  },
  {
   "cell_type": "code",
   "execution_count": 23,
   "metadata": {},
   "outputs": [
    {
     "name": "stdout",
     "output_type": "stream",
     "text": [
      "Done\n"
     ]
    }
   ],
   "source": [
    "# Print to new file called 'popular topics'\n",
    "with open('popular_topics.txt', 'w') as f:\n",
    "    t = popular_topics()\n",
    "    for items in t:\n",
    "        f.write(items[0]+ '\\n')\n",
    "f.close\n",
    "print(\"Done\")"
   ]
  },
  {
   "cell_type": "code",
   "execution_count": null,
   "metadata": {},
   "outputs": [],
   "source": []
  }
 ],
 "metadata": {
  "kernelspec": {
   "display_name": "Python 3",
   "language": "python",
   "name": "python3"
  },
  "language_info": {
   "codemirror_mode": {
    "name": "ipython",
    "version": 3
   },
   "file_extension": ".py",
   "mimetype": "text/x-python",
   "name": "python",
   "nbconvert_exporter": "python",
   "pygments_lexer": "ipython3",
   "version": "3.10.7"
  },
  "orig_nbformat": 4,
  "vscode": {
   "interpreter": {
    "hash": "aee8b7b246df8f9039afb4144a1f6fd8d2ca17a180786b69acc140d282b71a49"
   }
  }
 },
 "nbformat": 4,
 "nbformat_minor": 2
}
