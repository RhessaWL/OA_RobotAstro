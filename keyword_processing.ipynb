{
 "cells": [
  {
   "cell_type": "code",
   "execution_count": 1,
   "metadata": {},
   "outputs": [
    {
     "name": "stderr",
     "output_type": "stream",
     "text": [
      "c:\\Users\\ginny\\AppData\\Local\\Programs\\Python\\Python310\\lib\\site-packages\\numpy\\_distributor_init.py:30: UserWarning: loaded more than 1 DLL from .libs:\n",
      "c:\\Users\\ginny\\AppData\\Local\\Programs\\Python\\Python310\\lib\\site-packages\\numpy\\.libs\\libopenblas.EL2C6PLE4ZYW3ECEVIV3OXXGRN2NRFM2.gfortran-win_amd64.dll\n",
      "c:\\Users\\ginny\\AppData\\Local\\Programs\\Python\\Python310\\lib\\site-packages\\numpy\\.libs\\libopenblas.FB5AE2TYXYH2IJRDKGDGQ3XBKLKTF43H.gfortran-win_amd64.dll\n",
      "  warnings.warn(\"loaded more than 1 DLL from .libs:\"\n"
     ]
    },
    {
     "ename": "ModuleNotFoundError",
     "evalue": "No module named 'nltk'",
     "output_type": "error",
     "traceback": [
      "\u001b[1;31m---------------------------------------------------------------------------\u001b[0m",
      "\u001b[1;31mModuleNotFoundError\u001b[0m                       Traceback (most recent call last)",
      "\u001b[1;32mc:\\Users\\ginny\\Desktop\\Ngan_Razer\\OA_RobotAstro\\keyword_processing.ipynb Cell 1\u001b[0m in \u001b[0;36m<cell line: 4>\u001b[1;34m()\u001b[0m\n\u001b[0;32m      <a href='vscode-notebook-cell:/c%3A/Users/ginny/Desktop/Ngan_Razer/OA_RobotAstro/keyword_processing.ipynb#W0sZmlsZQ%3D%3D?line=1'>2</a>\u001b[0m \u001b[39mimport\u001b[39;00m \u001b[39moperator\u001b[39;00m\n\u001b[0;32m      <a href='vscode-notebook-cell:/c%3A/Users/ginny/Desktop/Ngan_Razer/OA_RobotAstro/keyword_processing.ipynb#W0sZmlsZQ%3D%3D?line=2'>3</a>\u001b[0m \u001b[39mimport\u001b[39;00m \u001b[39mnumpy\u001b[39;00m \u001b[39mas\u001b[39;00m \u001b[39mnp\u001b[39;00m\n\u001b[1;32m----> <a href='vscode-notebook-cell:/c%3A/Users/ginny/Desktop/Ngan_Razer/OA_RobotAstro/keyword_processing.ipynb#W0sZmlsZQ%3D%3D?line=3'>4</a>\u001b[0m \u001b[39mimport\u001b[39;00m \u001b[39mnltk\u001b[39;00m\n\u001b[0;32m      <a href='vscode-notebook-cell:/c%3A/Users/ginny/Desktop/Ngan_Razer/OA_RobotAstro/keyword_processing.ipynb#W0sZmlsZQ%3D%3D?line=4'>5</a>\u001b[0m nltk\u001b[39m.\u001b[39mdownload(\u001b[39m'\u001b[39m\u001b[39mpunkt\u001b[39m\u001b[39m'\u001b[39m)\n\u001b[0;32m      <a href='vscode-notebook-cell:/c%3A/Users/ginny/Desktop/Ngan_Razer/OA_RobotAstro/keyword_processing.ipynb#W0sZmlsZQ%3D%3D?line=5'>6</a>\u001b[0m nltk\u001b[39m.\u001b[39mdownload(\u001b[39m'\u001b[39m\u001b[39maveraged_perceptron_tagger\u001b[39m\u001b[39m'\u001b[39m)\n",
      "\u001b[1;31mModuleNotFoundError\u001b[0m: No module named 'nltk'"
     ]
    }
   ],
   "source": [
    "import os\n",
    "import operator\n",
    "import numpy as np\n",
    "import nltk\n",
    "nltk.download('punkt')\n",
    "nltk.download('averaged_perceptron_tagger')"
   ]
  },
  {
   "cell_type": "code",
   "execution_count": null,
   "metadata": {},
   "outputs": [],
   "source": [
    "# Read string from text file and returns all nouns from file\n",
    "def read_file(filename):\n",
    "    with open(filename, 'r') as f:\n",
    "        each_line = f.read()\n",
    "        if not each_line or each_line == '\\n':\n",
    "            return each_line\n",
    "        each_line = each_line.strip()\n",
    "        return each_line\n",
    "\n",
    "# Returns nouns from string\n",
    "def return_noun(line):\n",
    "    # function to test if something is a noun\n",
    "    is_noun = lambda pos: pos[:2] == 'NN'\n",
    "    # do the nlp stuff\n",
    "    tokenized = nltk.word_tokenize(line)\n",
    "    nouns = [word for (word, pos) in nltk.pos_tag(tokenized) if is_noun(pos)]\n",
    "    return nouns\n",
    "\n",
    "# Returns dict of sorted noun, count and filters out generic words\n",
    "def popular_topics():\n",
    "    nouns = return_noun(read_file('headlines.txt'))\n",
    "    dict_noun = {}\n",
    "    word_counts = 0\n",
    "    top_list = []\n",
    "\n",
    "    for item in nouns:\n",
    "        if item in dict_noun:\n",
    "            word_counts = dict_noun[item] \n",
    "            dict_noun[item] = word_counts + 1\n",
    "        else:\n",
    "            dict_noun[item] = 1\n",
    "        word_counts = 0\n",
    "    \n",
    "    # Sort dictionary\n",
    "    sorted_d = dict(sorted(dict_noun.items(), key=operator.itemgetter(1),reverse=True))\n",
    "    \n",
    "    # Add top ten to list\n",
    "    top_list.append([key for key in sorted_d.items()])\n",
    "\n",
    "    # Filters out generic keywords \n",
    "    # List of common generic keywords and organization names\n",
    "    generic_keywords = ['A', 'world', 'scientist', 'scientists', 'sky', 'space', 'science', 'bookshelf', '’', 'nature', 'ideas', 'doesn', 't', 'bodies', 'telescope', 'today']\n",
    "    names = ['fish','Turing','James', 'Webb']\n",
    "    org_names = ['NASA']\n",
    "\n",
    "    # Create a new list of words that do not match any generic keywords, website or org names\n",
    "    filtered_list = [(word, num) for word, num in top_list[0] if word not in generic_keywords + names + org_names]\n",
    "    \n",
    "    return filtered_list[:10]\n"
   ]
  },
  {
   "cell_type": "code",
   "execution_count": null,
   "metadata": {},
   "outputs": [
    {
     "name": "stdout",
     "output_type": "stream",
     "text": [
      "Done\n"
     ]
    }
   ],
   "source": [
    "# Print to new file called 'popular topics'\n",
    "with open('popular_topics.txt', 'w') as f:\n",
    "    t = popular_topics()\n",
    "    for items in t:\n",
    "        f.write(items[0]+ '\\n')\n",
    "f.close\n",
    "print(\"Done\")"
   ]
  }
 ],
 "metadata": {
  "kernelspec": {
   "display_name": "Python 3",
   "language": "python",
   "name": "python3"
  },
  "language_info": {
   "codemirror_mode": {
    "name": "ipython",
    "version": 3
   },
   "file_extension": ".py",
   "mimetype": "text/x-python",
   "name": "python",
   "nbconvert_exporter": "python",
   "pygments_lexer": "ipython3",
   "version": "3.10.4"
  },
  "orig_nbformat": 4,
  "vscode": {
   "interpreter": {
    "hash": "aee8b7b246df8f9039afb4144a1f6fd8d2ca17a180786b69acc140d282b71a49"
   }
  }
 },
 "nbformat": 4,
 "nbformat_minor": 2
}
