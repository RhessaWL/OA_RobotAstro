{
 "cells": [
  {
   "cell_type": "code",
   "execution_count": 90,
   "metadata": {},
   "outputs": [],
   "source": [
    "# Reads headlines.txt file into list \n",
    "def read_file(filename):\n",
    "    with open(filename, 'r') as f:\n",
    "        each_line = f.readlines()\n",
    "        headlines = []\n",
    "        for word in each_line:\n",
    "            if word.isalpha():\n",
    "                each_line = each_line.replace(word, word.lower())       \n",
    "        for line in each_line:\n",
    "            line = line.strip()\n",
    "            if line:\n",
    "                headlines.append(line)\n",
    "        return headlines\n",
    "    \n",
    "# Reads populat_topics.txt file and returns list\n",
    "def read_file_word(filename):\n",
    "    with open(filename, 'r') as f:\n",
    "        each_line = f.read().split()\n",
    "        return each_line\n",
    "\n",
    "# Read links file into list    \n",
    "def read_links(filename):\n",
    "    with open(filename, 'r') as l:\n",
    "        links = [line.strip() for line in l]\n",
    "        return links"
   ]
  },
  {
   "cell_type": "code",
   "execution_count": 91,
   "metadata": {},
   "outputs": [],
   "source": [
    "# Gets the headlines that have the top words\n",
    "words = read_file_word('popular_topics.txt')\n",
    "headlines = read_file('headlines.txt')\n",
    "popular_headlines = []\n",
    "for word in words:\n",
    "    for headline in headlines:\n",
    "        if word in headline.split():\n",
    "            popular_headlines.append(headline)\n",
    "        else:\n",
    "            continue"
   ]
  },
  {
   "cell_type": "code",
   "execution_count": 92,
   "metadata": {},
   "outputs": [],
   "source": [
    "# Find link for given headline and add it to list_links with headline\n",
    "links = read_links('links.txt')\n",
    "list_links = []\n",
    "for x in popular_headlines:\n",
    "    if x in headlines:\n",
    "        index = headlines.index(x)\n",
    "        link = links[index]\n",
    "        list_links.append(x)\n",
    "        list_links.append(link)\n",
    "    else:\n",
    "        print(\"Headline not found.\")"
   ]
  },
  {
   "cell_type": "code",
   "execution_count": 93,
   "metadata": {},
   "outputs": [
    {
     "data": {
      "text/plain": [
       "[\"Callisto: Everything you need to know about Jupiter's second-largest moon\",\n",
       " 'https://www.space.com/16448-callisto-facts-about-jupiters-dead-moon.html',\n",
       " 'What is the moon phase today? Lunar phases 2023',\n",
       " 'https://www.space.com/18880-moon-phases.html',\n",
       " 'Students set to land first robotic US rover on the moon — before NASA',\n",
       " 'https://www.space.com/student-built-moon-rover-iris-land-may-2023',\n",
       " \"China's moon plans involve 3D printing bricks from lunar soil\",\n",
       " 'https://www.space.com/china-moon-3d-printing-bricks-change-8-2028',\n",
       " \"NASA joins Japan's mission to collect the 1st samples of Mars moon Phobos\",\n",
       " 'https://www.space.com/nasa-joins-japan-mars-moon-phobos-mission',\n",
       " 'The Artemis Generation: To the moon — this time to stay! (op-ed)',\n",
       " 'https://www.space.com/artemis-generation-to-the-moon-to-stay',\n",
       " \"Building telescopes on the moon could transform astronomy, and it's becoming an achievable goal\",\n",
       " 'https://phys.org/news/2023-04-telescopes-moon-astronomy-goal.html',\n",
       " 'NASA shares first moon to Mars architecture concept review results',\n",
       " 'https://phys.org/news/2023-04-nasa-moon-mars-architecture-concept.html',\n",
       " 'The first black hole portrait got sharper thanks to machine learning',\n",
       " 'https://www.sciencenews.org/article/period-book-change-mind-menstruation',\n",
       " 'A runaway black hole has been spotted fleeing a distant galaxy',\n",
       " 'https://www.sciencenews.org/article/new-stars-galaxies-james-webb-space-images',\n",
       " 'Black hole takes multiple bites at the cherry',\n",
       " 'https://www.nature.com/articles/s41550-023-01908-y',\n",
       " 'Supermassive black hole movies in action',\n",
       " 'https://www.nature.com/articles/s41550-023-01909-x',\n",
       " 'Could this copycat black hole be a new type of star?',\n",
       " 'https://phys.org/news/2023-04-copycat-black-hole-star.html',\n",
       " 'The Milky Way may be spawning many more stars than astronomers had thought',\n",
       " 'https://www.sciencenews.org/article/jwst-planet-trappist-1b-no-atmosphere',\n",
       " 'Indian astronomers investigate open cluster NGC 1027',\n",
       " 'https://phys.org/news/2023-04-indian-astronomers-cluster-ngc.html',\n",
       " 'From platypus to parsecs and milliCrab: Why do astronomers use such weird units?',\n",
       " 'https://phys.org/news/2023-04-platypus-parsecs-millicrab-astronomers-weird.html',\n",
       " 'Merging galaxies shine with the light of a trillion suns in gorgeous James Webb Space Telescope photo',\n",
       " 'https://www.space.com/james-webb-space-telescope-merging-galaxies-arp-220-photo',\n",
       " 'Newborn stars sculpt their galaxies in new James Webb telescope images',\n",
       " 'https://www.sciencenews.org/article/methane-warm-earth-atmosphere-radiation',\n",
       " 'Alignment of galaxies millions of light years away supports general relativity',\n",
       " 'https://phys.org/news/2023-04-alignment-galaxies-millions-years-general.html',\n",
       " 'Strange radio signals detected from Earth-like planet could be a magnetic field necessary for life',\n",
       " 'https://www.space.com/strange-radio-signals-from-earth-like-planet-magnetic-field-necessary-for-life',\n",
       " 'A neutron star collision may have emitted a fast radio burst',\n",
       " 'https://www.sciencenews.org/article/smithsonian-lights-out-fading-night-sky',\n",
       " 'Fast radio boom or bust?',\n",
       " 'https://www.nature.com/articles/s41550-023-01961-7',\n",
       " 'Looking for potential radio technosignatures from extragalactic sources',\n",
       " 'https://phys.org/news/2023-04-potential-radio-technosignatures-extragalactic-sources.html',\n",
       " 'Rare solar eclipse to cross remote Australia, Indonesia',\n",
       " 'https://phys.org/news/2023-04-rare-solar-eclipse-remote-australia.html',\n",
       " \"NASA joins Japan's mission to collect the 1st samples of Mars moon Phobos\",\n",
       " 'https://www.space.com/nasa-joins-japan-mars-moon-phobos-mission',\n",
       " 'Trailblazing Aeolus mission winding down',\n",
       " 'https://phys.org/news/2023-04-trailblazing-aeolus-mission.html',\n",
       " 'Neptune: A guide to the windy eighth planet from the sun',\n",
       " 'https://www.space.com/41-neptune-the-other-blue-planet-in-our-solar-system.html',\n",
       " 'Strange radio signals detected from Earth-like planet could be a magnetic field necessary for life',\n",
       " 'https://www.space.com/strange-radio-signals-from-earth-like-planet-magnetic-field-necessary-for-life',\n",
       " 'The biggest planet orbiting TRAPPIST-1 doesn’t appear to have an atmosphere',\n",
       " 'https://www.sciencenews.org/article/w-boson-heavier-accelerator-collider',\n",
       " 'The Artemis Generation: To the moon — this time to stay! (op-ed)',\n",
       " 'https://www.space.com/artemis-generation-to-the-moon-to-stay',\n",
       " 'Astronomers spotted shock waves shaking the web of the universe for the first time',\n",
       " 'https://www.sciencenews.org/article/map-human-brain-movement-homunculus',\n",
       " \"Team builds and tests calibrator for NASA's Nancy Grace Roman Space Telescope in record time\",\n",
       " 'https://phys.org/news/2023-04-team-calibrator-nasa-nancy-grace.html']"
      ]
     },
     "execution_count": 93,
     "metadata": {},
     "output_type": "execute_result"
    }
   ],
   "source": [
    "list_links"
   ]
  },
  {
   "cell_type": "code",
   "execution_count": null,
   "metadata": {},
   "outputs": [],
   "source": []
  }
 ],
 "metadata": {
  "kernelspec": {
   "display_name": "astrobio",
   "language": "python",
   "name": "python3"
  },
  "language_info": {
   "codemirror_mode": {
    "name": "ipython",
    "version": 3
   },
   "file_extension": ".py",
   "mimetype": "text/x-python",
   "name": "python",
   "nbconvert_exporter": "python",
   "pygments_lexer": "ipython3",
   "version": "3.7.13"
  },
  "orig_nbformat": 4
 },
 "nbformat": 4,
 "nbformat_minor": 2
}
