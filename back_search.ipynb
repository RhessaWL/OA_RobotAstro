{
 "cells": [
  {
   "cell_type": "code",
   "execution_count": 70,
   "metadata": {},
   "outputs": [],
   "source": [
    "#%pip install BeautifulSoup4\n",
    "#%pip install requests\n",
    "#%pip install gensim==3.6.0\n"
   ]
  },
  {
   "cell_type": "code",
   "execution_count": 71,
   "metadata": {},
   "outputs": [],
   "source": [
    "# Reads headlines.txt file into list \n",
    "def read_file(filename):\n",
    "    with open(filename, 'r') as f:\n",
    "        each_line = f.readlines()\n",
    "        headlines = []\n",
    "        for word in each_line:\n",
    "            if word.isalpha():\n",
    "                each_line = each_line.replace(word, word.lower())       \n",
    "        for line in each_line:\n",
    "            line = line.strip()\n",
    "            if line:\n",
    "                headlines.append(line)\n",
    "        return headlines\n",
    "    \n",
    "# Reads populat_topics.txt file and returns list\n",
    "def read_file_word(filename):\n",
    "    with open(filename, 'r') as f:\n",
    "        each_line = f.read().split()\n",
    "        return each_line\n",
    "\n",
    "# Read links file into list    \n",
    "def read_links(filename):\n",
    "    with open(filename, 'r') as l:\n",
    "        links = [line.strip() for line in l]\n",
    "        return links"
   ]
  },
  {
   "cell_type": "code",
   "execution_count": 72,
   "metadata": {},
   "outputs": [],
   "source": [
    "# Gets the headlines that have the top words\n",
    "words = read_file_word('data/popular_topics.txt')\n",
    "headlines = read_file('data/headlines.txt')\n",
    "popular_headlines = []\n",
    "for word in words:\n",
    "    for headline in headlines:\n",
    "        if word in headline.split():\n",
    "            popular_headlines.append(headline)\n",
    "        else:\n",
    "            continue"
   ]
  },
  {
   "cell_type": "code",
   "execution_count": null,
   "metadata": {},
   "outputs": [],
   "source": []
  },
  {
   "cell_type": "code",
   "execution_count": 73,
   "metadata": {},
   "outputs": [],
   "source": [
    "# Find link for given headline and add it to list_links with headline\n",
    "links = read_links('data/links.txt')\n",
    "list_links = []\n",
    "for x in popular_headlines:\n",
    "    if x in headlines:\n",
    "        index = headlines.index(x)\n",
    "        link = links[index]\n",
    "        list_links.append(link)\n",
    "    else:\n",
    "        print(\"Headline not found.\")"
   ]
  },
  {
   "cell_type": "code",
   "execution_count": 83,
   "metadata": {},
   "outputs": [],
   "source": [
    "#Summarizes content from links (1m 10s)\n",
    "import requests\n",
    "from bs4 import BeautifulSoup\n",
    "from gensim.summarization import summarize\n",
    "\n",
    "summary_list = []\n",
    "# Loop through each link\n",
    "for link in list_links:\n",
    "    \n",
    "    # Download HTML content of link\n",
    "    headers ={'User-Agent': 'Chrome/58.0.3029.110 Safari/537.3'}\n",
    "    response = requests.get(link, headers=headers)\n",
    "    soup = BeautifulSoup(response.text, 'html.parser')\n",
    "\n",
    "    # Extract article content\n",
    "    paragraphs = soup.find_all('p')\n",
    "    article_text = '\\n'.join([p.text for p in paragraphs])\n",
    "\n",
    "    # Summarize article content\n",
    "    if (len(summarize(article_text, ratio=0.4, split=True)))==0:\n",
    "        summary = summarize(article_text, ratio=0.4, split=True)\n",
    "        # Append summary\n",
    "        summary_list.append(summary)\n",
    "    else:\n",
    "        summary = summarize(article_text, ratio=0.4, split=True)\n",
    "        # Append summary\n",
    "        summary_list.append(summary)"
   ]
  },
  {
   "cell_type": "code",
   "execution_count": 76,
   "metadata": {},
   "outputs": [],
   "source": [
    "# Returns nouns from string\n",
    "def return_noun(line):\n",
    "    # function to test if something is a noun\n",
    "    is_noun = lambda pos: pos[:2] == 'NN'\n",
    "    # do the nlp stuff\n",
    "    tokenized = nltk.word_tokenize(line)\n",
    "    nouns = [word for (word, pos) in nltk.pos_tag(tokenized) if is_noun(pos)]\n",
    "    return nouns"
   ]
  },
  {
   "cell_type": "code",
   "execution_count": 77,
   "metadata": {},
   "outputs": [],
   "source": [
    "#%pip install nltk\n",
    "import nltk\n",
    "#nltk.download('punkt')\n",
    "#nltk.download('averaged_perceptron_tagger')"
   ]
  },
  {
   "cell_type": "code",
   "execution_count": 78,
   "metadata": {},
   "outputs": [],
   "source": [
    "#%pip install xlrd\n",
    "import pandas as pd\n",
    "import difflib\n",
    "\n",
    "# Read the NGC Excel file into a dataframe\n",
    "df1 = pd.read_excel('data/NGC.xlsx', sheet_name='NGC')\n",
    "\n",
    "# Read the Messier Excel file into a dataframe\n",
    "df2 = pd.read_excel('data/mesr-mas.xls', sheet_name='Messier Objects', skiprows = 8, nrows=110, usecols=range(2))\n"
   ]
  },
  {
   "cell_type": "code",
   "execution_count": 79,
   "metadata": {},
   "outputs": [],
   "source": [
    "# Create lists for each Messier and NGC objects\n",
    "messier1 = df2.iloc[:,0].tolist()\n",
    "NGC2 = df2.iloc[:,1].dropna().tolist()\n",
    "NGC1 = df1.iloc[:,24].dropna().tolist()\n",
    "\n",
    "# Combine two NGC to find missing elements\n",
    "NGC_str = list(set(NGC1).union(set(NGC2)))\n",
    "\n",
    "# Convert to string plus catalog identifier\n",
    "messier = ['M' + str(element) for element in messier1]\n",
    "NGC = ['NGC ' + str(element).rstrip('.0') for element in NGC_str]\n",
    "d_planets = ['Pluto', 'Ceres', 'Makemake', 'Haumea', 'Eris']\n",
    "mars_moons = ['Deimos', 'Phobos']\n",
    "named_jupiter_moons = ['Adrastea', 'Aitne', 'Amalthea', 'Ananke', 'Aoede', 'Arche', 'Autonoe', 'Callirrhoe', 'Callisto', 'Carme', \n",
    "                 'Carpo', 'Chaldene', 'Cyllene', 'Dia', 'Eirene', 'Elara', 'Erinome', 'Ersa', 'Euanthe', 'Eukelade', 'Eupheme', \n",
    "                 'Euporie', 'Europa', 'Eurydome', 'Ganymede', 'Harpalyke', 'Hegemone', 'Helike', 'Hermippe', 'Herse', 'Himalia', \n",
    "                 'Io', 'Iocaste', 'Isonoe', 'Jupiter LI', 'Jupiter LII', 'Kale', 'Kallichore', 'Kalyke', 'Kore', 'Leda', 'Lysithea', \n",
    "                 'Megaclite', 'Metis', 'Mneme', 'Orthosie', 'Pasiphae', 'Pasithee', 'Praxidike', 'Valetudo', 'Sinope', 'Sponde', \n",
    "                 'Taygete', 'Thebe', 'Thelxinoe', 'Themisto', 'Thyone']\n",
    "named_saturn_moons = ['Aegaeon', 'Aegir', 'Albiorix', 'Anthe', 'Atlas', 'Bebhionn', 'Bergelmir', 'Bestla', 'Calypso', 'Daphnis', \n",
    "                'Dione', 'Enceladus', 'Epimetheus', 'Erriapus', 'Farbauti', 'Fenrir', 'Fornjot', 'Greip', 'Hati', 'Helene', \n",
    "                'Hyperion', 'Hyrrokkin', 'Iapetus', 'Ijiraq', 'Janus', 'Jarnsaxa', 'Kari', 'Kiviuq', 'Loge', 'Methone', \n",
    "                'Mimas', 'Mundilfari', 'Narvi', 'Paaliaq', 'Pallene', 'Pan', 'Pandora', 'Phoebe', 'Polydeuces', 'Prometheus', \n",
    "                'Rhea', 'Siarnaq', 'Skathi', 'Skoll', 'Surtur', 'Suttungr', 'Tarqeq', 'Tarvos', 'Telesto', 'Tethys', 'Thrymyr', \n",
    "                'Titan', 'Ymir']\n",
    "named_uranus_names = ['Ariel', 'Belinda', 'Bianca', 'Caliban', 'Cordelia', 'Cressida', 'Cupid', 'Desdemona', 'Ferdinand', 'Francisco', \n",
    "              'Juliet', 'Mab', 'Margaret', 'Miranda', 'Oberon', 'Ophelia', 'Perdita', 'Portia', 'Prospero', 'Puck', 'Rosalind', \n",
    "              'Setebos', 'Stephano', 'Sycorax', 'Titania', 'Trinculo', 'Umbriel']\n",
    "named_neptune_moons = ['Despina', 'Galatea', 'Halimede', 'Hippocamp', 'Laomedeia', 'Larissa', 'Naiad', 'Nereid', 'Neso', 'Proteus', \n",
    "              'Psamathe', 'Sao', 'Thalassa', 'Triton']\n",
    "named_pluto_moons = ['Charon', 'Hydra', 'Kerberos', 'Nix', 'Styx']\n",
    "exoplanet_names = ['Proxima Centauri b', 'TRAPPIST-1d', 'LHS 1140 b', 'Kepler-438b', 'Kepler-442b', 'Kepler-452b', 'Kepler-1229b', \n",
    "                   'Kepler-62f', 'Kepler-186f', 'Kepler-452b', 'Kepler-1652b', 'Kepler-442b', 'Kepler-1638b', 'Kepler-438b', 'Kepler-1229b', \n",
    "                   'Kepler-1649c', 'Kepler-62f', 'Kepler-186f', 'Kepler-69c', 'Kepler-1649c', 'Kepler-1652b', 'Kepler-1638b', 'Kepler-62e', \n",
    "                   'Kepler-438b', 'Kepler-442b', 'Kepler-452b', 'Kepler-1229b', 'Kepler-442b', 'Kepler-1649c', 'Kepler-1638b', 'Kepler-438b', \n",
    "                   'Kepler-1652b', 'Kepler-62f', 'Kepler-62e', 'Kepler-186f', 'Kepler-438b', 'Kepler-452b', 'Kepler-442b', 'Kepler-1649c', \n",
    "                   'Kepler-62f', 'Kepler-1652b', 'Kepler-1638b', 'Kepler-438b', 'Kepler-62e', 'Kepler-1229b', 'Kepler-186f', 'Kepler-69c', \n",
    "                   'Kepler-1649c', 'Kepler-438b', 'Kepler-442b', 'Kepler-1638b', 'Kepler-1652b', 'Kepler-62f', 'Kepler-62e', 'Kepler-186f', \n",
    "                   'Kepler-1649c', 'Kepler-1229b', 'Kepler-438b', 'Kepler-69c', 'Kepler-442b', 'Kepler-1638b', 'Kepler-452b', 'Kepler-1652b', \n",
    "                   'Kepler-62f', 'Kepler-62e', 'Kepler-186f', 'Kepler-1649c', 'Kepler-438b', 'Kepler-1229b', 'Kepler-1638b', 'Kepler-442b', \n",
    "                   'Kepler-1652b', 'Kepler-452b', 'Kepler-1649c', 'Kepler-62f', 'Kepler-186f', 'Kepler-438b', 'Kepler-62e', 'Kepler-69c', \n",
    "                   'Kepler-442b', 'Kepler-1229b', 'Kepler-1638b', 'Kepler-1652b', 'Kepler-62f', 'Kepler-1649c', 'Kepler-452b', 'Kepler-438b', \n",
    "                   'Kepler-186f', 'Kepler-62e', 'Kepler-442b', 'Kepler-1638b', 'Kepler-1652b', 'Kepler-69c', 'Kepler-1649c', 'Kepler-62f', \n",
    "                   'Kepler-438b', 'Kepler-1229b', 'Kepler-186f', 'Kepler-62e', 'Kepler-452b']\n",
    "more_exoplanets =  [ 'Proxima Centauri b','TRAPPIST-1b','TRAPPIST-1c','TRAPPIST-1e','TRAPPIST-1f','TRAPPIST-1g','TRAPPIST-1h','Tau Cetie',\n",
    "                    'Tau Cetif','Ross 128b','LHS 1140b', 'Wolf 1061c','Wolf 1061d','Kepler-1649c','Gliese 667Cc','Gliese 667Cf','Gliese 667Ce',\n",
    "                    'HD-40307g','Gliese 163c','Gliese 832c','Gliese 667Cb']\n",
    "   \n",
    "\n",
    "\n",
    "# Create one total list\n",
    "total_list = messier+NGC+d_planets+mars_moons+named_uranus_names+named_jupiter_moons+named_neptune_moons+named_pluto_moons+named_saturn_moons+exoplanet_names+more_exoplanets\n"
   ]
  },
  {
   "cell_type": "code",
   "execution_count": 100,
   "metadata": {},
   "outputs": [],
   "source": [
    "# Compare each summary to the list of Messier objects\n",
    "import re\n",
    "object_ls = []\n",
    "for object_name in total_list:\n",
    "    for summary1 in summary_list:\n",
    "        for summary in summary1:\n",
    "            if re.search(r'\\b' + object_name + r'\\b', summary):\n",
    "                if object_name in object_ls:\n",
    "                    continue\n",
    "                else:\n",
    "                    object_ls.append(object_name)"
   ]
  },
  {
   "cell_type": "code",
   "execution_count": 101,
   "metadata": {},
   "outputs": [
    {
     "data": {
      "text/plain": [
       "['M87',\n",
       " 'NGC 628',\n",
       " 'NGC 346',\n",
       " 'Pluto',\n",
       " 'Francisco',\n",
       " 'Ganymede',\n",
       " 'Charon',\n",
       " 'Hydra',\n",
       " 'Kerberos',\n",
       " 'Nix',\n",
       " 'Styx',\n",
       " 'TRAPPIST-1b']"
      ]
     },
     "execution_count": 101,
     "metadata": {},
     "output_type": "execute_result"
    }
   ],
   "source": [
    "object_ls"
   ]
  },
  {
   "cell_type": "code",
   "execution_count": 102,
   "metadata": {},
   "outputs": [
    {
     "name": "stdout",
     "output_type": "stream",
     "text": [
      "Done\n"
     ]
    }
   ],
   "source": [
    "# Print to new file called 'popular topics'\n",
    "with open('data/final_objects.txt', 'w') as f:\n",
    "    for items in reversed(object_ls):\n",
    "        f.write(items+ '\\n')\n",
    "f.close\n",
    "print(\"Done\")"
   ]
  }
 ],
 "metadata": {
  "kernelspec": {
   "display_name": "astrobio",
   "language": "python",
   "name": "python3"
  },
  "language_info": {
   "codemirror_mode": {
    "name": "ipython",
    "version": 3
   },
   "file_extension": ".py",
   "mimetype": "text/x-python",
   "name": "python",
   "nbconvert_exporter": "python",
   "pygments_lexer": "ipython3",
   "version": "3.7.13"
  },
  "orig_nbformat": 4
 },
 "nbformat": 4,
 "nbformat_minor": 2
}
