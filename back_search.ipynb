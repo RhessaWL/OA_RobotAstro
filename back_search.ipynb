{
 "cells": [
  {
   "cell_type": "code",
   "execution_count": 1,
   "metadata": {},
   "outputs": [
    {
     "name": "stdout",
     "output_type": "stream",
     "text": [
      "Requirement already satisfied: BeautifulSoup4 in c:\\users\\ginny\\appdata\\local\\programs\\python\\python310\\lib\\site-packages (4.11.1)\n",
      "Requirement already satisfied: soupsieve>1.2 in c:\\users\\ginny\\appdata\\local\\programs\\python\\python310\\lib\\site-packages (from BeautifulSoup4) (2.3.2.post1)\n",
      "Note: you may need to restart the kernel to use updated packages.\n"
     ]
    },
    {
     "name": "stderr",
     "output_type": "stream",
     "text": [
      "WARNING: Ignoring invalid distribution -ywin32 (c:\\users\\ginny\\appdata\\roaming\\python\\python310\\site-packages)\n",
      "WARNING: Ignoring invalid distribution -ensorflow (c:\\users\\ginny\\appdata\\local\\programs\\python\\python310\\lib\\site-packages)\n",
      "WARNING: Ignoring invalid distribution -ywin32 (c:\\users\\ginny\\appdata\\roaming\\python\\python310\\site-packages)\n",
      "WARNING: Ignoring invalid distribution -ensorflow (c:\\users\\ginny\\appdata\\local\\programs\\python\\python310\\lib\\site-packages)\n",
      "WARNING: Ignoring invalid distribution -ywin32 (c:\\users\\ginny\\appdata\\roaming\\python\\python310\\site-packages)\n",
      "WARNING: Ignoring invalid distribution -ensorflow (c:\\users\\ginny\\appdata\\local\\programs\\python\\python310\\lib\\site-packages)\n",
      "WARNING: Ignoring invalid distribution -ywin32 (c:\\users\\ginny\\appdata\\roaming\\python\\python310\\site-packages)\n",
      "WARNING: Ignoring invalid distribution -ensorflow (c:\\users\\ginny\\appdata\\local\\programs\\python\\python310\\lib\\site-packages)\n",
      "WARNING: Ignoring invalid distribution -ywin32 (c:\\users\\ginny\\appdata\\roaming\\python\\python310\\site-packages)\n",
      "WARNING: Ignoring invalid distribution -ensorflow (c:\\users\\ginny\\appdata\\local\\programs\\python\\python310\\lib\\site-packages)\n",
      "WARNING: Ignoring invalid distribution -ywin32 (c:\\users\\ginny\\appdata\\roaming\\python\\python310\\site-packages)\n",
      "WARNING: Ignoring invalid distribution -ensorflow (c:\\users\\ginny\\appdata\\local\\programs\\python\\python310\\lib\\site-packages)\n",
      "\n",
      "[notice] A new release of pip is available: 23.0.1 -> 23.1\n",
      "[notice] To update, run: python.exe -m pip install --upgrade pip\n"
     ]
    },
    {
     "name": "stdout",
     "output_type": "stream",
     "text": [
      "Requirement already satisfied: requests in c:\\users\\ginny\\appdata\\local\\programs\\python\\python310\\lib\\site-packages (2.28.1)\n",
      "Requirement already satisfied: certifi>=2017.4.17 in c:\\users\\ginny\\appdata\\local\\programs\\python\\python310\\lib\\site-packages (from requests) (2022.6.15)\n",
      "Requirement already satisfied: idna<4,>=2.5 in c:\\users\\ginny\\appdata\\local\\programs\\python\\python310\\lib\\site-packages (from requests) (3.3)\n",
      "Requirement already satisfied: charset-normalizer<3,>=2 in c:\\users\\ginny\\appdata\\local\\programs\\python\\python310\\lib\\site-packages (from requests) (2.1.0)\n",
      "Requirement already satisfied: urllib3<1.27,>=1.21.1 in c:\\users\\ginny\\appdata\\local\\programs\\python\\python310\\lib\\site-packages (from requests) (1.26.11)\n",
      "Note: you may need to restart the kernel to use updated packages.\n"
     ]
    },
    {
     "name": "stderr",
     "output_type": "stream",
     "text": [
      "WARNING: Ignoring invalid distribution -ywin32 (c:\\users\\ginny\\appdata\\roaming\\python\\python310\\site-packages)\n",
      "WARNING: Ignoring invalid distribution -ensorflow (c:\\users\\ginny\\appdata\\local\\programs\\python\\python310\\lib\\site-packages)\n",
      "WARNING: Ignoring invalid distribution -ywin32 (c:\\users\\ginny\\appdata\\roaming\\python\\python310\\site-packages)\n",
      "WARNING: Ignoring invalid distribution -ensorflow (c:\\users\\ginny\\appdata\\local\\programs\\python\\python310\\lib\\site-packages)\n",
      "WARNING: Ignoring invalid distribution -ywin32 (c:\\users\\ginny\\appdata\\roaming\\python\\python310\\site-packages)\n",
      "WARNING: Ignoring invalid distribution -ensorflow (c:\\users\\ginny\\appdata\\local\\programs\\python\\python310\\lib\\site-packages)\n",
      "WARNING: Ignoring invalid distribution -ywin32 (c:\\users\\ginny\\appdata\\roaming\\python\\python310\\site-packages)\n",
      "WARNING: Ignoring invalid distribution -ensorflow (c:\\users\\ginny\\appdata\\local\\programs\\python\\python310\\lib\\site-packages)\n",
      "WARNING: Ignoring invalid distribution -ywin32 (c:\\users\\ginny\\appdata\\roaming\\python\\python310\\site-packages)\n",
      "WARNING: Ignoring invalid distribution -ensorflow (c:\\users\\ginny\\appdata\\local\\programs\\python\\python310\\lib\\site-packages)\n",
      "WARNING: Ignoring invalid distribution -ywin32 (c:\\users\\ginny\\appdata\\roaming\\python\\python310\\site-packages)\n",
      "WARNING: Ignoring invalid distribution -ensorflow (c:\\users\\ginny\\appdata\\local\\programs\\python\\python310\\lib\\site-packages)\n",
      "\n",
      "[notice] A new release of pip is available: 23.0.1 -> 23.1\n",
      "[notice] To update, run: python.exe -m pip install --upgrade pip\n"
     ]
    },
    {
     "name": "stdout",
     "output_type": "stream",
     "text": [
      "Collecting gensim==3.6.0\n",
      "  Downloading gensim-3.6.0.tar.gz (23.1 MB)\n",
      "     ---------------------------------------- 23.1/23.1 MB 7.4 MB/s eta 0:00:00\n",
      "  Preparing metadata (setup.py): started\n",
      "  Preparing metadata (setup.py): finished with status 'done'\n",
      "Requirement already satisfied: numpy>=1.11.3 in c:\\users\\ginny\\appdata\\local\\programs\\python\\python310\\lib\\site-packages (from gensim==3.6.0) (1.23.4)\n",
      "Requirement already satisfied: scipy>=0.18.1 in c:\\users\\ginny\\appdata\\local\\programs\\python\\python310\\lib\\site-packages (from gensim==3.6.0) (1.8.1)\n",
      "Requirement already satisfied: six>=1.5.0 in c:\\users\\ginny\\appdata\\roaming\\python\\python310\\site-packages (from gensim==3.6.0) (1.16.0)\n",
      "Collecting smart_open>=1.2.1\n",
      "  Downloading smart_open-6.3.0-py3-none-any.whl (56 kB)\n",
      "     ---------------------------------------- 56.8/56.8 kB 3.1 MB/s eta 0:00:00\n",
      "Building wheels for collected packages: gensim\n",
      "  Building wheel for gensim (setup.py): started\n",
      "  Building wheel for gensim (setup.py): finished with status 'done'\n",
      "  Created wheel for gensim: filename=gensim-3.6.0-cp310-cp310-win_amd64.whl size=23559240 sha256=0ffb2d2aa067f15190e13268f1934b2a0f75568c132303656a2141afb5a2c547\n",
      "  Stored in directory: c:\\users\\ginny\\appdata\\local\\pip\\cache\\wheels\\00\\e8\\47\\96f55c3144a5ea3537f549f7a97607011f5004b9f13fa8dcc5\n",
      "Successfully built gensim\n",
      "Installing collected packages: smart_open, gensim\n",
      "Successfully installed gensim-3.6.0 smart_open-6.3.0\n",
      "Note: you may need to restart the kernel to use updated packages.\n"
     ]
    },
    {
     "name": "stderr",
     "output_type": "stream",
     "text": [
      "WARNING: Ignoring invalid distribution -ywin32 (c:\\users\\ginny\\appdata\\roaming\\python\\python310\\site-packages)\n",
      "WARNING: Ignoring invalid distribution -ensorflow (c:\\users\\ginny\\appdata\\local\\programs\\python\\python310\\lib\\site-packages)\n",
      "WARNING: Ignoring invalid distribution -ywin32 (c:\\users\\ginny\\appdata\\roaming\\python\\python310\\site-packages)\n",
      "WARNING: Ignoring invalid distribution -ensorflow (c:\\users\\ginny\\appdata\\local\\programs\\python\\python310\\lib\\site-packages)\n",
      "WARNING: Ignoring invalid distribution -ywin32 (c:\\users\\ginny\\appdata\\roaming\\python\\python310\\site-packages)\n",
      "WARNING: Ignoring invalid distribution -ensorflow (c:\\users\\ginny\\appdata\\local\\programs\\python\\python310\\lib\\site-packages)\n",
      "WARNING: Ignoring invalid distribution -ensorflow (c:\\users\\ginny\\appdata\\local\\programs\\python\\python310\\lib\\site-packages)\n",
      "WARNING: Ignoring invalid distribution -ensorflow (c:\\users\\ginny\\appdata\\local\\programs\\python\\python310\\lib\\site-packages)\n",
      "WARNING: Ignoring invalid distribution -ywin32 (c:\\users\\ginny\\appdata\\roaming\\python\\python310\\site-packages)\n",
      "WARNING: Ignoring invalid distribution -ensorflow (c:\\users\\ginny\\appdata\\local\\programs\\python\\python310\\lib\\site-packages)\n",
      "WARNING: Ignoring invalid distribution -ywin32 (c:\\users\\ginny\\appdata\\roaming\\python\\python310\\site-packages)\n",
      "WARNING: Ignoring invalid distribution -ensorflow (c:\\users\\ginny\\appdata\\local\\programs\\python\\python310\\lib\\site-packages)\n",
      "WARNING: Ignoring invalid distribution -ywin32 (c:\\users\\ginny\\appdata\\roaming\\python\\python310\\site-packages)\n",
      "WARNING: Ignoring invalid distribution -ensorflow (c:\\users\\ginny\\appdata\\local\\programs\\python\\python310\\lib\\site-packages)\n",
      "\n",
      "[notice] A new release of pip is available: 23.0.1 -> 23.1\n",
      "[notice] To update, run: python.exe -m pip install --upgrade pip\n"
     ]
    }
   ],
   "source": [
    "%pip install BeautifulSoup4\n",
    "%pip install requests\n",
    "%pip install gensim==3.6.0\n"
   ]
  },
  {
   "cell_type": "code",
   "execution_count": 2,
   "metadata": {},
   "outputs": [],
   "source": [
    "# Reads headlines.txt file into list \n",
    "def read_file(filename):\n",
    "    with open(filename, 'r') as f:\n",
    "        each_line = f.readlines()\n",
    "        headlines = []\n",
    "        for word in each_line:\n",
    "            if word.isalpha():\n",
    "                each_line = each_line.replace(word, word.lower())       \n",
    "        for line in each_line:\n",
    "            line = line.strip()\n",
    "            if line:\n",
    "                headlines.append(line)\n",
    "        return headlines\n",
    "    \n",
    "# Reads populat_topics.txt file and returns list\n",
    "def read_file_word(filename):\n",
    "    with open(filename, 'r') as f:\n",
    "        each_line = f.read().split()\n",
    "        return each_line\n",
    "\n",
    "# Read links file into list    \n",
    "def read_links(filename):\n",
    "    with open(filename, 'r') as l:\n",
    "        links = [line.strip() for line in l]\n",
    "        return links"
   ]
  },
  {
   "cell_type": "code",
   "execution_count": 3,
   "metadata": {},
   "outputs": [],
   "source": [
    "# Gets the headlines that have the top words\n",
    "words = read_file_word('popular_topics.txt')\n",
    "headlines = read_file('headlines.txt')\n",
    "popular_headlines = []\n",
    "for word in words:\n",
    "    for headline in headlines:\n",
    "        if word in headline.split():\n",
    "            popular_headlines.append(headline)\n",
    "        else:\n",
    "            continue"
   ]
  },
  {
   "cell_type": "code",
   "execution_count": 4,
   "metadata": {},
   "outputs": [],
   "source": [
    "# Find link for given headline and add it to list_links with headline\n",
    "links = read_links('links.txt')\n",
    "list_links = []\n",
    "for x in popular_headlines:\n",
    "    if x in headlines:\n",
    "        index = headlines.index(x)\n",
    "        link = links[index]\n",
    "        list_links.append(link)\n",
    "    else:\n",
    "        print(\"Headline not found.\")"
   ]
  },
  {
   "cell_type": "code",
   "execution_count": 5,
   "metadata": {},
   "outputs": [
    {
     "name": "stderr",
     "output_type": "stream",
     "text": [
      "c:\\Users\\ginny\\AppData\\Local\\Programs\\Python\\Python310\\lib\\site-packages\\numpy\\_distributor_init.py:30: UserWarning: loaded more than 1 DLL from .libs:\n",
      "c:\\Users\\ginny\\AppData\\Local\\Programs\\Python\\Python310\\lib\\site-packages\\numpy\\.libs\\libopenblas.EL2C6PLE4ZYW3ECEVIV3OXXGRN2NRFM2.gfortran-win_amd64.dll\n",
      "c:\\Users\\ginny\\AppData\\Local\\Programs\\Python\\Python310\\lib\\site-packages\\numpy\\.libs\\libopenblas.FB5AE2TYXYH2IJRDKGDGQ3XBKLKTF43H.gfortran-win_amd64.dll\n",
      "  warnings.warn(\"loaded more than 1 DLL from .libs:\"\n",
      "c:\\Users\\ginny\\AppData\\Local\\Programs\\Python\\Python310\\lib\\site-packages\\gensim\\utils.py:1212: UserWarning: detected Windows; aliasing chunkize to chunkize_serial\n",
      "  warnings.warn(\"detected Windows; aliasing chunkize to chunkize_serial\")\n"
     ]
    },
    {
     "ename": "ImportError",
     "evalue": "cannot import name 'Mapping' from 'collections' (c:\\Users\\ginny\\AppData\\Local\\Programs\\Python\\Python310\\lib\\collections\\__init__.py)",
     "output_type": "error",
     "traceback": [
      "\u001b[1;31m---------------------------------------------------------------------------\u001b[0m",
      "\u001b[1;31mImportError\u001b[0m                               Traceback (most recent call last)",
      "\u001b[1;32mc:\\Users\\ginny\\projects\\OA_RobotAstro\\back_search.ipynb Cell 5\u001b[0m in \u001b[0;36m<cell line: 4>\u001b[1;34m()\u001b[0m\n\u001b[0;32m      <a href='vscode-notebook-cell:/c%3A/Users/ginny/projects/OA_RobotAstro/back_search.ipynb#W4sZmlsZQ%3D%3D?line=1'>2</a>\u001b[0m \u001b[39mimport\u001b[39;00m \u001b[39mrequests\u001b[39;00m\n\u001b[0;32m      <a href='vscode-notebook-cell:/c%3A/Users/ginny/projects/OA_RobotAstro/back_search.ipynb#W4sZmlsZQ%3D%3D?line=2'>3</a>\u001b[0m \u001b[39mfrom\u001b[39;00m \u001b[39mbs4\u001b[39;00m \u001b[39mimport\u001b[39;00m BeautifulSoup\n\u001b[1;32m----> <a href='vscode-notebook-cell:/c%3A/Users/ginny/projects/OA_RobotAstro/back_search.ipynb#W4sZmlsZQ%3D%3D?line=3'>4</a>\u001b[0m \u001b[39mfrom\u001b[39;00m \u001b[39mgensim\u001b[39;00m\u001b[39m.\u001b[39;00m\u001b[39msummarization\u001b[39;00m \u001b[39mimport\u001b[39;00m summarize\n\u001b[0;32m      <a href='vscode-notebook-cell:/c%3A/Users/ginny/projects/OA_RobotAstro/back_search.ipynb#W4sZmlsZQ%3D%3D?line=5'>6</a>\u001b[0m summary_list \u001b[39m=\u001b[39m []\n\u001b[0;32m      <a href='vscode-notebook-cell:/c%3A/Users/ginny/projects/OA_RobotAstro/back_search.ipynb#W4sZmlsZQ%3D%3D?line=6'>7</a>\u001b[0m \u001b[39m# Loop through each link\u001b[39;00m\n",
      "File \u001b[1;32mc:\\Users\\ginny\\AppData\\Local\\Programs\\Python\\Python310\\lib\\site-packages\\gensim\\__init__.py:5\u001b[0m, in \u001b[0;36m<module>\u001b[1;34m\u001b[0m\n\u001b[0;32m      1\u001b[0m \u001b[39m\"\"\"This package contains interfaces and functionality to compute pair-wise document similarities within a corpus\u001b[39;00m\n\u001b[0;32m      2\u001b[0m \u001b[39mof documents.\u001b[39;00m\n\u001b[0;32m      3\u001b[0m \u001b[39m\"\"\"\u001b[39;00m\n\u001b[1;32m----> 5\u001b[0m \u001b[39mfrom\u001b[39;00m \u001b[39mgensim\u001b[39;00m \u001b[39mimport\u001b[39;00m parsing, corpora, matutils, interfaces, models, similarities, summarization, utils  \u001b[39m# noqa:F401\u001b[39;00m\n\u001b[0;32m      6\u001b[0m \u001b[39mimport\u001b[39;00m \u001b[39mlogging\u001b[39;00m\n\u001b[0;32m      8\u001b[0m __version__ \u001b[39m=\u001b[39m \u001b[39m'\u001b[39m\u001b[39m3.6.0\u001b[39m\u001b[39m'\u001b[39m\n",
      "File \u001b[1;32mc:\\Users\\ginny\\AppData\\Local\\Programs\\Python\\Python310\\lib\\site-packages\\gensim\\corpora\\__init__.py:12\u001b[0m, in \u001b[0;36m<module>\u001b[1;34m\u001b[0m\n\u001b[0;32m     10\u001b[0m \u001b[39mfrom\u001b[39;00m \u001b[39m.\u001b[39;00m\u001b[39msvmlightcorpus\u001b[39;00m \u001b[39mimport\u001b[39;00m SvmLightCorpus  \u001b[39m# noqa:F401\u001b[39;00m\n\u001b[0;32m     11\u001b[0m \u001b[39mfrom\u001b[39;00m \u001b[39m.\u001b[39;00m\u001b[39mlowcorpus\u001b[39;00m \u001b[39mimport\u001b[39;00m LowCorpus  \u001b[39m# noqa:F401\u001b[39;00m\n\u001b[1;32m---> 12\u001b[0m \u001b[39mfrom\u001b[39;00m \u001b[39m.\u001b[39;00m\u001b[39mdictionary\u001b[39;00m \u001b[39mimport\u001b[39;00m Dictionary  \u001b[39m# noqa:F401\u001b[39;00m\n\u001b[0;32m     13\u001b[0m \u001b[39mfrom\u001b[39;00m \u001b[39m.\u001b[39;00m\u001b[39mhashdictionary\u001b[39;00m \u001b[39mimport\u001b[39;00m HashDictionary  \u001b[39m# noqa:F401\u001b[39;00m\n\u001b[0;32m     14\u001b[0m \u001b[39mfrom\u001b[39;00m \u001b[39m.\u001b[39;00m\u001b[39mwikicorpus\u001b[39;00m \u001b[39mimport\u001b[39;00m WikiCorpus  \u001b[39m# noqa:F401\u001b[39;00m\n",
      "File \u001b[1;32mc:\\Users\\ginny\\AppData\\Local\\Programs\\Python\\Python310\\lib\\site-packages\\gensim\\corpora\\dictionary.py:11\u001b[0m, in \u001b[0;36m<module>\u001b[1;34m\u001b[0m\n\u001b[0;32m      7\u001b[0m \u001b[39m\"\"\"This module implements the concept of a Dictionary -- a mapping between words and their integer ids.\"\"\"\u001b[39;00m\n\u001b[0;32m      9\u001b[0m \u001b[39mfrom\u001b[39;00m \u001b[39m__future__\u001b[39;00m \u001b[39mimport\u001b[39;00m with_statement\n\u001b[1;32m---> 11\u001b[0m \u001b[39mfrom\u001b[39;00m \u001b[39mcollections\u001b[39;00m \u001b[39mimport\u001b[39;00m Mapping, defaultdict\n\u001b[0;32m     12\u001b[0m \u001b[39mimport\u001b[39;00m \u001b[39msys\u001b[39;00m\n\u001b[0;32m     13\u001b[0m \u001b[39mimport\u001b[39;00m \u001b[39mlogging\u001b[39;00m\n",
      "\u001b[1;31mImportError\u001b[0m: cannot import name 'Mapping' from 'collections' (c:\\Users\\ginny\\AppData\\Local\\Programs\\Python\\Python310\\lib\\collections\\__init__.py)"
     ]
    }
   ],
   "source": [
    "#Summarizes content from links (1m 10s)\n",
    "import requests\n",
    "from bs4 import BeautifulSoup\n",
    "from gensim.summarization import summarize\n",
    "\n",
    "summary_list = []\n",
    "# Loop through each link\n",
    "for link in links[:63]:\n",
    "    # Download HTML content of link\n",
    "    response = requests.get(link)\n",
    "    soup = BeautifulSoup(response.text, 'html.parser')\n",
    "\n",
    "    # Extract article content\n",
    "    paragraphs = soup.find_all('p')\n",
    "    article_text = '\\n'.join([p.text for p in paragraphs])\n",
    "\n",
    "    # Summarize article content\n",
    "    summary = summarize(article_text, ratio=0.1, split=True)[0]\n",
    "\n",
    "    # Append link and summary\n",
    "    summary_list.append(summary)"
   ]
  },
  {
   "cell_type": "code",
   "execution_count": null,
   "metadata": {},
   "outputs": [
    {
     "ename": "IndexError",
     "evalue": "list index out of range",
     "output_type": "error",
     "traceback": [
      "\u001b[0;31m---------------------------------------------------------------------------\u001b[0m",
      "\u001b[0;31mIndexError\u001b[0m                                Traceback (most recent call last)",
      "\u001b[0;32m/var/folders/kn/8dwfcxtd2p3c4kzb8yj0j5pr0000gn/T/ipykernel_37814/1288127193.py\u001b[0m in \u001b[0;36m<module>\u001b[0;34m\u001b[0m\n\u001b[1;32m     13\u001b[0m     \u001b[0msummary\u001b[0m \u001b[0;34m=\u001b[0m \u001b[0msummarize\u001b[0m\u001b[0;34m(\u001b[0m\u001b[0marticle_text\u001b[0m\u001b[0;34m,\u001b[0m \u001b[0mratio\u001b[0m\u001b[0;34m=\u001b[0m\u001b[0;36m0.1\u001b[0m\u001b[0;34m,\u001b[0m \u001b[0msplit\u001b[0m\u001b[0;34m=\u001b[0m\u001b[0;32mTrue\u001b[0m\u001b[0;34m)\u001b[0m\u001b[0;34m\u001b[0m\u001b[0;34m\u001b[0m\u001b[0m\n\u001b[1;32m     14\u001b[0m     \u001b[0;31m# Append link and summary\u001b[0m\u001b[0;34m\u001b[0m\u001b[0;34m\u001b[0m\u001b[0;34m\u001b[0m\u001b[0m\n\u001b[0;32m---> 15\u001b[0;31m     \u001b[0msummary_list\u001b[0m\u001b[0;34m.\u001b[0m\u001b[0mappend\u001b[0m\u001b[0;34m(\u001b[0m\u001b[0msummary\u001b[0m\u001b[0;34m[\u001b[0m\u001b[0;36m0\u001b[0m\u001b[0;34m]\u001b[0m\u001b[0;34m)\u001b[0m\u001b[0;34m\u001b[0m\u001b[0;34m\u001b[0m\u001b[0m\n\u001b[0m",
      "\u001b[0;31mIndexError\u001b[0m: list index out of range"
     ]
    }
   ],
   "source": [
    "for link in links[63:77]:\n",
    "    # Download HTML content of link\n",
    "    headers ={'User-Agent': 'Chrome/58.0.3029.110 Safari/537.3'}\n",
    "    response = requests.get(link, headers=headers)\n",
    "    soup = BeautifulSoup(response.text, 'html.parser')\n",
    "\n",
    "    # Extract article content\n",
    "    paragraphs = soup.find_all('p')\n",
    "    article_text = '\\n'.join([p.text for p in paragraphs])\n",
    "    #print(article_text)\n",
    "\n",
    "    # Summarize article content\n",
    "    summary = summarize(article_text, ratio=0.1, split=True)\n",
    "    # Append link and summary\n",
    "    summary_list.append(summary[0])"
   ]
  }
 ],
 "metadata": {
  "kernelspec": {
   "display_name": "astrobio",
   "language": "python",
   "name": "python3"
  },
  "language_info": {
   "codemirror_mode": {
    "name": "ipython",
    "version": 3
   },
   "file_extension": ".py",
   "mimetype": "text/x-python",
   "name": "python",
   "nbconvert_exporter": "python",
   "pygments_lexer": "ipython3",
   "version": "3.10.4"
  },
  "orig_nbformat": 4
 },
 "nbformat": 4,
 "nbformat_minor": 2
}
