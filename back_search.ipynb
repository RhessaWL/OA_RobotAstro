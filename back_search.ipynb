{
 "cells": [
  {
   "cell_type": "code",
   "execution_count": 148,
   "metadata": {},
   "outputs": [],
   "source": [
    "#%pip install BeautifulSoup4\n",
    "#%pip install requests\n",
    "#%pip install gensim==3.6.0\n"
   ]
  },
  {
   "cell_type": "code",
   "execution_count": 149,
   "metadata": {},
   "outputs": [],
   "source": [
    "# Reads headlines.txt file into list \n",
    "def read_file(filename):\n",
    "    with open(filename, 'r') as f:\n",
    "        each_line = f.readlines()\n",
    "        headlines = []\n",
    "        for word in each_line:\n",
    "            if word.isalpha():\n",
    "                each_line = each_line.replace(word, word.lower())       \n",
    "        for line in each_line:\n",
    "            line = line.strip()\n",
    "            if line:\n",
    "                headlines.append(line)\n",
    "        return headlines\n",
    "    \n",
    "# Reads populat_topics.txt file and returns list\n",
    "def read_file_word(filename):\n",
    "    with open(filename, 'r') as f:\n",
    "        each_line = f.read().split()\n",
    "        return each_line\n",
    "\n",
    "# Read links file into list    \n",
    "def read_links(filename):\n",
    "    with open(filename, 'r') as l:\n",
    "        links = [line.strip() for line in l]\n",
    "        return links"
   ]
  },
  {
   "cell_type": "code",
   "execution_count": 150,
   "metadata": {},
   "outputs": [],
   "source": [
    "# Gets the headlines that have the top words\n",
    "words = read_file_word('popular_topics.txt')\n",
    "headlines = read_file('headlines.txt')\n",
    "popular_headlines = []\n",
    "for word in words:\n",
    "    for headline in headlines:\n",
    "        if word in headline.split():\n",
    "            popular_headlines.append(headline)\n",
    "        else:\n",
    "            continue"
   ]
  },
  {
   "cell_type": "code",
   "execution_count": 151,
   "metadata": {},
   "outputs": [
    {
     "data": {
      "text/plain": [
       "['What is the moon phase today? Lunar phases 2023',\n",
       " \"This is our 1st detailed look at Mars' most mysterious moon Deimos (photos)\",\n",
       " 'Tokyo company aims to be 1st business to put lander on moon',\n",
       " 'A runaway black hole has been spotted fleeing a distant galaxy',\n",
       " 'Star-forming activity in the interacting galaxy system NGC 5291 investigated with AstroSat',\n",
       " 'Hubble spotlights barred spiral galaxy UGC 678',\n",
       " 'Webb reveals early-universe prequel to huge galaxy cluster',\n",
       " 'The first black hole portrait got sharper thanks to machine learning',\n",
       " 'A runaway black hole has been spotted fleeing a distant galaxy',\n",
       " 'Black hole takes multiple bites at the cherry',\n",
       " 'Supermassive black hole movies in action',\n",
       " \"Uncovering a star's demise: Supermassive black hole tears apart a giant star\",\n",
       " \"New baby exoplanet discovered thanks to the 'wake' it leaves around its parent star\",\n",
       " 'A neutron star collision may have emitted a fast radio burst',\n",
       " \"Uncovering a star's demise: Supermassive black hole tears apart a giant star\",\n",
       " 'Earth Day: The best recipe for living in space borrows ideas from our planet',\n",
       " 'The biggest planet orbiting TRAPPIST-1 doesn’t appear to have an atmosphere',\n",
       " 'Using a computational model to study how to land on a planet safely',\n",
       " 'Seismic waves crossing Mars’ core reveal details of the Red Planet’s heart',\n",
       " 'Astronomers spotted shock waves shaking the web of the universe for the first time',\n",
       " 'Scientists detect seismic waves traveling through Martian core for the first time',\n",
       " \"New baby exoplanet discovered thanks to the 'wake' it leaves around its parent star\",\n",
       " 'Artificial intelligence to aid future exoplanet hunt',\n",
       " 'Solar activity may peak 1 year earlier than thought. Here is what it means for us',\n",
       " 'Star-forming activity in the interacting galaxy system NGC 5291 investigated with AstroSat']"
      ]
     },
     "execution_count": 151,
     "metadata": {},
     "output_type": "execute_result"
    }
   ],
   "source": [
    "popular_headlines"
   ]
  },
  {
   "cell_type": "code",
   "execution_count": 152,
   "metadata": {},
   "outputs": [],
   "source": [
    "# Find link for given headline and add it to list_links with headline\n",
    "links = read_links('links.txt')\n",
    "list_links = []\n",
    "for x in popular_headlines:\n",
    "    if x in headlines:\n",
    "        index = headlines.index(x)\n",
    "        link = links[index]\n",
    "        list_links.append(link)\n",
    "    else:\n",
    "        print(\"Headline not found.\")"
   ]
  },
  {
   "cell_type": "code",
   "execution_count": 153,
   "metadata": {},
   "outputs": [
    {
     "data": {
      "text/plain": [
       "['https://www.space.com/18880-moon-phases.html',\n",
       " 'https://www.space.com/mars-moon-deimos-image-origin-story',\n",
       " 'https://phys.org/news/2023-04-tokyo-company-aims-1st-business.html',\n",
       " 'https://www.sciencenews.org/article/runaway-black-hole-galaxy-hubble',\n",
       " 'https://phys.org/news/2023-04-star-forming-interacting-galaxy-ngc-astrosat.html',\n",
       " 'https://phys.org/news/2023-04-hubble-spotlights-barred-spiral-galaxy.html',\n",
       " 'https://phys.org/news/2023-04-webb-reveals-early-universe-prequel-huge.html',\n",
       " 'https://www.sciencenews.org/article/first-black-hole-m87-machine-learning',\n",
       " 'https://www.sciencenews.org/article/runaway-black-hole-galaxy-hubble',\n",
       " 'https://www.nature.com/articles/s41550-023-01908-y',\n",
       " 'https://www.nature.com/articles/s41550-023-01909-x',\n",
       " 'https://phys.org/news/2023-04-uncovering-star-demise-supermassive-black.html',\n",
       " 'https://www.space.com/baby-exoplanet-discovery-eso-very-large-telescope',\n",
       " 'https://www.sciencenews.org/article/neutron-star-collision-fast-radio-burst',\n",
       " 'https://phys.org/news/2023-04-uncovering-star-demise-supermassive-black.html',\n",
       " 'https://www.space.com/earth-day-recipe-living-in-space',\n",
       " 'https://www.sciencenews.org/article/jwst-planet-trappist-1b-no-atmosphere',\n",
       " 'https://phys.org/news/2023-04-planet-safely.html',\n",
       " 'https://www.sciencenews.org/article/seismic-waves-mars-core',\n",
       " 'https://www.sciencenews.org/article/shock-waves-shaking-universe-first',\n",
       " 'https://phys.org/news/2023-04-scientists-seismic-martian-core.html',\n",
       " 'https://www.space.com/baby-exoplanet-discovery-eso-very-large-telescope',\n",
       " 'https://www.space.com/ai-exoplanet-challenge',\n",
       " 'https://www.space.com/sun-solar-maximum-may-arrive-early',\n",
       " 'https://phys.org/news/2023-04-star-forming-interacting-galaxy-ngc-astrosat.html']"
      ]
     },
     "execution_count": 153,
     "metadata": {},
     "output_type": "execute_result"
    }
   ],
   "source": [
    "list_links"
   ]
  },
  {
   "cell_type": "code",
   "execution_count": 164,
   "metadata": {},
   "outputs": [],
   "source": [
    "#Summarizes content from links (1m 10s)\n",
    "import requests\n",
    "from bs4 import BeautifulSoup\n",
    "from gensim.summarization import summarize\n",
    "\n",
    "summary_list = []\n",
    "# Loop through each link\n",
    "for link in list_links:\n",
    "    # Download HTML content of link\n",
    "    headers ={'User-Agent': 'Chrome/58.0.3029.110 Safari/537.3'}\n",
    "    response = requests.get(link, headers=headers)\n",
    "    soup = BeautifulSoup(response.text, 'html.parser')\n",
    "\n",
    "    # Extract article content\n",
    "    paragraphs = soup.find_all('p')\n",
    "    article_text = '\\n'.join([p.text for p in paragraphs])\n",
    "\n",
    "    # Summarize article content\n",
    "     # Summarize article content\n",
    "    if (len(summarize(article_text, ratio=0.4, split=True)))==0:\n",
    "        summary = summarize(article_text, ratio=0.4, split=True)\n",
    "        # Append summary\n",
    "        summary_list.append(summary[0])\n",
    "    else:\n",
    "        summary = summarize(article_text, ratio=0.4, split=True)\n",
    "        # Append summary\n",
    "        summary_list.append(summary[0])"
   ]
  },
  {
   "cell_type": "code",
   "execution_count": 165,
   "metadata": {},
   "outputs": [],
   "source": [
    "# Returns nouns from string\n",
    "def return_noun(line):\n",
    "    # function to test if something is a noun\n",
    "    is_noun = lambda pos: pos[:2] == 'NN'\n",
    "    # do the nlp stuff\n",
    "    tokenized = nltk.word_tokenize(line)\n",
    "    nouns = [word for (word, pos) in nltk.pos_tag(tokenized) if is_noun(pos)]\n",
    "    return nouns"
   ]
  },
  {
   "cell_type": "code",
   "execution_count": 166,
   "metadata": {},
   "outputs": [
    {
     "name": "stderr",
     "output_type": "stream",
     "text": [
      "[nltk_data] Downloading package punkt to /Users/rhessa/nltk_data...\n",
      "[nltk_data]   Package punkt is already up-to-date!\n",
      "[nltk_data] Downloading package averaged_perceptron_tagger to\n",
      "[nltk_data]     /Users/rhessa/nltk_data...\n",
      "[nltk_data]   Package averaged_perceptron_tagger is already up-to-\n",
      "[nltk_data]       date!\n"
     ]
    },
    {
     "data": {
      "text/plain": [
       "True"
      ]
     },
     "execution_count": 166,
     "metadata": {},
     "output_type": "execute_result"
    }
   ],
   "source": [
    "#%pip install nltk\n",
    "import nltk\n",
    "nltk.download('punkt')\n",
    "nltk.download('averaged_perceptron_tagger')"
   ]
  },
  {
   "cell_type": "code",
   "execution_count": 167,
   "metadata": {},
   "outputs": [],
   "source": [
    "#%pip install xlrd\n",
    "import pandas as pd\n",
    "import difflib\n",
    "\n",
    "# Read the first Excel file into a dataframe\n",
    "df1 = pd.read_excel('NGC.xlsx', sheet_name='NGC')\n",
    "\n",
    "# Read the second Excel file into a dataframe\n",
    "df2 = pd.read_excel('mesr-mas.xls', sheet_name='Messier Objects', skiprows = 8, nrows=110, usecols=range(2))\n"
   ]
  },
  {
   "cell_type": "code",
   "execution_count": 170,
   "metadata": {},
   "outputs": [],
   "source": [
    "# Create lists for each Messier and NGC objects\n",
    "messier1 = df2.iloc[:,0].tolist()\n",
    "NGC2 = df2.iloc[:,1].dropna().tolist()\n",
    "NGC1 = df1.iloc[:,24].dropna().tolist()\n",
    "\n",
    "# Combine two NGC to find missing elements\n",
    "NGC_str = list(set(NGC1).union(set(NGC2)))\n",
    "\n",
    "# Convert to string plus catalog identifier\n",
    "messier = ['M' + str(element) for element in messier1]\n",
    "NGC = ['NGC ' + str(element).rstrip('.0') for element in NGC_str]\n",
    "\n",
    "# Create one total list\n",
    "total_list = messier+NGC\n"
   ]
  },
  {
   "cell_type": "code",
   "execution_count": 171,
   "metadata": {},
   "outputs": [
    {
     "name": "stdout",
     "output_type": "stream",
     "text": [
      "M87 found in summary: Scientists used machine learning to create a sharper image of the supermassive black hole in the galaxy M87 (right), compared with the original image (left).\n"
     ]
    }
   ],
   "source": [
    "# Compare each summary to the list of Messier objects\n",
    "import re\n",
    "object_ls = []\n",
    "for object_name in total_list:\n",
    "    for summary in summary_list:\n",
    "        if re.search(r'\\b' + object_name + r'\\b', summary):\n",
    "            print(object_name, \"found in summary:\", summary)\n",
    "            object_ls.append(object_name)"
   ]
  },
  {
   "cell_type": "code",
   "execution_count": 172,
   "metadata": {},
   "outputs": [
    {
     "data": {
      "text/plain": [
       "['M87']"
      ]
     },
     "execution_count": 172,
     "metadata": {},
     "output_type": "execute_result"
    }
   ],
   "source": [
    "object_ls"
   ]
  },
  {
   "cell_type": "code",
   "execution_count": null,
   "metadata": {},
   "outputs": [],
   "source": []
  }
 ],
 "metadata": {
  "kernelspec": {
   "display_name": "astrobio",
   "language": "python",
   "name": "python3"
  },
  "language_info": {
   "codemirror_mode": {
    "name": "ipython",
    "version": 3
   },
   "file_extension": ".py",
   "mimetype": "text/x-python",
   "name": "python",
   "nbconvert_exporter": "python",
   "pygments_lexer": "ipython3",
   "version": "3.7.13"
  },
  "orig_nbformat": 4
 },
 "nbformat": 4,
 "nbformat_minor": 2
}
