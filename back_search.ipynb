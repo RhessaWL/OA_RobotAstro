{
 "cells": [
  {
   "cell_type": "code",
   "execution_count": 1,
   "metadata": {},
   "outputs": [],
   "source": [
    "#%pip install BeautifulSoup4\n",
    "#%pip install requests\n",
    "#%pip install gensim==3.6.0\n"
   ]
  },
  {
   "cell_type": "code",
   "execution_count": 2,
   "metadata": {},
   "outputs": [],
   "source": [
    "# Reads headlines.txt file into list \n",
    "def read_file(filename):\n",
    "    with open(filename, 'r') as f:\n",
    "        each_line = f.readlines()\n",
    "        headlines = []\n",
    "        for word in each_line:\n",
    "            if word.isalpha():\n",
    "                each_line = each_line.replace(word, word.lower())       \n",
    "        for line in each_line:\n",
    "            line = line.strip()\n",
    "            if line:\n",
    "                headlines.append(line)\n",
    "        return headlines\n",
    "    \n",
    "# Reads populat_topics.txt file and returns list\n",
    "def read_file_word(filename):\n",
    "    with open(filename, 'r') as f:\n",
    "        each_line = f.read().split()\n",
    "        return each_line\n",
    "\n",
    "# Read links file into list    \n",
    "def read_links(filename):\n",
    "    with open(filename, 'r') as l:\n",
    "        links = [line.strip() for line in l]\n",
    "        return links"
   ]
  },
  {
   "cell_type": "code",
   "execution_count": 3,
   "metadata": {},
   "outputs": [],
   "source": [
    "# Gets the headlines that have the top words\n",
    "words = read_file_word('popular_topics.txt')\n",
    "headlines = read_file('headlines.txt')\n",
    "popular_headlines = []\n",
    "for word in words:\n",
    "    for headline in headlines:\n",
    "        if word in headline.split():\n",
    "            popular_headlines.append(headline)\n",
    "        else:\n",
    "            continue"
   ]
  },
  {
   "cell_type": "code",
   "execution_count": null,
   "metadata": {},
   "outputs": [],
   "source": []
  },
  {
   "cell_type": "code",
   "execution_count": 4,
   "metadata": {},
   "outputs": [],
   "source": [
    "# Find link for given headline and add it to list_links with headline\n",
    "links = read_links('links.txt')\n",
    "list_links = []\n",
    "for x in popular_headlines:\n",
    "    if x in headlines:\n",
    "        index = headlines.index(x)\n",
    "        link = links[index]\n",
    "        list_links.append(link)\n",
    "    else:\n",
    "        print(\"Headline not found.\")"
   ]
  },
  {
   "cell_type": "code",
   "execution_count": 5,
   "metadata": {},
   "outputs": [
    {
     "data": {
      "text/plain": [
       "['https://www.space.com/black-hole-jet-first-direct-image-m87',\n",
       " 'https://www.sciencenews.org/article/first-black-hole-m87-machine-learning',\n",
       " 'https://www.sciencenews.org/article/runaway-black-hole-galaxy-hubble',\n",
       " 'https://www.nature.com/articles/s41550-023-01908-y',\n",
       " 'https://www.nature.com/articles/s41550-023-01909-x',\n",
       " 'https://phys.org/news/2023-04-telescopes-image-m87-supermassive-black.html',\n",
       " 'https://phys.org/news/2023-04-uncovering-star-demise-supermassive-black.html',\n",
       " 'https://www.space.com/dragon-cloud-clues-giant-stars-birth',\n",
       " 'https://www.sciencenews.org/article/runaway-black-hole-galaxy-hubble',\n",
       " 'https://phys.org/news/2023-04-quantum-fluctuations-early-universe-creation.html',\n",
       " 'https://phys.org/news/2023-04-star-forming-interacting-galaxy-ngc-astrosat.html',\n",
       " 'https://www.space.com/baby-exoplanet-discovery-eso-very-large-telescope',\n",
       " 'https://www.sciencenews.org/article/neutron-star-collision-fast-radio-burst',\n",
       " 'https://phys.org/news/2023-04-method-layered-star-clusters.html',\n",
       " 'https://phys.org/news/2023-04-uncovering-star-demise-supermassive-black.html',\n",
       " 'https://www.space.com/18880-moon-phases.html',\n",
       " 'https://www.space.com/mars-moon-deimos-image-origin-story',\n",
       " 'https://phys.org/news/2023-04-japanese-company-high-probability-lander.html',\n",
       " 'https://www.space.com/earth-day-recipe-living-in-space',\n",
       " 'https://www.sciencenews.org/article/jwst-planet-trappist-1b-no-atmosphere',\n",
       " 'https://phys.org/news/2023-04-planet-safely.html',\n",
       " 'https://www.space.com/astronomers-find-25-repeating-fast-radio-bursts',\n",
       " 'https://www.sciencenews.org/article/neutron-star-collision-fast-radio-burst',\n",
       " 'https://www.nature.com/articles/s41550-023-01961-7',\n",
       " 'https://www.space.com/34-image-day.html',\n",
       " 'https://www.space.com/black-hole-jet-first-direct-image-m87',\n",
       " 'https://phys.org/news/2023-04-telescopes-image-m87-supermassive-black.html',\n",
       " 'https://www.space.com/dragon-cloud-clues-giant-stars-birth',\n",
       " 'https://www.sciencenews.org/article/new-stars-galaxies-james-webb-space-images',\n",
       " 'https://phys.org/news/2023-04-medium-sized-black-holes-stars-messy.html',\n",
       " 'https://www.space.com/baby-exoplanet-discovery-eso-very-large-telescope',\n",
       " 'https://www.space.com/ai-exoplanet-challenge']"
      ]
     },
     "execution_count": 5,
     "metadata": {},
     "output_type": "execute_result"
    }
   ],
   "source": [
    "list_links"
   ]
  },
  {
   "cell_type": "code",
   "execution_count": 17,
   "metadata": {},
   "outputs": [],
   "source": [
    "#Summarizes content from links (1m 10s)\n",
    "import requests\n",
    "from bs4 import BeautifulSoup\n",
    "from gensim.summarization import summarize\n",
    "\n",
    "summary_list = []\n",
    "# Loop through each link\n",
    "for link in list_links:\n",
    "    # Download HTML content of link\n",
    "    headers ={'User-Agent': 'Chrome/58.0.3029.110 Safari/537.3'}\n",
    "    response = requests.get(link, headers=headers)\n",
    "    soup = BeautifulSoup(response.text, 'html.parser')\n",
    "\n",
    "    # Extract article content\n",
    "    paragraphs = soup.find_all('p')\n",
    "    article_text = '\\n'.join([p.text for p in paragraphs])\n",
    "\n",
    "    # Summarize article content\n",
    "     # Summarize article content\n",
    "    if (len(summarize(article_text, ratio=0.4, split=True)))==0:\n",
    "        summary = summarize(article_text, ratio=0.4, split=True)\n",
    "        # Append summary\n",
    "        summary_list.append(summary[0])\n",
    "    else:\n",
    "        summary = summarize(article_text, ratio=0.4, split=True)\n",
    "        # Append summary\n",
    "        summary_list.append(summary[0])"
   ]
  },
  {
   "cell_type": "code",
   "execution_count": 18,
   "metadata": {},
   "outputs": [],
   "source": [
    "# Returns nouns from string\n",
    "def return_noun(line):\n",
    "    # function to test if something is a noun\n",
    "    is_noun = lambda pos: pos[:2] == 'NN'\n",
    "    # do the nlp stuff\n",
    "    tokenized = nltk.word_tokenize(line)\n",
    "    nouns = [word for (word, pos) in nltk.pos_tag(tokenized) if is_noun(pos)]\n",
    "    return nouns"
   ]
  },
  {
   "cell_type": "code",
   "execution_count": 8,
   "metadata": {},
   "outputs": [
    {
     "name": "stderr",
     "output_type": "stream",
     "text": [
      "[nltk_data] Downloading package punkt to /Users/rhessa/nltk_data...\n",
      "[nltk_data]   Package punkt is already up-to-date!\n",
      "[nltk_data] Downloading package averaged_perceptron_tagger to\n",
      "[nltk_data]     /Users/rhessa/nltk_data...\n",
      "[nltk_data]   Package averaged_perceptron_tagger is already up-to-\n",
      "[nltk_data]       date!\n"
     ]
    },
    {
     "data": {
      "text/plain": [
       "True"
      ]
     },
     "execution_count": 8,
     "metadata": {},
     "output_type": "execute_result"
    }
   ],
   "source": [
    "#%pip install nltk\n",
    "import nltk\n",
    "#nltk.download('punkt')\n",
    "#nltk.download('averaged_perceptron_tagger')"
   ]
  },
  {
   "cell_type": "code",
   "execution_count": 19,
   "metadata": {},
   "outputs": [],
   "source": [
    "#%pip install xlrd\n",
    "import pandas as pd\n",
    "import difflib\n",
    "\n",
    "# Read the NGC Excel file into a dataframe\n",
    "df1 = pd.read_excel('NGC.xlsx', sheet_name='NGC')\n",
    "\n",
    "# Read the Messier Excel file into a dataframe\n",
    "df2 = pd.read_excel('mesr-mas.xls', sheet_name='Messier Objects', skiprows = 8, nrows=110, usecols=range(2))\n"
   ]
  },
  {
   "cell_type": "code",
   "execution_count": 30,
   "metadata": {},
   "outputs": [],
   "source": [
    "# Create lists for each Messier and NGC objects\n",
    "messier1 = df2.iloc[:,0].tolist()\n",
    "NGC2 = df2.iloc[:,1].dropna().tolist()\n",
    "NGC1 = df1.iloc[:,24].dropna().tolist()\n",
    "\n",
    "# Combine two NGC to find missing elements\n",
    "NGC_str = list(set(NGC1).union(set(NGC2)))\n",
    "\n",
    "# Convert to string plus catalog identifier\n",
    "messier = ['M' + str(element) for element in messier1]\n",
    "NGC = ['NGC ' + str(element).rstrip('.0') for element in NGC_str]\n",
    "d_planets = ['Pluto', 'Ceres', 'Makemake', 'Haumea', 'Eris']\n",
    "mars_moons = ['Deimos', 'Phobos']\n",
    "named_jupiter_moons = ['Adrastea', 'Aitne', 'Amalthea', 'Ananke', 'Aoede', 'Arche', 'Autonoe', 'Callirrhoe', 'Callisto', 'Carme', \n",
    "                 'Carpo', 'Chaldene', 'Cyllene', 'Dia', 'Eirene', 'Elara', 'Erinome', 'Ersa', 'Euanthe', 'Eukelade', 'Eupheme', \n",
    "                 'Euporie', 'Europa', 'Eurydome', 'Ganymede', 'Harpalyke', 'Hegemone', 'Helike', 'Hermippe', 'Herse', 'Himalia', \n",
    "                 'Io', 'Iocaste', 'Isonoe', 'Jupiter LI', 'Jupiter LII', 'Kale', 'Kallichore', 'Kalyke', 'Kore', 'Leda', 'Lysithea', \n",
    "                 'Megaclite', 'Metis', 'Mneme', 'Orthosie', 'Pasiphae', 'Pasithee', 'Praxidike', 'Valetudo', 'Sinope', 'Sponde', \n",
    "                 'Taygete', 'Thebe', 'Thelxinoe', 'Themisto', 'Thyone']\n",
    "named_saturn_moons = ['Aegaeon', 'Aegir', 'Albiorix', 'Anthe', 'Atlas', 'Bebhionn', 'Bergelmir', 'Bestla', 'Calypso', 'Daphnis', \n",
    "                'Dione', 'Enceladus', 'Epimetheus', 'Erriapus', 'Farbauti', 'Fenrir', 'Fornjot', 'Greip', 'Hati', 'Helene', \n",
    "                'Hyperion', 'Hyrrokkin', 'Iapetus', 'Ijiraq', 'Janus', 'Jarnsaxa', 'Kari', 'Kiviuq', 'Loge', 'Methone', \n",
    "                'Mimas', 'Mundilfari', 'Narvi', 'Paaliaq', 'Pallene', 'Pan', 'Pandora', 'Phoebe', 'Polydeuces', 'Prometheus', \n",
    "                'Rhea', 'Siarnaq', 'Skathi', 'Skoll', 'Surtur', 'Suttungr', 'Tarqeq', 'Tarvos', 'Telesto', 'Tethys', 'Thrymyr', \n",
    "                'Titan', 'Ymir']\n",
    "named_uranus_names = ['Ariel', 'Belinda', 'Bianca', 'Caliban', 'Cordelia', 'Cressida', 'Cupid', 'Desdemona', 'Ferdinand', 'Francisco', \n",
    "              'Juliet', 'Mab', 'Margaret', 'Miranda', 'Oberon', 'Ophelia', 'Perdita', 'Portia', 'Prospero', 'Puck', 'Rosalind', \n",
    "              'Setebos', 'Stephano', 'Sycorax', 'Titania', 'Trinculo', 'Umbriel']\n",
    "named_neptune_moons = ['Despina', 'Galatea', 'Halimede', 'Hippocamp', 'Laomedeia', 'Larissa', 'Naiad', 'Nereid', 'Neso', 'Proteus', \n",
    "              'Psamathe', 'Sao', 'Thalassa', 'Triton']\n",
    "named_pluto_moons = ['Charon', 'Hydra', 'Kerberos', 'Nix', 'Styx']\n",
    "# Create one total list\n",
    "total_list = messier+NGC+d_planets+mars_moons+named_uranus_names+named_jupiter_moons+named_neptune_moons+named_pluto_moons+named_saturn_moons\n"
   ]
  },
  {
   "cell_type": "code",
   "execution_count": 31,
   "metadata": {},
   "outputs": [],
   "source": [
    "# Compare each summary to the list of Messier objects\n",
    "import re\n",
    "object_ls = []\n",
    "for object_name in total_list:\n",
    "    for summary1 in summary_list:\n",
    "        for summary in summary1:\n",
    "            if re.search(r'\\b' + object_name + r'\\b', summary):\n",
    "                if object_name in object_ls:\n",
    "                    continue\n",
    "                else:\n",
    "                    object_ls.append(object_name)"
   ]
  },
  {
   "cell_type": "code",
   "execution_count": 32,
   "metadata": {},
   "outputs": [
    {
     "data": {
      "text/plain": [
       "['M87', 'NGC 628', 'Deimos', 'Phobos', 'Ariel', 'Ganymede', 'Pandora']"
      ]
     },
     "execution_count": 32,
     "metadata": {},
     "output_type": "execute_result"
    }
   ],
   "source": [
    "object_ls"
   ]
  },
  {
   "cell_type": "code",
   "execution_count": 33,
   "metadata": {},
   "outputs": [
    {
     "name": "stdout",
     "output_type": "stream",
     "text": [
      "Done\n"
     ]
    }
   ],
   "source": [
    "# Print to new file called 'popular topics'\n",
    "with open('final_objects.txt', 'w') as f:\n",
    "    for items in object_ls:\n",
    "        f.write(items+ '\\n')\n",
    "f.close\n",
    "print(\"Done\")"
   ]
  }
 ],
 "metadata": {
  "kernelspec": {
   "display_name": "astrobio",
   "language": "python",
   "name": "python3"
  },
  "language_info": {
   "codemirror_mode": {
    "name": "ipython",
    "version": 3
   },
   "file_extension": ".py",
   "mimetype": "text/x-python",
   "name": "python",
   "nbconvert_exporter": "python",
   "pygments_lexer": "ipython3",
   "version": "3.7.13"
  },
  "orig_nbformat": 4
 },
 "nbformat": 4,
 "nbformat_minor": 2
}
