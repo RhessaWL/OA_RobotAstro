{
 "cells": [
  {
   "cell_type": "code",
   "execution_count": 35,
   "metadata": {},
   "outputs": [
    {
     "name": "stdout",
     "output_type": "stream",
     "text": [
      "Requirement already satisfied: BeautifulSoup4 in /Users/rhessa/miniconda3/envs/astrobio/lib/python3.7/site-packages (4.11.1)\n",
      "Requirement already satisfied: soupsieve>1.2 in /Users/rhessa/miniconda3/envs/astrobio/lib/python3.7/site-packages (from BeautifulSoup4) (2.3.1)\n",
      "Note: you may need to restart the kernel to use updated packages.\n",
      "Requirement already satisfied: requests in /Users/rhessa/miniconda3/envs/astrobio/lib/python3.7/site-packages (2.28.1)\n",
      "Requirement already satisfied: urllib3<1.27,>=1.21.1 in /Users/rhessa/miniconda3/envs/astrobio/lib/python3.7/site-packages (from requests) (1.26.11)\n",
      "Requirement already satisfied: idna<4,>=2.5 in /Users/rhessa/miniconda3/envs/astrobio/lib/python3.7/site-packages (from requests) (3.3)\n",
      "Requirement already satisfied: charset-normalizer<3,>=2 in /Users/rhessa/miniconda3/envs/astrobio/lib/python3.7/site-packages (from requests) (2.0.4)\n",
      "Requirement already satisfied: certifi>=2017.4.17 in /Users/rhessa/miniconda3/envs/astrobio/lib/python3.7/site-packages (from requests) (2022.6.15)\n",
      "Note: you may need to restart the kernel to use updated packages.\n",
      "Requirement already satisfied: gensim==3.6.0 in /Users/rhessa/miniconda3/envs/astrobio/lib/python3.7/site-packages (3.6.0)\n",
      "Requirement already satisfied: scipy>=0.18.1 in /Users/rhessa/miniconda3/envs/astrobio/lib/python3.7/site-packages (from gensim==3.6.0) (1.7.3)\n",
      "Requirement already satisfied: smart-open>=1.2.1 in /Users/rhessa/miniconda3/envs/astrobio/lib/python3.7/site-packages (from gensim==3.6.0) (6.3.0)\n",
      "Requirement already satisfied: numpy>=1.11.3 in /Users/rhessa/miniconda3/envs/astrobio/lib/python3.7/site-packages (from gensim==3.6.0) (1.21.5)\n",
      "Requirement already satisfied: six>=1.5.0 in /Users/rhessa/miniconda3/envs/astrobio/lib/python3.7/site-packages (from gensim==3.6.0) (1.16.0)\n",
      "Note: you may need to restart the kernel to use updated packages.\n"
     ]
    }
   ],
   "source": [
    "%pip install BeautifulSoup4\n",
    "%pip install requests\n",
    "%pip install gensim==3.6.0\n"
   ]
  },
  {
   "cell_type": "code",
   "execution_count": 36,
   "metadata": {},
   "outputs": [],
   "source": [
    "# Reads headlines.txt file into list \n",
    "def read_file(filename):\n",
    "    with open(filename, 'r') as f:\n",
    "        each_line = f.readlines()\n",
    "        headlines = []\n",
    "        for word in each_line:\n",
    "            if word.isalpha():\n",
    "                each_line = each_line.replace(word, word.lower())       \n",
    "        for line in each_line:\n",
    "            line = line.strip()\n",
    "            if line:\n",
    "                headlines.append(line)\n",
    "        return headlines\n",
    "    \n",
    "# Reads populat_topics.txt file and returns list\n",
    "def read_file_word(filename):\n",
    "    with open(filename, 'r') as f:\n",
    "        each_line = f.read().split()\n",
    "        return each_line\n",
    "\n",
    "# Read links file into list    \n",
    "def read_links(filename):\n",
    "    with open(filename, 'r') as l:\n",
    "        links = [line.strip() for line in l]\n",
    "        return links"
   ]
  },
  {
   "cell_type": "code",
   "execution_count": 37,
   "metadata": {},
   "outputs": [],
   "source": [
    "# Gets the headlines that have the top words\n",
    "words = read_file_word('popular_topics.txt')\n",
    "headlines = read_file('headlines.txt')\n",
    "popular_headlines = []\n",
    "for word in words:\n",
    "    for headline in headlines:\n",
    "        if word in headline.split():\n",
    "            popular_headlines.append(headline)\n",
    "        else:\n",
    "            continue"
   ]
  },
  {
   "cell_type": "code",
   "execution_count": 38,
   "metadata": {},
   "outputs": [],
   "source": [
    "# Find link for given headline and add it to list_links with headline\n",
    "links = read_links('links.txt')\n",
    "list_links = []\n",
    "for x in popular_headlines:\n",
    "    if x in headlines:\n",
    "        index = headlines.index(x)\n",
    "        link = links[index]\n",
    "        list_links.append(link)\n",
    "    else:\n",
    "        print(\"Headline not found.\")"
   ]
  },
  {
   "cell_type": "code",
   "execution_count": 65,
   "metadata": {},
   "outputs": [],
   "source": [
    "#Summarizes content from links (1m 10s)\n",
    "import requests\n",
    "from bs4 import BeautifulSoup\n",
    "from gensim.summarization import summarize\n",
    "\n",
    "summary_list = []\n",
    "# Loop through each link\n",
    "for link in links[:63]:\n",
    "    # Download HTML content of link\n",
    "    response = requests.get(link)\n",
    "    soup = BeautifulSoup(response.text, 'html.parser')\n",
    "\n",
    "    # Extract article content\n",
    "    paragraphs = soup.find_all('p')\n",
    "    article_text = '\\n'.join([p.text for p in paragraphs])\n",
    "\n",
    "    # Summarize article content\n",
    "    summary = summarize(article_text, ratio=0.1, split=True)[0]\n",
    "\n",
    "    # Append link and summary\n",
    "    summary_list.append(summary)"
   ]
  },
  {
   "cell_type": "code",
   "execution_count": 66,
   "metadata": {},
   "outputs": [
    {
     "ename": "IndexError",
     "evalue": "list index out of range",
     "output_type": "error",
     "traceback": [
      "\u001b[0;31m---------------------------------------------------------------------------\u001b[0m",
      "\u001b[0;31mIndexError\u001b[0m                                Traceback (most recent call last)",
      "\u001b[0;32m/var/folders/kn/8dwfcxtd2p3c4kzb8yj0j5pr0000gn/T/ipykernel_37814/1288127193.py\u001b[0m in \u001b[0;36m<module>\u001b[0;34m\u001b[0m\n\u001b[1;32m     13\u001b[0m     \u001b[0msummary\u001b[0m \u001b[0;34m=\u001b[0m \u001b[0msummarize\u001b[0m\u001b[0;34m(\u001b[0m\u001b[0marticle_text\u001b[0m\u001b[0;34m,\u001b[0m \u001b[0mratio\u001b[0m\u001b[0;34m=\u001b[0m\u001b[0;36m0.1\u001b[0m\u001b[0;34m,\u001b[0m \u001b[0msplit\u001b[0m\u001b[0;34m=\u001b[0m\u001b[0;32mTrue\u001b[0m\u001b[0;34m)\u001b[0m\u001b[0;34m\u001b[0m\u001b[0;34m\u001b[0m\u001b[0m\n\u001b[1;32m     14\u001b[0m     \u001b[0;31m# Append link and summary\u001b[0m\u001b[0;34m\u001b[0m\u001b[0;34m\u001b[0m\u001b[0;34m\u001b[0m\u001b[0m\n\u001b[0;32m---> 15\u001b[0;31m     \u001b[0msummary_list\u001b[0m\u001b[0;34m.\u001b[0m\u001b[0mappend\u001b[0m\u001b[0;34m(\u001b[0m\u001b[0msummary\u001b[0m\u001b[0;34m[\u001b[0m\u001b[0;36m0\u001b[0m\u001b[0;34m]\u001b[0m\u001b[0;34m)\u001b[0m\u001b[0;34m\u001b[0m\u001b[0;34m\u001b[0m\u001b[0m\n\u001b[0m",
      "\u001b[0;31mIndexError\u001b[0m: list index out of range"
     ]
    }
   ],
   "source": [
    "for link in links[63:77]:\n",
    "    # Download HTML content of link\n",
    "    headers ={'User-Agent': 'Chrome/58.0.3029.110 Safari/537.3'}\n",
    "    response = requests.get(link, headers=headers)\n",
    "    soup = BeautifulSoup(response.text, 'html.parser')\n",
    "\n",
    "    # Extract article content\n",
    "    paragraphs = soup.find_all('p')\n",
    "    article_text = '\\n'.join([p.text for p in paragraphs])\n",
    "    #print(article_text)\n",
    "\n",
    "    # Summarize article content\n",
    "    summary = summarize(article_text, ratio=0.1, split=True)\n",
    "    # Append link and summary\n",
    "    summary_list.append(summary[0])"
   ]
  },
  {
   "cell_type": "code",
   "execution_count": null,
   "metadata": {},
   "outputs": [],
   "source": [
    "\n"
   ]
  },
  {
   "cell_type": "code",
   "execution_count": null,
   "metadata": {},
   "outputs": [],
   "source": []
  }
 ],
 "metadata": {
  "kernelspec": {
   "display_name": "astrobio",
   "language": "python",
   "name": "python3"
  },
  "language_info": {
   "codemirror_mode": {
    "name": "ipython",
    "version": 3
   },
   "file_extension": ".py",
   "mimetype": "text/x-python",
   "name": "python",
   "nbconvert_exporter": "python",
   "pygments_lexer": "ipython3",
   "version": "3.7.13"
  },
  "orig_nbformat": 4
 },
 "nbformat": 4,
 "nbformat_minor": 2
}
