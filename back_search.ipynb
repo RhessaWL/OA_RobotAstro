{
 "cells": [
  {
   "cell_type": "code",
   "execution_count": 2,
   "metadata": {},
   "outputs": [
    {
     "name": "stdout",
     "output_type": "stream",
     "text": [
      "Requirement already satisfied: BeautifulSoup4 in /Users/rhessa/miniconda3/envs/astrobio/lib/python3.7/site-packages (4.11.1)\n",
      "Requirement already satisfied: soupsieve>1.2 in /Users/rhessa/miniconda3/envs/astrobio/lib/python3.7/site-packages (from BeautifulSoup4) (2.3.1)\n",
      "Note: you may need to restart the kernel to use updated packages.\n",
      "Requirement already satisfied: requests in /Users/rhessa/miniconda3/envs/astrobio/lib/python3.7/site-packages (2.28.1)\n",
      "Requirement already satisfied: idna<4,>=2.5 in /Users/rhessa/miniconda3/envs/astrobio/lib/python3.7/site-packages (from requests) (3.3)\n",
      "Requirement already satisfied: urllib3<1.27,>=1.21.1 in /Users/rhessa/miniconda3/envs/astrobio/lib/python3.7/site-packages (from requests) (1.26.11)\n",
      "Requirement already satisfied: charset-normalizer<3,>=2 in /Users/rhessa/miniconda3/envs/astrobio/lib/python3.7/site-packages (from requests) (2.0.4)\n",
      "Requirement already satisfied: certifi>=2017.4.17 in /Users/rhessa/miniconda3/envs/astrobio/lib/python3.7/site-packages (from requests) (2022.6.15)\n",
      "Note: you may need to restart the kernel to use updated packages.\n",
      "Requirement already satisfied: gensim==3.6.0 in /Users/rhessa/miniconda3/envs/astrobio/lib/python3.7/site-packages (3.6.0)\n",
      "Requirement already satisfied: scipy>=0.18.1 in /Users/rhessa/miniconda3/envs/astrobio/lib/python3.7/site-packages (from gensim==3.6.0) (1.7.3)\n",
      "Requirement already satisfied: smart-open>=1.2.1 in /Users/rhessa/miniconda3/envs/astrobio/lib/python3.7/site-packages (from gensim==3.6.0) (6.3.0)\n",
      "Requirement already satisfied: numpy>=1.11.3 in /Users/rhessa/miniconda3/envs/astrobio/lib/python3.7/site-packages (from gensim==3.6.0) (1.21.5)\n",
      "Requirement already satisfied: six>=1.5.0 in /Users/rhessa/miniconda3/envs/astrobio/lib/python3.7/site-packages (from gensim==3.6.0) (1.16.0)\n",
      "Note: you may need to restart the kernel to use updated packages.\n"
     ]
    }
   ],
   "source": [
    "%pip install BeautifulSoup4\n",
    "%pip install requests\n",
    "%pip install gensim==3.6.0\n"
   ]
  },
  {
   "cell_type": "code",
   "execution_count": 3,
   "metadata": {},
   "outputs": [],
   "source": [
    "# Reads headlines.txt file into list \n",
    "def read_file(filename):\n",
    "    with open(filename, 'r') as f:\n",
    "        each_line = f.readlines()\n",
    "        headlines = []\n",
    "        for word in each_line:\n",
    "            if word.isalpha():\n",
    "                each_line = each_line.replace(word, word.lower())       \n",
    "        for line in each_line:\n",
    "            line = line.strip()\n",
    "            if line:\n",
    "                headlines.append(line)\n",
    "        return headlines\n",
    "    \n",
    "# Reads populat_topics.txt file and returns list\n",
    "def read_file_word(filename):\n",
    "    with open(filename, 'r') as f:\n",
    "        each_line = f.read().split()\n",
    "        return each_line\n",
    "\n",
    "# Read links file into list    \n",
    "def read_links(filename):\n",
    "    with open(filename, 'r') as l:\n",
    "        links = [line.strip() for line in l]\n",
    "        return links"
   ]
  },
  {
   "cell_type": "code",
   "execution_count": 4,
   "metadata": {},
   "outputs": [],
   "source": [
    "# Gets the headlines that have the top words\n",
    "words = read_file_word('popular_topics.txt')\n",
    "headlines = read_file('headlines.txt')\n",
    "popular_headlines = []\n",
    "for word in words:\n",
    "    for headline in headlines:\n",
    "        if word in headline.split():\n",
    "            popular_headlines.append(headline)\n",
    "        else:\n",
    "            continue"
   ]
  },
  {
   "cell_type": "code",
   "execution_count": 5,
   "metadata": {},
   "outputs": [],
   "source": [
    "# Find link for given headline and add it to list_links with headline\n",
    "links = read_links('links.txt')\n",
    "list_links = []\n",
    "for x in popular_headlines:\n",
    "    if x in headlines:\n",
    "        index = headlines.index(x)\n",
    "        link = links[index]\n",
    "        list_links.append(link)\n",
    "    else:\n",
    "        print(\"Headline not found.\")"
   ]
  },
  {
   "cell_type": "code",
   "execution_count": 6,
   "metadata": {},
   "outputs": [
    {
     "data": {
      "text/plain": [
       "32"
      ]
     },
     "execution_count": 6,
     "metadata": {},
     "output_type": "execute_result"
    }
   ],
   "source": [
    "len(list_links)"
   ]
  },
  {
   "cell_type": "code",
   "execution_count": 10,
   "metadata": {},
   "outputs": [],
   "source": [
    "#Summarizes content from links (1m 10s)\n",
    "import requests\n",
    "from bs4 import BeautifulSoup\n",
    "from gensim.summarization import summarize\n",
    "\n",
    "summary_list = []\n",
    "# Loop through each link\n",
    "for link in list_links[:6]:\n",
    "    # Download HTML content of link\n",
    "    response = requests.get(link)\n",
    "    soup = BeautifulSoup(response.text, 'html.parser')\n",
    "\n",
    "    # Extract article content\n",
    "    paragraphs = soup.find_all('p')\n",
    "    article_text = '\\n'.join([p.text for p in paragraphs])\n",
    "\n",
    "    # Summarize article content\n",
    "    summary = summarize(article_text, ratio=0.1, split=True)[0]\n",
    "\n",
    "    # Append link and summary\n",
    "    summary_list.append(summary)"
   ]
  },
  {
   "cell_type": "code",
   "execution_count": 11,
   "metadata": {},
   "outputs": [],
   "source": [
    "# finds the rest of the summaries to a list, needed an alternate code (15.4s)\n",
    "for link in list_links[6:]:\n",
    "    # Download HTML content of link\n",
    "    headers ={'User-Agent': 'Chrome/58.0.3029.110 Safari/537.3'}\n",
    "    response = requests.get(link, headers=headers)\n",
    "    soup = BeautifulSoup(response.text, 'html.parser')\n",
    "\n",
    "    # Extracts article content\n",
    "    paragraphs = soup.find_all('p')\n",
    "    article_text = '\\n'.join([p.text for p in paragraphs])\n",
    "    #print(article_text)\n",
    "\n",
    "    # Summarize the article content\n",
    "    summary = summarize(article_text, ratio=0.1, split=True)\n",
    "    # Append link and summary\n",
    "    summary_list.append(summary[0])"
   ]
  },
  {
   "cell_type": "code",
   "execution_count": 12,
   "metadata": {},
   "outputs": [
    {
     "data": {
      "text/plain": [
       "[\"Callisto is Jupiter's second-largest moon and the outermost of the Galilean satellites.\",\n",
       " 'Today, April 20, 2023, the moon is 30 days old and is currently in the New Moon phase\\xa0of its lunar cycle.',\n",
       " \"Students at Carnegie Mellon University are sending America's first robotic lunar rover to the moon this May, beating NASA to the punch by about a year.\",\n",
       " 'Scientists gathered at a conference in Wuhan this week confirm that they are looking at 3D printing bricks using materials from the lunar surface, China Science Daily reported (opens in new tab).',\n",
       " \"The U.S. agency will provide 2 instruments on Japan's Martian Moons Exploration mission to collect samples of the Mars moon Phobos.\",\n",
       " 'On June 28, 2022, CAPSTONE launched into space on a dedicated rocket as the first mission of the Artemis program, ushering in a new generation of lunar exploration, development and settlement.',\n",
       " 'The lunar far side is permanently shielded from the radio signals generated by humans on Earth.',\n",
       " \"As NASA builds a blueprint for human exploration throughout the solar system for the benefit of humanity, the agency released Tuesday the outcomes from its first Architecture Concept Review, a robust analysis process designed to align NASA's moon to Mars exploration strategy and codify the supporting architecture.\",\n",
       " 'For example, Clancy lays out emerging evidence on menstrual priming, the idea that each time the body prepares the lining of the uterus for a possible embryo and then repairs the lining during menstruation, it’s conditioning the uterus to better provide a rich and nourishing site for an eventual pregnancy.',\n",
       " 'New JWST images of face-on spiral galaxies like NGC 628 (shown) reveal whorls of gas and dust, pockmarked with dark voids.',\n",
       " 'The gravitational influence of supermassive black holes (SMBHs) is such that any unfortunate stars that cross into the SMBH’s tidal radius can be pulled apart by strong tidal forces, and eventually their material falls onto the SMBH’s accretion disk, generating a flare of high-energy radiation.',\n",
       " 'The Event Horizon Telescope (EHT) is expanding to include a site (or two) in Africa.',\n",
       " 'Though the mysterious object is a hypothetical mathematical construction, new simulations by Johns Hopkins researchers suggest there could be other celestial bodies in space hiding from even the best telescopes on Earth.',\n",
       " 'Exoplanet TRAPPIST-1b (illustrated), which circles a star nearly 40 light-years from Earth, probably has little or no atmosphere, a new study suggests.',\n",
       " \"By analyzing the data from the 104-cm Sampurnanand Telescope (ST) and ESA's Gaia satellite, astronomers from India have inspected a Galactic open cluster known as NGC 1027.\",\n",
       " \"So if we want to talk about how big Betelgeuse is, it's much more convenient to use the radius of the sun as our unit, instead of the radius of Earth (or to describe it as 632 billion Astros).\",\n",
       " 'A newly released JWST photo captures two galaxies collectively called Arp 220, which are now merging 250 million light-years from Earth in the constellation Serpens (the Serpent).',\n",
       " 'So rather than adding even more thermal energy to the atmosphere, as previously thought, methane’s solar absorption sets off a cascade of events that reduces its overall warming effect by about 30 percent, researchers report March 16 in Nature Geoscience.',\n",
       " 'By gathering evidence that the distribution of galaxies more than tens of millions of light years away is subject to the gravitational effects of dark matter, the team succeeded in testing general theory of gravity at vast spatial scales.',\n",
       " 'Recent observations from the Very Large Array (VLA) radio telescopes in New Mexico revealed evidence of a magnetic field on the rocky exoplanet YZ Ceti b, which orbits a star about 12 light-years away from Earth.',\n",
       " '“Lights Out,” open through 2025 at the Smithsonian National Museum of Natural History in Washington, D.C., illuminates how light pollution is affecting astronomy, natural ecosystems and human cultures around the world.',\n",
       " 'With this larger sample of 305 apparent non-repeaters and 40 rFRBs detected with CHIME, these previous differences are confirmed.',\n",
       " 'Using data from the largest SETI project to date, Breakthrough Listen, the team looked for potential radio technosignatures from extragalactic sources.',\n",
       " 'Rare solar eclipse to cross remote Australia, Indonesia (2023, April 19)',\n",
       " \"The U.S. agency will provide 2 instruments on Japan's Martian Moons Exploration mission to collect samples of the Mars moon Phobos.\",\n",
       " \"On 30 April 2023, all nominal operations of Aeolus, the first mission to observe Earth's wind profiles on a global scale, will conclude in preparation for a series of end of life activities.\",\n",
       " \"Our solar system's blue gas giant is far larger than Earth, at more than 17 times Earth's mass and nearly 58 times Earth's volume, according to NASA (opens in new tab).\",\n",
       " 'Recent observations from the Very Large Array (VLA) radio telescopes in New Mexico revealed evidence of a magnetic field on the rocky exoplanet YZ Ceti b, which orbits a star about 12 light-years away from Earth.',\n",
       " 'A fresh analysis of W boson measurements from the ATLAS experiment (pictured) at CERN’s Large Hadron Collider is in close agreement with theory and at odds with a heavy W boson mass announced last year.',\n",
       " 'On June 28, 2022, CAPSTONE launched into space on a dedicated rocket as the first mission of the Artemis program, ushering in a new generation of lunar exploration, development and settlement.',\n",
       " 'A new brain-mapping study tweaks what we know about how an area of the brain called the primary motor cortex controls our movements.',\n",
       " \"A vital subsystem for NASA's Nancy Grace Roman Space Telescope was recently delivered to Ball Aerospace in Boulder, Colorado, and installed in the spacecraft's Wide Field Instrument (WFI).\"]"
      ]
     },
     "execution_count": 12,
     "metadata": {},
     "output_type": "execute_result"
    }
   ],
   "source": [
    "summary_list"
   ]
  },
  {
   "cell_type": "code",
   "execution_count": 13,
   "metadata": {},
   "outputs": [],
   "source": [
    "# Returns nouns from string\n",
    "def return_noun(line):\n",
    "    # function to test if something is a noun\n",
    "    is_noun = lambda pos: pos[:2] == 'NN'\n",
    "    # do the nlp stuff\n",
    "    tokenized = nltk.word_tokenize(line)\n",
    "    nouns = [word for (word, pos) in nltk.pos_tag(tokenized) if is_noun(pos)]\n",
    "    return nouns"
   ]
  },
  {
   "cell_type": "code",
   "execution_count": 14,
   "metadata": {},
   "outputs": [
    {
     "name": "stdout",
     "output_type": "stream",
     "text": [
      "Requirement already satisfied: nltk in /Users/rhessa/miniconda3/envs/astrobio/lib/python3.7/site-packages (3.8.1)\n",
      "Requirement already satisfied: click in /Users/rhessa/miniconda3/envs/astrobio/lib/python3.7/site-packages (from nltk) (8.1.3)\n",
      "Requirement already satisfied: tqdm in /Users/rhessa/miniconda3/envs/astrobio/lib/python3.7/site-packages (from nltk) (4.65.0)\n",
      "Requirement already satisfied: regex>=2021.8.3 in /Users/rhessa/miniconda3/envs/astrobio/lib/python3.7/site-packages (from nltk) (2022.10.31)\n",
      "Requirement already satisfied: joblib in /Users/rhessa/miniconda3/envs/astrobio/lib/python3.7/site-packages (from nltk) (1.2.0)\n",
      "Requirement already satisfied: importlib-metadata in /Users/rhessa/miniconda3/envs/astrobio/lib/python3.7/site-packages (from click->nltk) (4.11.3)\n",
      "Requirement already satisfied: zipp>=0.5 in /Users/rhessa/miniconda3/envs/astrobio/lib/python3.7/site-packages (from importlib-metadata->click->nltk) (3.8.0)\n",
      "Requirement already satisfied: typing-extensions>=3.6.4 in /Users/rhessa/miniconda3/envs/astrobio/lib/python3.7/site-packages (from importlib-metadata->click->nltk) (4.3.0)\n",
      "Note: you may need to restart the kernel to use updated packages.\n"
     ]
    },
    {
     "name": "stderr",
     "output_type": "stream",
     "text": [
      "[nltk_data] Downloading package punkt to /Users/rhessa/nltk_data...\n",
      "[nltk_data]   Package punkt is already up-to-date!\n",
      "[nltk_data] Downloading package averaged_perceptron_tagger to\n",
      "[nltk_data]     /Users/rhessa/nltk_data...\n",
      "[nltk_data]   Package averaged_perceptron_tagger is already up-to-\n",
      "[nltk_data]       date!\n"
     ]
    },
    {
     "data": {
      "text/plain": [
       "True"
      ]
     },
     "execution_count": 14,
     "metadata": {},
     "output_type": "execute_result"
    }
   ],
   "source": [
    "%pip install nltk\n",
    "import nltk\n",
    "nltk.download('punkt')\n",
    "nltk.download('averaged_perceptron_tagger')"
   ]
  },
  {
   "cell_type": "code",
   "execution_count": 22,
   "metadata": {},
   "outputs": [
    {
     "ename": "AttributeError",
     "evalue": "'dict' object has no attribute 'snippet'",
     "output_type": "error",
     "traceback": [
      "\u001b[0;31m---------------------------------------------------------------------------\u001b[0m",
      "\u001b[0;31mAttributeError\u001b[0m                            Traceback (most recent call last)",
      "\u001b[0;32m/var/folders/kn/8dwfcxtd2p3c4kzb8yj0j5pr0000gn/T/ipykernel_44073/2019599932.py\u001b[0m in \u001b[0;36m<module>\u001b[0;34m\u001b[0m\n\u001b[1;32m     15\u001b[0m \u001b[0;34m\u001b[0m\u001b[0m\n\u001b[1;32m     16\u001b[0m \u001b[0;32mfor\u001b[0m \u001b[0mpage\u001b[0m \u001b[0;32min\u001b[0m \u001b[0mpages\u001b[0m\u001b[0;34m:\u001b[0m\u001b[0;34m\u001b[0m\u001b[0;34m\u001b[0m\u001b[0m\n\u001b[0;32m---> 17\u001b[0;31m     \u001b[0;32mif\u001b[0m \u001b[0;34m'astronomical object'\u001b[0m \u001b[0;32min\u001b[0m \u001b[0mpage\u001b[0m\u001b[0;34m.\u001b[0m\u001b[0msnippet\u001b[0m \u001b[0;32mor\u001b[0m \u001b[0;34m'messier'\u001b[0m \u001b[0;32min\u001b[0m \u001b[0mpage\u001b[0m\u001b[0;34m[\u001b[0m\u001b[0;34m'snippet'\u001b[0m\u001b[0;34m]\u001b[0m\u001b[0;34m.\u001b[0m\u001b[0mlower\u001b[0m\u001b[0;34m(\u001b[0m\u001b[0;34m)\u001b[0m\u001b[0;34m:\u001b[0m\u001b[0;34m\u001b[0m\u001b[0;34m\u001b[0m\u001b[0m\n\u001b[0m\u001b[1;32m     18\u001b[0m         \u001b[0mastronomical_objects\u001b[0m\u001b[0;34m.\u001b[0m\u001b[0mappend\u001b[0m\u001b[0;34m(\u001b[0m\u001b[0mpage\u001b[0m\u001b[0;34m[\u001b[0m\u001b[0;34m'title'\u001b[0m\u001b[0;34m]\u001b[0m\u001b[0;34m)\u001b[0m\u001b[0;34m\u001b[0m\u001b[0;34m\u001b[0m\u001b[0m\n",
      "\u001b[0;31mAttributeError\u001b[0m: 'dict' object has no attribute 'snippet'"
     ]
    }
   ],
   "source": [
    "# Doesnt work yet\n",
    "import requests\n",
    "\n",
    "response = requests.get('https://en.wikipedia.org/w/api.php',\n",
    "                        params={'action': 'query',\n",
    "                                'format': 'json',\n",
    "                                'list': 'search',\n",
    "                                'srsearch': 'astronomical objects',\n",
    "                                'srprop': 'size',\n",
    "                                'utf8': 1,\n",
    "                                'formatversion': 2})\n",
    " \n",
    "pages = response.json()['query']['search']\n",
    "\n",
    "astronomical_objects = []\n",
    "\n",
    "for page in pages:\n",
    "    if 'astronomical object' in page['snippet'] or 'messier' in page['snippet'].lower():\n",
    "        astronomical_objects.append(page['title'])"
   ]
  },
  {
   "cell_type": "code",
   "execution_count": 25,
   "metadata": {},
   "outputs": [
    {
     "ename": "KeyError",
     "evalue": "'snippet'",
     "output_type": "error",
     "traceback": [
      "\u001b[0;31m---------------------------------------------------------------------------\u001b[0m",
      "\u001b[0;31mKeyError\u001b[0m                                  Traceback (most recent call last)",
      "\u001b[0;32m/var/folders/kn/8dwfcxtd2p3c4kzb8yj0j5pr0000gn/T/ipykernel_44073/3000185915.py\u001b[0m in \u001b[0;36m<module>\u001b[0;34m\u001b[0m\n\u001b[0;32m----> 1\u001b[0;31m \u001b[0mpage\u001b[0m\u001b[0;34m[\u001b[0m\u001b[0;34m'snippet'\u001b[0m\u001b[0;34m]\u001b[0m\u001b[0;34m\u001b[0m\u001b[0;34m\u001b[0m\u001b[0m\n\u001b[0m",
      "\u001b[0;31mKeyError\u001b[0m: 'snippet'"
     ]
    }
   ],
   "source": [
    "page['snippet']"
   ]
  },
  {
   "cell_type": "code",
   "execution_count": 18,
   "metadata": {},
   "outputs": [
    {
     "data": {
      "text/plain": [
       "32"
      ]
     },
     "execution_count": 18,
     "metadata": {},
     "output_type": "execute_result"
    }
   ],
   "source": [
    "len(astronomical_objects)"
   ]
  },
  {
   "cell_type": "code",
   "execution_count": null,
   "metadata": {},
   "outputs": [],
   "source": []
  }
 ],
 "metadata": {
  "kernelspec": {
   "display_name": "astrobio",
   "language": "python",
   "name": "python3"
  },
  "language_info": {
   "codemirror_mode": {
    "name": "ipython",
    "version": 3
   },
   "file_extension": ".py",
   "mimetype": "text/x-python",
   "name": "python",
   "nbconvert_exporter": "python",
   "pygments_lexer": "ipython3",
   "version": "3.7.13"
  },
  "orig_nbformat": 4
 },
 "nbformat": 4,
 "nbformat_minor": 2
}
